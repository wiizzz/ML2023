{
 "cells": [
  {
   "attachments": {},
   "cell_type": "markdown",
   "id": "ca2d542b",
   "metadata": {
    "id": "YiVfKn-6tXz8",
    "papermill": {
     "duration": 0.010756,
     "end_time": "2023-05-16T12:15:53.424592",
     "exception": false,
     "start_time": "2023-05-16T12:15:53.413836",
     "status": "completed"
    },
    "tags": []
   },
   "source": [
    "# **Homework 8 - Anomaly Detection**\n",
    "\n",
    "If there are any questions, please contact mlta-2023-spring@googlegroups.com\n",
    "\n",
    "Slide:    [Link](https://docs.google.com/presentation/d/18LkR8qulwSbi3SVoLl1XNNGjQQ_qczs_35lrJWOmHCk/edit?usp=sharing)　Kaggle: [Link](https://www.kaggle.com/t/c76950cc460140eba30a576ca7668d28)"
   ]
  },
  {
   "attachments": {},
   "cell_type": "markdown",
   "id": "f011dde3",
   "metadata": {
    "id": "bDk9r2YOcDc9",
    "papermill": {
     "duration": 0.008816,
     "end_time": "2023-05-16T12:15:53.442971",
     "exception": false,
     "start_time": "2023-05-16T12:15:53.434155",
     "status": "completed"
    },
    "tags": []
   },
   "source": [
    "# Set up the environment\n"
   ]
  },
  {
   "attachments": {},
   "cell_type": "markdown",
   "id": "fb047494",
   "metadata": {
    "id": "Oi12tJMYWi0Q",
    "papermill": {
     "duration": 0.008693,
     "end_time": "2023-05-16T12:15:53.460580",
     "exception": false,
     "start_time": "2023-05-16T12:15:53.451887",
     "status": "completed"
    },
    "tags": []
   },
   "source": [
    "## Package installation"
   ]
  },
  {
   "cell_type": "code",
   "execution_count": 1,
   "id": "4e7bb21d",
   "metadata": {
    "execution": {
     "iopub.execute_input": "2023-05-16T12:15:53.481681Z",
     "iopub.status.busy": "2023-05-16T12:15:53.480731Z",
     "iopub.status.idle": "2023-05-16T12:16:08.713251Z",
     "shell.execute_reply": "2023-05-16T12:16:08.712015Z"
    },
    "id": "7LexxyPWWjJB",
    "outputId": "2039780b-43f2-49b5-ffa8-2a0c33ad2d15",
    "papermill": {
     "duration": 15.246406,
     "end_time": "2023-05-16T12:16:08.716097",
     "exception": false,
     "start_time": "2023-05-16T12:15:53.469691",
     "status": "completed"
    },
    "tags": []
   },
   "outputs": [
    {
     "name": "stdout",
     "output_type": "stream",
     "text": [
      "\u001b[33mWARNING: Running pip as the 'root' user can result in broken permissions and conflicting behaviour with the system package manager. It is recommended to use a virtual environment instead: https://pip.pypa.io/warnings/venv\u001b[0m\u001b[33m\r\n",
      "\u001b[0m"
     ]
    }
   ],
   "source": [
    "# Training progress bar\n",
    "!pip install -q qqdm"
   ]
  },
  {
   "attachments": {},
   "cell_type": "markdown",
   "id": "2f137b37",
   "metadata": {
    "id": "DCgNXSsEWuY7",
    "papermill": {
     "duration": 0.007844,
     "end_time": "2023-05-16T12:16:08.732381",
     "exception": false,
     "start_time": "2023-05-16T12:16:08.724537",
     "status": "completed"
    },
    "tags": []
   },
   "source": [
    "## Downloading data"
   ]
  },
  {
   "cell_type": "code",
   "execution_count": 2,
   "id": "4fa0dfdb",
   "metadata": {
    "execution": {
     "iopub.execute_input": "2023-05-16T12:16:08.749838Z",
     "iopub.status.busy": "2023-05-16T12:16:08.749493Z",
     "iopub.status.idle": "2023-05-16T12:18:45.857722Z",
     "shell.execute_reply": "2023-05-16T12:18:45.856465Z"
    },
    "papermill": {
     "duration": 157.120222,
     "end_time": "2023-05-16T12:18:45.860462",
     "exception": false,
     "start_time": "2023-05-16T12:16:08.740240",
     "status": "completed"
    },
    "tags": []
   },
   "outputs": [
    {
     "name": "stdout",
     "output_type": "stream",
     "text": [
      "Detected operating system as Ubuntu/focal.\r\n",
      "Checking for curl...\r\n",
      "Detected curl...\r\n",
      "Checking for gpg...\r\n",
      "Detected gpg...\r\n",
      "Detected apt version as 2.0.9\r\n",
      "Running apt-get update... done.\r\n",
      "Installing apt-transport-https... done.\r\n",
      "Installing /etc/apt/sources.list.d/github_git-lfs.list...done.\r\n",
      "Importing packagecloud gpg key... Packagecloud gpg key imported to /etc/apt/keyrings/github_git-lfs-archive-keyring.gpg\r\n",
      "done.\r\n",
      "Running apt-get update... done.\r\n",
      "\r\n",
      "The repository is setup! You can now install packages.\r\n",
      "\r\n",
      "\r\n",
      "\r\n",
      "The following packages will be upgraded:\r\n",
      "  git-lfs\r\n",
      "1 upgraded, 0 newly installed, 0 to remove and 84 not upgraded.\r\n",
      "Need to get 7419 kB of archives.\r\n",
      "After this operation, 4936 kB of additional disk space will be used.\r\n",
      "Get:1 https://packagecloud.io/github/git-lfs/ubuntu focal/main amd64 git-lfs amd64 3.3.0 [7419 kB]\r\n",
      "Fetched 7419 kB in 1s (7985 kB/s)\r\n",
      "(Reading database ... 111522 files and directories currently installed.)\r\n",
      "Preparing to unpack .../git-lfs_3.3.0_amd64.deb ...\r\n",
      "Unpacking git-lfs (3.3.0) over (2.9.2-1) ...\r\n",
      "Setting up git-lfs (3.3.0) ...\r\n",
      "Git LFS initialized.\r\n",
      "Processing triggers for man-db (2.9.1-1) ...\r\n"
     ]
    }
   ],
   "source": [
    "!curl -s https://packagecloud.io/install/repositories/github/git-lfs/script.deb.sh |  bash\n",
    "!apt-get install -y --allow-unauthenticated git-lfs"
   ]
  },
  {
   "cell_type": "code",
   "execution_count": 3,
   "id": "44c921c2",
   "metadata": {
    "execution": {
     "iopub.execute_input": "2023-05-16T12:18:45.884510Z",
     "iopub.status.busy": "2023-05-16T12:18:45.884127Z",
     "iopub.status.idle": "2023-05-16T12:18:47.722366Z",
     "shell.execute_reply": "2023-05-16T12:18:47.721052Z"
    },
    "papermill": {
     "duration": 1.853563,
     "end_time": "2023-05-16T12:18:47.725101",
     "exception": false,
     "start_time": "2023-05-16T12:18:45.871538",
     "status": "completed"
    },
    "tags": []
   },
   "outputs": [
    {
     "name": "stdout",
     "output_type": "stream",
     "text": [
      "Cloning into 'ml2023spring-hw8'...\r\n",
      "remote: Enumerating objects: 11, done.\u001b[K\r\n",
      "remote: Counting objects: 100% (11/11), done.\u001b[K\r\n",
      "remote: Compressing objects: 100% (10/10), done.\u001b[K\r\n",
      "remote: Total 11 (delta 2), reused 8 (delta 0), pack-reused 0\u001b[K\r\n",
      "Receiving objects: 100% (11/11), done.\r\n",
      "Resolving deltas: 100% (2/2), done.\r\n"
     ]
    }
   ],
   "source": [
    "!git clone https://github.com/chiyuanhsiao/ml2023spring-hw8"
   ]
  },
  {
   "cell_type": "code",
   "execution_count": 4,
   "id": "b2edd419",
   "metadata": {
    "execution": {
     "iopub.execute_input": "2023-05-16T12:18:47.748964Z",
     "iopub.status.busy": "2023-05-16T12:18:47.748605Z",
     "iopub.status.idle": "2023-05-16T12:19:34.206366Z",
     "shell.execute_reply": "2023-05-16T12:19:34.205056Z"
    },
    "id": "e-yCMrIl4L60",
    "outputId": "7a5c329a-933e-4564-8423-b11469700577",
    "papermill": {
     "duration": 46.473121,
     "end_time": "2023-05-16T12:19:34.209383",
     "exception": false,
     "start_time": "2023-05-16T12:18:47.736262",
     "status": "completed"
    },
    "tags": []
   },
   "outputs": [
    {
     "name": "stdout",
     "output_type": "stream",
     "text": [
      "/kaggle/working/ml2023spring-hw8\n",
      "Updated Git hooks.\r\n",
      "Git LFS initialized.\r\n",
      "Downloading LFS objects: 100% (2/2), 1.5 GB | 44 MB/s                           \r"
     ]
    }
   ],
   "source": [
    "%cd /kaggle/working/ml2023spring-hw8\n",
    "!git lfs install\n",
    "!git lfs pull"
   ]
  },
  {
   "attachments": {},
   "cell_type": "markdown",
   "id": "e0a30efe",
   "metadata": {
    "id": "HNe7QU7n7cqh",
    "papermill": {
     "duration": 0.023223,
     "end_time": "2023-05-16T12:19:34.255727",
     "exception": false,
     "start_time": "2023-05-16T12:19:34.232504",
     "status": "completed"
    },
    "tags": []
   },
   "source": [
    "# Import packages"
   ]
  },
  {
   "cell_type": "code",
   "execution_count": 5,
   "id": "7a2f0ad3",
   "metadata": {
    "execution": {
     "iopub.execute_input": "2023-05-16T12:19:34.307214Z",
     "iopub.status.busy": "2023-05-16T12:19:34.306812Z",
     "iopub.status.idle": "2023-05-16T12:19:37.447792Z",
     "shell.execute_reply": "2023-05-16T12:19:37.446670Z"
    },
    "id": "Jk3qFK_a7k8P",
    "papermill": {
     "duration": 3.168871,
     "end_time": "2023-05-16T12:19:37.451097",
     "exception": false,
     "start_time": "2023-05-16T12:19:34.282226",
     "status": "completed"
    },
    "tags": []
   },
   "outputs": [],
   "source": [
    "import random\n",
    "import numpy as np\n",
    "import torch\n",
    "from torch import nn\n",
    "from torch.utils.data import DataLoader, RandomSampler, SequentialSampler, TensorDataset\n",
    "import torchvision.transforms as transforms\n",
    "import torch.nn.functional as F\n",
    "from torch.autograd import Variable\n",
    "import torchvision.models as models\n",
    "from torch.optim import Adam, AdamW\n",
    "from qqdm import qqdm, format_str\n",
    "import pandas as pd"
   ]
  },
  {
   "attachments": {},
   "cell_type": "markdown",
   "id": "d4f0ac5a",
   "metadata": {
    "id": "6X6fkGPnYyaF",
    "papermill": {
     "duration": 0.022397,
     "end_time": "2023-05-16T12:19:37.496835",
     "exception": false,
     "start_time": "2023-05-16T12:19:37.474438",
     "status": "completed"
    },
    "tags": []
   },
   "source": [
    "# Loading data"
   ]
  },
  {
   "cell_type": "code",
   "execution_count": 6,
   "id": "368f01e2",
   "metadata": {
    "execution": {
     "iopub.execute_input": "2023-05-16T12:19:37.543934Z",
     "iopub.status.busy": "2023-05-16T12:19:37.543308Z",
     "iopub.status.idle": "2023-05-16T12:19:38.109879Z",
     "shell.execute_reply": "2023-05-16T12:19:38.108591Z"
    },
    "id": "k7Wd4yiUYzAm",
    "outputId": "d8b80f1e-cbc4-4ed9-c95c-b2e3fb561f23",
    "papermill": {
     "duration": 0.593862,
     "end_time": "2023-05-16T12:19:38.113483",
     "exception": false,
     "start_time": "2023-05-16T12:19:37.519621",
     "status": "completed"
    },
    "tags": []
   },
   "outputs": [
    {
     "name": "stdout",
     "output_type": "stream",
     "text": [
      "(100000, 64, 64, 3)\n",
      "(19636, 64, 64, 3)\n"
     ]
    }
   ],
   "source": [
    "train = np.load('/kaggle/working/ml2023spring-hw8/trainingset.npy', allow_pickle=True)\n",
    "test = np.load('/kaggle/working/ml2023spring-hw8/testingset.npy', allow_pickle=True)\n",
    "\n",
    "print(train.shape)\n",
    "print(test.shape)"
   ]
  },
  {
   "attachments": {},
   "cell_type": "markdown",
   "id": "0415da08",
   "metadata": {
    "id": "_flpmj6OYIa6",
    "papermill": {
     "duration": 0.03164,
     "end_time": "2023-05-16T12:19:38.177392",
     "exception": false,
     "start_time": "2023-05-16T12:19:38.145752",
     "status": "completed"
    },
    "tags": []
   },
   "source": [
    "## Random seed\n",
    "Set the random seed to a certain value for reproducibility."
   ]
  },
  {
   "cell_type": "code",
   "execution_count": 7,
   "id": "e3486958",
   "metadata": {
    "execution": {
     "iopub.execute_input": "2023-05-16T12:19:38.242057Z",
     "iopub.status.busy": "2023-05-16T12:19:38.241625Z",
     "iopub.status.idle": "2023-05-16T12:19:38.320737Z",
     "shell.execute_reply": "2023-05-16T12:19:38.319566Z"
    },
    "id": "Gb-dgXQYYI2Q",
    "papermill": {
     "duration": 0.11482,
     "end_time": "2023-05-16T12:19:38.324008",
     "exception": false,
     "start_time": "2023-05-16T12:19:38.209188",
     "status": "completed"
    },
    "tags": []
   },
   "outputs": [],
   "source": [
    "def same_seeds(seed):\n",
    "    random.seed(seed)\n",
    "    np.random.seed(seed)\n",
    "    torch.manual_seed(seed)\n",
    "    if torch.cuda.is_available():\n",
    "        torch.cuda.manual_seed(seed)\n",
    "        torch.cuda.manual_seed_all(seed)\n",
    "    torch.backends.cudnn.benchmark = False\n",
    "    torch.backends.cudnn.deterministic = True\n",
    "\n",
    "same_seeds(42)"
   ]
  },
  {
   "attachments": {},
   "cell_type": "markdown",
   "id": "4f20cf40",
   "metadata": {
    "id": "zR9zC0_Df-CR",
    "papermill": {
     "duration": 0.031653,
     "end_time": "2023-05-16T12:19:38.397033",
     "exception": false,
     "start_time": "2023-05-16T12:19:38.365380",
     "status": "completed"
    },
    "tags": []
   },
   "source": [
    "# Autoencoder"
   ]
  },
  {
   "attachments": {},
   "cell_type": "markdown",
   "id": "622d5e83",
   "metadata": {
    "id": "1EbfwRREhA7c",
    "papermill": {
     "duration": 0.030528,
     "end_time": "2023-05-16T12:19:38.458524",
     "exception": false,
     "start_time": "2023-05-16T12:19:38.427996",
     "status": "completed"
    },
    "tags": []
   },
   "source": [
    "# Models & loss"
   ]
  },
  {
   "cell_type": "code",
   "execution_count": 8,
   "id": "61f09525",
   "metadata": {
    "execution": {
     "iopub.execute_input": "2023-05-16T12:19:38.522162Z",
     "iopub.status.busy": "2023-05-16T12:19:38.521463Z",
     "iopub.status.idle": "2023-05-16T12:19:38.578726Z",
     "shell.execute_reply": "2023-05-16T12:19:38.577724Z"
    },
    "id": "Wi8ds1fugCkR",
    "papermill": {
     "duration": 0.093589,
     "end_time": "2023-05-16T12:19:38.581140",
     "exception": false,
     "start_time": "2023-05-16T12:19:38.487551",
     "status": "completed"
    },
    "tags": []
   },
   "outputs": [],
   "source": [
    "class fcn_autoencoder(nn.Module):\n",
    "    def __init__(self):\n",
    "        super(fcn_autoencoder, self).__init__()\n",
    "        self.encoder = nn.Sequential(\n",
    "            nn.Linear(64 * 64 * 3, 1024),\n",
    "            nn.ReLU(),\n",
    "            nn.Linear(1024, 256),\n",
    "            nn.ReLU(), \n",
    "            nn.Linear(256, 64), \n",
    "            nn.ReLU(), \n",
    "            nn.Linear(64, 10)\n",
    "        )\n",
    "        \n",
    "        self.decoder = nn.Sequential(\n",
    "            nn.Linear(10, 64),\n",
    "            nn.ReLU(), \n",
    "            nn.Linear(64, 256),\n",
    "            nn.ReLU(),\n",
    "            nn.Linear(256, 1024),\n",
    "            nn.ReLU(), \n",
    "            nn.Linear(1024, 64 * 64 * 3), \n",
    "            nn.Tanh()\n",
    "        )\n",
    "\n",
    "    def forward(self, x):\n",
    "        x = self.encoder(x)\n",
    "        x = self.decoder(x)\n",
    "        return x\n",
    "\n",
    "class conv_autoencoder(nn.Module):\n",
    "    def __init__(self):\n",
    "        super(conv_autoencoder, self).__init__()\n",
    "        self.encoder = nn.Sequential(\n",
    "            nn.Conv2d(3, 24, 4, stride=2, padding=1),\n",
    "            nn.BatchNorm2d(24),\n",
    "            nn.ReLU(),\n",
    "            nn.Conv2d(24, 24, 4, stride=2, padding=1),\n",
    "            nn.BatchNorm2d(24),\n",
    "            nn.ReLU(),\n",
    "            nn.Conv2d(24, 48, 4, stride=2, padding=1),\n",
    "            nn.BatchNorm2d(48),\n",
    "            nn.ReLU(),\n",
    "            nn.Conv2d(48, 96, 4, stride=2, padding=1),\n",
    "            nn.BatchNorm2d(96),\n",
    "            nn.ReLU(),\n",
    "            nn.Flatten(),\n",
    "            nn.Dropout(0.2),\n",
    "            nn.Linear(96*4*4, 128),\n",
    "            nn.BatchNorm1d(128),\n",
    "            nn.Dropout(0.2),\n",
    "            nn.Linear(128, 10),\n",
    "            nn.BatchNorm1d(10),\n",
    "            nn.ReLU()\n",
    "        )\n",
    "        self.decoder = nn.Sequential(\n",
    "            nn.Linear(10, 128),\n",
    "            nn.BatchNorm1d(128),\n",
    "            nn.ReLU(),\n",
    "            nn.Linear(128, 96*4*4),\n",
    "            nn.BatchNorm1d(96*4*4),\n",
    "            nn.ReLU(),\n",
    "            nn.Unflatten(1, (96, 4, 4)),\n",
    "            nn.ConvTranspose2d(96, 48, 4, stride=2, padding=1),\n",
    "            nn.BatchNorm2d(48),\n",
    "            nn.ReLU(),\n",
    "            nn.ConvTranspose2d(48, 24, 4, stride=2, padding=1),\n",
    "            nn.BatchNorm2d(24),\n",
    "            nn.ReLU(),\n",
    "            nn.ConvTranspose2d(24, 12, 4, stride=2, padding=1),\n",
    "            nn.BatchNorm2d(12),\n",
    "            nn.ReLU(),\n",
    "            nn.ConvTranspose2d(12, 3, 4, stride=2, padding=1),\n",
    "            nn.Tanh(),\n",
    "        )\n",
    "\n",
    "    def forward(self, x):\n",
    "        x = self.encoder(x)\n",
    "        x = self.decoder(x)\n",
    "        return x     \n",
    "\n",
    "\n",
    "\n",
    "class VAE(nn.Module):\n",
    "    def __init__(self):\n",
    "        super(VAE, self).__init__()\n",
    "        self.encoder = nn.Sequential(\n",
    "            nn.Conv2d(3, 32, 4, stride=2, padding=1), \n",
    "            nn.BatchNorm2d(32),\n",
    "            nn.ReLU(),\n",
    "            nn.Conv2d(32, 64, 4, stride=2, padding=1),\n",
    "            nn.BatchNorm2d(64),\n",
    "            nn.ReLU(),\n",
    "            nn.Conv2d(64, 64, 4, stride=2, padding=1),\n",
    "            nn.BatchNorm2d(64),\n",
    "            nn.ReLU(),\n",
    "            nn.Conv2d(64, 64, 4, stride=2, padding=1),\n",
    "            nn.BatchNorm2d(64),\n",
    "            nn.ReLU(),\n",
    "            nn.Flatten()\n",
    "        )\n",
    "        self.enc_out_1 = nn.Sequential(\n",
    "            nn.Dropout(0.2),\n",
    "            nn.Linear(64*4*4, 128),\n",
    "            #nn.BatchNorm1d(128),\n",
    "            nn.ReLU(),\n",
    "            \n",
    "            nn.Dropout(0.2),\n",
    "            nn.Linear(128, 10),\n",
    "            #nn.BatchNorm1d(10),\n",
    "            nn.ReLU()\n",
    "        )\n",
    "        self.enc_out_2 = nn.Sequential(\n",
    "            #nn.Conv2d(48, 12, 4, stride=2, padding=1),\n",
    "            #nn.ReLU(),\n",
    "            nn.Dropout(0.2),\n",
    "            nn.Linear(64*4*4, 128),\n",
    "            #nn.BatchNorm1d(128),\n",
    "            nn.ReLU(),\n",
    "            \n",
    "            nn.Dropout(0.2),\n",
    "            nn.Linear(128, 10),\n",
    "            #nn.BatchNorm1d(10),\n",
    "            nn.ReLU()\n",
    "        )\n",
    "\n",
    "        self.decoder = nn.Sequential(\n",
    "            nn.Linear(10, 128),\n",
    "            nn.BatchNorm1d(128),\n",
    "            nn.ReLU(),\n",
    "            nn.Linear(128, 32*4*4),\n",
    "            nn.BatchNorm1d(32*4*4),\n",
    "            nn.ReLU(),\n",
    "            nn.Unflatten(1, (32, 4, 4)),\n",
    "            nn.ConvTranspose2d(32, 64, 4, stride=2, padding=1),\n",
    "            nn.BatchNorm2d(64),\n",
    "            nn.ReLU(),\n",
    "            nn.ConvTranspose2d(64, 64, 4, stride=2, padding=1),\n",
    "            nn.BatchNorm2d(64),\n",
    "            nn.ReLU(),\n",
    "            nn.ConvTranspose2d(64, 32, 4, stride=2, padding=1), \n",
    "            nn.BatchNorm2d(32),\n",
    "            nn.ReLU(),\n",
    "            nn.ConvTranspose2d(32, 3, 4, stride=2, padding=1),\n",
    "            nn.Tanh(),\n",
    "        )\n",
    "\n",
    "    def encode(self, x):\n",
    "        h1 = self.encoder(x)\n",
    "        return self.enc_out_1(h1), self.enc_out_2(h1)\n",
    "\n",
    "    def reparametrize(self, mu, logvar):\n",
    "        std = logvar.mul(0.5).exp_()\n",
    "        if torch.cuda.is_available():\n",
    "            eps = torch.cuda.FloatTensor(std.size()).normal_()\n",
    "        else:\n",
    "            eps = torch.FloatTensor(std.size()).normal_()\n",
    "        eps = Variable(eps)\n",
    "        return eps.mul(std).add_(mu)\n",
    "\n",
    "    def decode(self, z):\n",
    "        return self.decoder(z)\n",
    "\n",
    "    def forward(self, x):\n",
    "        mu, logvar = self.encode(x)\n",
    "        z = self.reparametrize(mu, logvar)\n",
    "        return self.decode(z), mu, logvar\n",
    "\n",
    "\n",
    "def loss_vae(recon_x, x, mu, logvar, criterion):\n",
    "    \"\"\"\n",
    "    recon_x: generating images\n",
    "    x: origin images\n",
    "    mu: latent mean\n",
    "    logvar: latent log variance\n",
    "    \"\"\"\n",
    "    mse = criterion(recon_x, x)\n",
    "    KLD_element = mu.pow(2).add_(logvar.exp()).mul_(-1).add_(1).add_(logvar)\n",
    "    KLD = torch.sum(KLD_element).mul_(-0.5)\n",
    "    return mse + KLD"
   ]
  },
  {
   "cell_type": "code",
   "execution_count": 9,
   "id": "caee53b0",
   "metadata": {
    "execution": {
     "iopub.execute_input": "2023-05-16T12:19:38.647475Z",
     "iopub.status.busy": "2023-05-16T12:19:38.646804Z",
     "iopub.status.idle": "2023-05-16T12:19:38.668497Z",
     "shell.execute_reply": "2023-05-16T12:19:38.667490Z"
    },
    "papermill": {
     "duration": 0.057559,
     "end_time": "2023-05-16T12:19:38.671245",
     "exception": false,
     "start_time": "2023-05-16T12:19:38.613686",
     "status": "completed"
    },
    "tags": []
   },
   "outputs": [],
   "source": [
    "class ensemble(nn.Module):\n",
    "    def __init__(self):\n",
    "        super().__init__()\n",
    "        self.encoder_1 = nn.Sequential(\n",
    "            nn.Flatten(),\n",
    "            nn.Linear(64 * 64 * 3, 1024),\n",
    "            nn.BatchNorm1d(1024),\n",
    "            nn.ReLU(),\n",
    "            nn.Dropout(0.2),\n",
    "            nn.Linear(1024, 256),\n",
    "            nn.BatchNorm1d(256),\n",
    "            nn.ReLU(), \n",
    "            nn.Dropout(0.2),\n",
    "            nn.Linear(256, 64), \n",
    "            nn.BatchNorm1d(64),\n",
    "            nn.ReLU(), \n",
    "        )\n",
    "        \n",
    "        self.encoder_2 = nn.Sequential(\n",
    "            nn.Conv2d(3, 128, 4, stride=2, padding=1),\n",
    "            nn.BatchNorm2d(128),\n",
    "            nn.ReLU(),\n",
    "            nn.Conv2d(128, 256, 4, stride=2, padding=1),\n",
    "            nn.BatchNorm2d(256),\n",
    "            nn.ReLU(),\n",
    "            nn.Conv2d(256, 256, 4, stride=2, padding=1),\n",
    "            nn.BatchNorm2d(256),\n",
    "            nn.ReLU(),\n",
    "            nn.Conv2d(256, 128, 4, stride=2, padding=1),\n",
    "            nn.BatchNorm2d(128),\n",
    "            nn.ReLU(),\n",
    "            nn.Flatten(),\n",
    "            nn.Dropout(0.2),\n",
    "            nn.Linear(128*4*4, 128),\n",
    "            nn.BatchNorm1d(128),\n",
    "            nn.ReLU(),\n",
    "        )\n",
    "        \n",
    "        self.decoder = nn.Sequential(\n",
    "                nn.Linear(192, 128*4*4),\n",
    "                nn.BatchNorm1d(128*4*4),\n",
    "                nn.ReLU(),\n",
    "                nn.Unflatten(1, (128, 4, 4)),\n",
    "                nn.ConvTranspose2d(128, 256, 4, stride=2, padding=1),\n",
    "                nn.BatchNorm2d(256),\n",
    "                nn.ReLU(),\n",
    "                nn.ConvTranspose2d(256, 256, 4, stride=2, padding=1),\n",
    "                nn.BatchNorm2d(256),\n",
    "                nn.ReLU(),\n",
    "                nn.ConvTranspose2d(256, 128, 4, stride=2, padding=1),\n",
    "                nn.BatchNorm2d(128),\n",
    "                nn.ReLU(),\n",
    "                nn.ConvTranspose2d(128, 3, 4, stride=2, padding=1),\n",
    "                nn.Tanh(),\n",
    "        )\n",
    "        \n",
    "    def encoder(self, x):\n",
    "        x1 = self.encoder_1(x)\n",
    "        x2 = self.encoder_2(x)\n",
    "        return torch.cat((x1, x2), 1)\n",
    "        \n",
    "    def forward(self, x):\n",
    "        x = self.encoder(x)\n",
    "        x = self.decoder(x)\n",
    "        return x"
   ]
  },
  {
   "cell_type": "code",
   "execution_count": 10,
   "id": "96de8c75",
   "metadata": {
    "execution": {
     "iopub.execute_input": "2023-05-16T12:19:38.737609Z",
     "iopub.status.busy": "2023-05-16T12:19:38.736968Z",
     "iopub.status.idle": "2023-05-16T12:19:38.774807Z",
     "shell.execute_reply": "2023-05-16T12:19:38.773813Z"
    },
    "papermill": {
     "duration": 0.074448,
     "end_time": "2023-05-16T12:19:38.777838",
     "exception": false,
     "start_time": "2023-05-16T12:19:38.703390",
     "status": "completed"
    },
    "tags": []
   },
   "outputs": [],
   "source": [
    "class Residual_Block(nn.Module):\n",
    "    def __init__(self, ic, oc, stride=1):\n",
    "        super().__init__()\n",
    "        self.conv1 = nn.Sequential(\n",
    "            nn.Conv2d(ic, oc, kernel_size=3, stride=stride, padding=1),\n",
    "            nn.BatchNorm2d(oc),\n",
    "            nn.ReLU(inplace=True)\n",
    "        )\n",
    "        \n",
    "        self.conv2 = nn.Sequential(\n",
    "            nn.Conv2d(oc, oc, kernel_size=3, stride=1, padding=1),\n",
    "            nn.BatchNorm2d(oc),\n",
    "        )\n",
    "        \n",
    "        self.relu = nn.ReLU(inplace=True)\n",
    "    \n",
    "        self.downsample = None\n",
    "        if stride != 1 or (ic != oc):\n",
    "            self.downsample = nn.Sequential(\n",
    "                nn.Conv2d(ic, oc, kernel_size=1, stride=stride),\n",
    "                nn.BatchNorm2d(oc),\n",
    "            )\n",
    "        \n",
    "    def forward(self, x):\n",
    "        residual = x\n",
    "        out = self.conv1(x)\n",
    "        out = self.conv2(out)\n",
    "        \n",
    "        if self.downsample:\n",
    "            residual = self.downsample(x)\n",
    "            \n",
    "        out += residual\n",
    "        return self.relu(out)\n",
    "    \n",
    "class ResNet(nn.Module):\n",
    "    def __init__(self, block=Residual_Block, num_layers=[2, 1, 1, 1]):\n",
    "        super().__init__()\n",
    "        self.preconv = nn.Sequential(\n",
    "            nn.Conv2d(3, 32, kernel_size=3, stride=1, padding=1, bias=False),\n",
    "            nn.BatchNorm2d(32),\n",
    "            nn.ReLU(inplace=True),\n",
    "        )\n",
    "        self.layer0 = self.make_residual(block, 32, 64,  num_layers[0], stride=2)\n",
    "        self.layer1 = self.make_residual(block, 64, 128, num_layers[1], stride=2)\n",
    "        self.layer2 = self.make_residual(block, 128, 128, num_layers[2], stride=2)\n",
    "        self.layer3 = self.make_residual(block, 128, 64, num_layers[3], stride=2)\n",
    "        \n",
    "        self.fc = nn.Sequential(\n",
    "            nn.Flatten(),\n",
    "            nn.Dropout(0.2),\n",
    "            nn.Linear(64*4*4, 64),\n",
    "            nn.BatchNorm1d(64),\n",
    "            nn.ReLU(inplace=True),\n",
    "        )\n",
    "        \n",
    "        self.decoder = nn.Sequential(\n",
    "            nn.Linear(64, 64*4*4),\n",
    "            nn.BatchNorm1d(64*4*4),\n",
    "            nn.ReLU(),\n",
    "            nn.Unflatten(1, (64, 4, 4)),\n",
    "            nn.ConvTranspose2d(64, 128, 4, stride=2, padding=1),\n",
    "            nn.BatchNorm2d(128),\n",
    "            nn.ReLU(),\n",
    "            nn.ConvTranspose2d(128, 128, 4, stride=2, padding=1),\n",
    "            nn.BatchNorm2d(128),\n",
    "            nn.ReLU(),\n",
    "            nn.ConvTranspose2d(128, 128, 4, stride=2, padding=1),\n",
    "            nn.BatchNorm2d(128),\n",
    "            nn.ReLU(),\n",
    "            nn.ConvTranspose2d(128, 3, 4, stride=2, padding=1),\n",
    "            nn.Tanh(),\n",
    "        )\n",
    "    def make_residual(self, block, ic, oc, num_layer, stride=1):\n",
    "        layers = []\n",
    "        layers.append(block(ic, oc, stride))\n",
    "        for i in range(1, num_layer):\n",
    "            layers.append(block(oc, oc))\n",
    "        return nn.Sequential(*layers)\n",
    "    \n",
    "    def encoder(self, x):\n",
    "        x = self.preconv(x)\n",
    "        x = self.layer0(x) #64*64 --> 32*32\n",
    "        x = self.layer1(x) #32*32 --> 16*16\n",
    "        x = self.layer2(x) #16*16 --> 8*8\n",
    "        x = self.layer3(x) #8*8 --> 4*4\n",
    "        x = self.fc(x)\n",
    "        return x\n",
    "    \n",
    "    def forward(self, x):\n",
    "        x = self.encoder(x)\n",
    "        x = self.decoder(x)\n",
    "        return x\n",
    "    \n",
    "    \n",
    "class Auxiliary(nn.Module):\n",
    "    def __init__(self):\n",
    "        super().__init__()\n",
    "        self.decoder = nn.Sequential(\n",
    "            nn.Linear(64, 64*4*4),\n",
    "            nn.BatchNorm1d(64*4*4),\n",
    "            nn.ReLU(),\n",
    "            nn.Unflatten(1, (64, 4, 4)),\n",
    "            nn.ConvTranspose2d(64, 128, 4, stride=2, padding=1),\n",
    "            nn.BatchNorm2d(128),\n",
    "            nn.ReLU(),\n",
    "            nn.ConvTranspose2d(128, 128, 4, stride=2, padding=1),\n",
    "            nn.BatchNorm2d(128),\n",
    "            nn.ReLU(),\n",
    "            nn.ConvTranspose2d(128, 128, 4, stride=2, padding=1),\n",
    "            nn.BatchNorm2d(128),\n",
    "            nn.ReLU(),\n",
    "            nn.ConvTranspose2d(128, 3, 4, stride=2, padding=1),\n",
    "            nn.Tanh(),\n",
    "        )\n",
    "        \n",
    "    def forward(self, x):\n",
    "        return self.decoder(x)"
   ]
  },
  {
   "attachments": {},
   "cell_type": "markdown",
   "id": "b8b7139f",
   "metadata": {
    "id": "vrJ9bScg9AgO",
    "papermill": {
     "duration": 0.031578,
     "end_time": "2023-05-16T12:19:38.841864",
     "exception": false,
     "start_time": "2023-05-16T12:19:38.810286",
     "status": "completed"
    },
    "tags": []
   },
   "source": [
    "# Dataset module\n",
    "\n",
    "Module for obtaining and processing data. The transform function here normalizes image's pixels from [0, 255] to [-1.0, 1.0].\n"
   ]
  },
  {
   "cell_type": "code",
   "execution_count": 11,
   "id": "d804ea96",
   "metadata": {
    "execution": {
     "iopub.execute_input": "2023-05-16T12:19:38.907644Z",
     "iopub.status.busy": "2023-05-16T12:19:38.906985Z",
     "iopub.status.idle": "2023-05-16T12:19:38.919000Z",
     "shell.execute_reply": "2023-05-16T12:19:38.916068Z"
    },
    "id": "33fWhE-h9LPq",
    "papermill": {
     "duration": 0.048178,
     "end_time": "2023-05-16T12:19:38.921866",
     "exception": false,
     "start_time": "2023-05-16T12:19:38.873688",
     "status": "completed"
    },
    "tags": []
   },
   "outputs": [],
   "source": [
    "class CustomTensorDataset(TensorDataset):\n",
    "    \"\"\"TensorDataset with support of transforms.\n",
    "    \"\"\"\n",
    "    def __init__(self, tensors):\n",
    "        self.tensors = tensors\n",
    "        if tensors.shape[-1] == 3:\n",
    "            self.tensors = tensors.permute(0, 3, 1, 2)\n",
    "        \n",
    "        self.transform = transforms.Compose([\n",
    "          transforms.Lambda(lambda x: x.to(torch.float32)),\n",
    "          transforms.Lambda(lambda x: 2. * x/255. - 1.),\n",
    "        ])\n",
    "        \n",
    "    def __getitem__(self, index):\n",
    "        x = self.tensors[index]\n",
    "        \n",
    "        if self.transform:\n",
    "            # mapping images to [-1.0, 1.0]\n",
    "            x = self.transform(x)\n",
    "\n",
    "        return x\n",
    "\n",
    "    def __len__(self):\n",
    "        return len(self.tensors)"
   ]
  },
  {
   "attachments": {},
   "cell_type": "markdown",
   "id": "ab376b6b",
   "metadata": {
    "id": "XKNUImqUhIeq",
    "papermill": {
     "duration": 0.031337,
     "end_time": "2023-05-16T12:19:38.985229",
     "exception": false,
     "start_time": "2023-05-16T12:19:38.953892",
     "status": "completed"
    },
    "tags": []
   },
   "source": [
    "# Training"
   ]
  },
  {
   "attachments": {},
   "cell_type": "markdown",
   "id": "15f32fa4",
   "metadata": {
    "id": "7ebAJdjFmS08",
    "papermill": {
     "duration": 0.031436,
     "end_time": "2023-05-16T12:19:39.048380",
     "exception": false,
     "start_time": "2023-05-16T12:19:39.016944",
     "status": "completed"
    },
    "tags": []
   },
   "source": [
    "## Configuration\n"
   ]
  },
  {
   "cell_type": "code",
   "execution_count": 12,
   "id": "b1ef37cc",
   "metadata": {
    "execution": {
     "iopub.execute_input": "2023-05-16T12:19:39.113758Z",
     "iopub.status.busy": "2023-05-16T12:19:39.113307Z",
     "iopub.status.idle": "2023-05-16T12:19:42.400766Z",
     "shell.execute_reply": "2023-05-16T12:19:42.399652Z"
    },
    "id": "in7yLfmqtZTk",
    "papermill": {
     "duration": 3.323697,
     "end_time": "2023-05-16T12:19:42.403647",
     "exception": false,
     "start_time": "2023-05-16T12:19:39.079950",
     "status": "completed"
    },
    "tags": []
   },
   "outputs": [],
   "source": [
    "# Training hyperparameters\n",
    "num_epochs = 70\n",
    "batch_size = 128\n",
    "learning_rate = 1e-3\n",
    "\n",
    "# Build training dataloader\n",
    "x = torch.from_numpy(train)\n",
    "train_dataset = CustomTensorDataset(x)\n",
    "\n",
    "\n",
    "train_sampler = RandomSampler(train_dataset)\n",
    "train_dataloader = DataLoader(train_dataset, sampler=train_sampler, batch_size=batch_size)\n",
    "\n",
    "# Model\n",
    "model_type = 'resnet'   # selecting a model type from {'cnn', 'fcn', 'vae', 'resnet'}\n",
    "model_classes = {'fcn': fcn_autoencoder(), 'cnn': conv_autoencoder(), 'vae': VAE(), 'ensemble':ensemble(), 'resnet':ResNet()}\n",
    "model = model_classes[model_type].cuda()\n",
    "aux = Auxiliary().cuda()\n",
    "\n",
    "# Loss and optimizer\n",
    "\n",
    "criterion = nn.MSELoss()\n",
    "optimizer = torch.optim.AdamW(model.parameters(), lr=learning_rate)\n",
    "optimizer_a = torch.optim.AdamW(aux.parameters(), lr=learning_rate)"
   ]
  },
  {
   "attachments": {},
   "cell_type": "markdown",
   "id": "f3749a6a",
   "metadata": {
    "id": "wyooN-JPm8sS",
    "papermill": {
     "duration": 0.022895,
     "end_time": "2023-05-16T12:19:42.449593",
     "exception": false,
     "start_time": "2023-05-16T12:19:42.426698",
     "status": "completed"
    },
    "tags": []
   },
   "source": [
    "## Training loop"
   ]
  },
  {
   "cell_type": "code",
   "execution_count": 13,
   "id": "583650c5",
   "metadata": {
    "execution": {
     "iopub.execute_input": "2023-05-16T12:19:42.497356Z",
     "iopub.status.busy": "2023-05-16T12:19:42.496424Z",
     "iopub.status.idle": "2023-05-16T14:58:58.970422Z",
     "shell.execute_reply": "2023-05-16T14:58:58.969254Z"
    },
    "id": "JoW1UrrxgI_U",
    "outputId": "78a74d89-0605-4e57-d99c-f86cf110cda4",
    "papermill": {
     "duration": 9556.500957,
     "end_time": "2023-05-16T14:58:58.973050",
     "exception": false,
     "start_time": "2023-05-16T12:19:42.472093",
     "status": "completed"
    },
    "tags": []
   },
   "outputs": [
    {
     "name": "stderr",
     "output_type": "stream",
     "text": [
      " \u001b[1mIters\u001b[0m    \u001b[1mElapsed Time\u001b[0m      \u001b[1mSpeed\u001b[0m                                               \n",
      " \u001b[99m0/\u001b[93m70\u001b[0m\u001b[0m   \u001b[99m        -        \u001b[0m  \u001b[99m   -    \u001b[0m                                             \n",
      "\u001b[1mDescription\u001b[0m   0.0% |                                       |                    \u001b[K\u001b[F\u001b[K\u001b[F \u001b[1mIters\u001b[0m    \u001b[1mElapsed Time\u001b[0m      \u001b[1mSpeed\u001b[0m    \u001b[1mepoch\u001b[0m   \u001b[1mloss\u001b[0m                               \n",
      " \u001b[99m1/\u001b[93m70\u001b[0m\u001b[0m   \u001b[99m00:02:20<\u001b[93m02:42:07\u001b[0m\u001b[0m  \u001b[99m0.01it/s\u001b[0m  \u001b[99m1/70\u001b[0m   \u001b[99m0.15536\u001b[0m                             \n",
      " \u001b[1mloss_a\u001b[0m                                                                         \n",
      " \u001b[99m0.18289\u001b[0m                                                                        \n",
      "\u001b[1mDescription\u001b[0m   1.4% |                                       |                    \u001b[K\u001b[F\u001b[K\u001b[F\u001b[K\u001b[F\u001b[K\u001b[F \u001b[1mIters\u001b[0m    \u001b[1mElapsed Time\u001b[0m      \u001b[1mSpeed\u001b[0m    \u001b[1mepoch\u001b[0m   \u001b[1mloss\u001b[0m                               \n",
      " \u001b[99m2/\u001b[93m70\u001b[0m\u001b[0m   \u001b[99m00:04:37<\u001b[93m02:37:11\u001b[0m\u001b[0m  \u001b[99m0.01it/s\u001b[0m  \u001b[99m2/70\u001b[0m   \u001b[99m0.06490\u001b[0m                             \n",
      " \u001b[1mloss_a\u001b[0m                                                                         \n",
      " \u001b[99m0.06468\u001b[0m                                                                        \n",
      "\u001b[1mDescription\u001b[0m   2.9% |\u001b[97m█\u001b[0m                                      |                    \u001b[K\u001b[F\u001b[K\u001b[F\u001b[K\u001b[F\u001b[K\u001b[F \u001b[1mIters\u001b[0m    \u001b[1mElapsed Time\u001b[0m      \u001b[1mSpeed\u001b[0m    \u001b[1mepoch\u001b[0m   \u001b[1mloss\u001b[0m                               \n",
      " \u001b[99m3/\u001b[93m70\u001b[0m\u001b[0m   \u001b[99m00:06:53<\u001b[93m02:34:01\u001b[0m\u001b[0m  \u001b[99m0.01it/s\u001b[0m  \u001b[99m3/70\u001b[0m   \u001b[99m0.05571\u001b[0m                             \n",
      " \u001b[1mloss_a\u001b[0m                                                                         \n",
      " \u001b[99m0.05731\u001b[0m                                                                        \n",
      "\u001b[1mDescription\u001b[0m   4.3% |\u001b[97m█\u001b[0m                                      |                    \u001b[K\u001b[F\u001b[K\u001b[F\u001b[K\u001b[F\u001b[K\u001b[F \u001b[1mIters\u001b[0m    \u001b[1mElapsed Time\u001b[0m      \u001b[1mSpeed\u001b[0m    \u001b[1mepoch\u001b[0m   \u001b[1mloss\u001b[0m                               \n",
      " \u001b[99m4/\u001b[93m70\u001b[0m\u001b[0m   \u001b[99m00:09:10<\u001b[93m02:31:16\u001b[0m\u001b[0m  \u001b[99m0.01it/s\u001b[0m  \u001b[99m4/70\u001b[0m   \u001b[99m0.05237\u001b[0m                             \n",
      " \u001b[1mloss_a\u001b[0m                                                                         \n",
      " \u001b[99m0.05410\u001b[0m                                                                        \n",
      "\u001b[1mDescription\u001b[0m   5.7% |\u001b[97m█\u001b[0m\u001b[97m█\u001b[0m                                     |                    \u001b[K\u001b[F\u001b[K\u001b[F\u001b[K\u001b[F\u001b[K\u001b[F \u001b[1mIters\u001b[0m    \u001b[1mElapsed Time\u001b[0m      \u001b[1mSpeed\u001b[0m    \u001b[1mepoch\u001b[0m   \u001b[1mloss\u001b[0m                               \n",
      " \u001b[99m5/\u001b[93m70\u001b[0m\u001b[0m   \u001b[99m00:11:26<\u001b[93m02:28:44\u001b[0m\u001b[0m  \u001b[99m0.01it/s\u001b[0m  \u001b[99m5/70\u001b[0m   \u001b[99m0.04942\u001b[0m                             \n",
      " \u001b[1mloss_a\u001b[0m                                                                         \n",
      " \u001b[99m0.04865\u001b[0m                                                                        \n",
      "\u001b[1mDescription\u001b[0m   7.1% |\u001b[97m█\u001b[0m\u001b[97m█\u001b[0m                                     |                    \u001b[K\u001b[F\u001b[K\u001b[F\u001b[K\u001b[F\u001b[K\u001b[F \u001b[1mIters\u001b[0m    \u001b[1mElapsed Time\u001b[0m      \u001b[1mSpeed\u001b[0m    \u001b[1mepoch\u001b[0m   \u001b[1mloss\u001b[0m                               \n",
      " \u001b[99m6/\u001b[93m70\u001b[0m\u001b[0m   \u001b[99m00:13:42<\u001b[93m02:26:18\u001b[0m\u001b[0m  \u001b[99m0.01it/s\u001b[0m  \u001b[99m6/70\u001b[0m   \u001b[99m0.04780\u001b[0m                             \n",
      " \u001b[1mloss_a\u001b[0m                                                                         \n",
      " \u001b[99m0.04707\u001b[0m                                                                        \n",
      "\u001b[1mDescription\u001b[0m   8.6% |\u001b[97m█\u001b[0m\u001b[97m█\u001b[0m\u001b[97m█\u001b[0m                                    |                    \u001b[K\u001b[F\u001b[K\u001b[F\u001b[K\u001b[F\u001b[K\u001b[F \u001b[1mIters\u001b[0m    \u001b[1mElapsed Time\u001b[0m      \u001b[1mSpeed\u001b[0m    \u001b[1mepoch\u001b[0m   \u001b[1mloss\u001b[0m                               \n",
      " \u001b[99m7/\u001b[93m70\u001b[0m\u001b[0m   \u001b[99m00:15:59<\u001b[93m02:23:53\u001b[0m\u001b[0m  \u001b[99m0.01it/s\u001b[0m  \u001b[99m7/70\u001b[0m   \u001b[99m0.04627\u001b[0m                             \n",
      " \u001b[1mloss_a\u001b[0m                                                                         \n",
      " \u001b[99m0.04650\u001b[0m                                                                        \n",
      "\u001b[1mDescription\u001b[0m  10.0% |\u001b[97m█\u001b[0m\u001b[97m█\u001b[0m\u001b[97m█\u001b[0m                                    |                    \u001b[K\u001b[F\u001b[K\u001b[F\u001b[K\u001b[F\u001b[K\u001b[F \u001b[1mIters\u001b[0m    \u001b[1mElapsed Time\u001b[0m      \u001b[1mSpeed\u001b[0m    \u001b[1mepoch\u001b[0m   \u001b[1mloss\u001b[0m                               \n",
      " \u001b[99m8/\u001b[93m70\u001b[0m\u001b[0m   \u001b[99m00:18:15<\u001b[93m02:21:31\u001b[0m\u001b[0m  \u001b[99m0.01it/s\u001b[0m  \u001b[99m8/70\u001b[0m   \u001b[99m0.04529\u001b[0m                             \n",
      " \u001b[1mloss_a\u001b[0m                                                                         \n",
      " \u001b[99m0.04491\u001b[0m                                                                        \n",
      "\u001b[1mDescription\u001b[0m  11.4% |\u001b[97m█\u001b[0m\u001b[97m█\u001b[0m\u001b[97m█\u001b[0m\u001b[97m█\u001b[0m                                   |                    \u001b[K\u001b[F\u001b[K\u001b[F\u001b[K\u001b[F\u001b[K\u001b[F \u001b[1mIters\u001b[0m    \u001b[1mElapsed Time\u001b[0m      \u001b[1mSpeed\u001b[0m    \u001b[1mepoch\u001b[0m   \u001b[1mloss\u001b[0m                               \n",
      " \u001b[99m9/\u001b[93m70\u001b[0m\u001b[0m   \u001b[99m00:20:32<\u001b[93m02:19:10\u001b[0m\u001b[0m  \u001b[99m0.01it/s\u001b[0m  \u001b[99m9/70\u001b[0m   \u001b[99m0.04438\u001b[0m                             \n",
      " \u001b[1mloss_a\u001b[0m                                                                         \n",
      " \u001b[99m0.04264\u001b[0m                                                                        \n",
      "\u001b[1mDescription\u001b[0m  12.9% |\u001b[97m█\u001b[0m\u001b[97m█\u001b[0m\u001b[97m█\u001b[0m\u001b[97m█\u001b[0m\u001b[97m█\u001b[0m                                  |                    \u001b[K\u001b[F\u001b[K\u001b[F\u001b[K\u001b[F\u001b[K\u001b[F \u001b[1mIters\u001b[0m    \u001b[1mElapsed Time\u001b[0m      \u001b[1mSpeed\u001b[0m    \u001b[1mepoch\u001b[0m   \u001b[1mloss\u001b[0m                               \n",
      " \u001b[99m10/\u001b[93m70\u001b[0m\u001b[0m  \u001b[99m00:22:48<\u001b[93m02:16:50\u001b[0m\u001b[0m  \u001b[99m0.01it/s\u001b[0m  \u001b[99m10/70\u001b[0m  \u001b[99m0.04385\u001b[0m                             \n",
      " \u001b[1mloss_a\u001b[0m                                                                         \n",
      " \u001b[99m0.04335\u001b[0m                                                                        \n",
      "\u001b[1mDescription\u001b[0m  14.3% |\u001b[97m█\u001b[0m\u001b[97m█\u001b[0m\u001b[97m█\u001b[0m\u001b[97m█\u001b[0m\u001b[97m█\u001b[0m                                  |                    \u001b[K\u001b[F\u001b[K\u001b[F\u001b[K\u001b[F\u001b[K\u001b[F \u001b[1mIters\u001b[0m    \u001b[1mElapsed Time\u001b[0m      \u001b[1mSpeed\u001b[0m    \u001b[1mepoch\u001b[0m   \u001b[1mloss\u001b[0m                               \n",
      " \u001b[99m11/\u001b[93m70\u001b[0m\u001b[0m  \u001b[99m00:25:04<\u001b[93m02:14:30\u001b[0m\u001b[0m  \u001b[99m0.01it/s\u001b[0m  \u001b[99m11/70\u001b[0m  \u001b[99m0.04306\u001b[0m                             \n",
      " \u001b[1mloss_a\u001b[0m                                                                         \n",
      " \u001b[99m0.04450\u001b[0m                                                                        \n",
      "\u001b[1mDescription\u001b[0m  15.7% |\u001b[97m█\u001b[0m\u001b[97m█\u001b[0m\u001b[97m█\u001b[0m\u001b[97m█\u001b[0m\u001b[97m█\u001b[0m\u001b[97m█\u001b[0m                                 |                    \u001b[K\u001b[F\u001b[K\u001b[F\u001b[K\u001b[F\u001b[K\u001b[F \u001b[1mIters\u001b[0m    \u001b[1mElapsed Time\u001b[0m      \u001b[1mSpeed\u001b[0m    \u001b[1mepoch\u001b[0m   \u001b[1mloss\u001b[0m                               \n",
      " \u001b[99m12/\u001b[93m70\u001b[0m\u001b[0m  \u001b[99m00:27:21<\u001b[93m02:12:11\u001b[0m\u001b[0m  \u001b[99m0.01it/s\u001b[0m  \u001b[99m12/70\u001b[0m  \u001b[99m0.04267\u001b[0m                             \n",
      " \u001b[1mloss_a\u001b[0m                                                                         \n",
      " \u001b[99m0.05318\u001b[0m                                                                        \n",
      "\u001b[1mDescription\u001b[0m  17.1% |\u001b[97m█\u001b[0m\u001b[97m█\u001b[0m\u001b[97m█\u001b[0m\u001b[97m█\u001b[0m\u001b[97m█\u001b[0m\u001b[97m█\u001b[0m                                 |                    \u001b[K\u001b[F\u001b[K\u001b[F\u001b[K\u001b[F\u001b[K\u001b[F \u001b[1mIters\u001b[0m    \u001b[1mElapsed Time\u001b[0m      \u001b[1mSpeed\u001b[0m    \u001b[1mepoch\u001b[0m   \u001b[1mloss\u001b[0m                               \n",
      " \u001b[99m13/\u001b[93m70\u001b[0m\u001b[0m  \u001b[99m00:29:37<\u001b[93m02:09:53\u001b[0m\u001b[0m  \u001b[99m0.01it/s\u001b[0m  \u001b[99m13/70\u001b[0m  \u001b[99m0.04223\u001b[0m                             \n",
      " \u001b[1mloss_a\u001b[0m                                                                         \n",
      " \u001b[99m0.04257\u001b[0m                                                                        \n",
      "\u001b[1mDescription\u001b[0m  18.6% |\u001b[97m█\u001b[0m\u001b[97m█\u001b[0m\u001b[97m█\u001b[0m\u001b[97m█\u001b[0m\u001b[97m█\u001b[0m\u001b[97m█\u001b[0m\u001b[97m█\u001b[0m                                |                    \u001b[K\u001b[F\u001b[K\u001b[F\u001b[K\u001b[F\u001b[K\u001b[F \u001b[1mIters\u001b[0m    \u001b[1mElapsed Time\u001b[0m      \u001b[1mSpeed\u001b[0m    \u001b[1mepoch\u001b[0m   \u001b[1mloss\u001b[0m                               \n",
      " \u001b[99m14/\u001b[93m70\u001b[0m\u001b[0m  \u001b[99m00:31:53<\u001b[93m02:07:35\u001b[0m\u001b[0m  \u001b[99m0.01it/s\u001b[0m  \u001b[99m14/70\u001b[0m  \u001b[99m0.04184\u001b[0m                             \n",
      " \u001b[1mloss_a\u001b[0m                                                                         \n",
      " \u001b[99m0.04083\u001b[0m                                                                        \n",
      "\u001b[1mDescription\u001b[0m  20.0% |\u001b[97m█\u001b[0m\u001b[97m█\u001b[0m\u001b[97m█\u001b[0m\u001b[97m█\u001b[0m\u001b[97m█\u001b[0m\u001b[97m█\u001b[0m\u001b[97m█\u001b[0m                                |                    \u001b[K\u001b[F\u001b[K\u001b[F\u001b[K\u001b[F\u001b[K\u001b[F \u001b[1mIters\u001b[0m    \u001b[1mElapsed Time\u001b[0m      \u001b[1mSpeed\u001b[0m    \u001b[1mepoch\u001b[0m   \u001b[1mloss\u001b[0m                               \n",
      " \u001b[99m15/\u001b[93m70\u001b[0m\u001b[0m  \u001b[99m00:34:10<\u001b[93m02:05:17\u001b[0m\u001b[0m  \u001b[99m0.01it/s\u001b[0m  \u001b[99m15/70\u001b[0m  \u001b[99m0.04146\u001b[0m                             \n",
      " \u001b[1mloss_a\u001b[0m                                                                         \n",
      " \u001b[99m0.04205\u001b[0m                                                                        \n",
      "\u001b[1mDescription\u001b[0m  21.4% |\u001b[97m█\u001b[0m\u001b[97m█\u001b[0m\u001b[97m█\u001b[0m\u001b[97m█\u001b[0m\u001b[97m█\u001b[0m\u001b[97m█\u001b[0m\u001b[97m█\u001b[0m\u001b[97m█\u001b[0m                               |                    \u001b[K\u001b[F\u001b[K\u001b[F\u001b[K\u001b[F\u001b[K\u001b[F \u001b[1mIters\u001b[0m    \u001b[1mElapsed Time\u001b[0m      \u001b[1mSpeed\u001b[0m    \u001b[1mepoch\u001b[0m   \u001b[1mloss\u001b[0m                               \n",
      " \u001b[99m16/\u001b[93m70\u001b[0m\u001b[0m  \u001b[99m00:36:26<\u001b[93m02:03:00\u001b[0m\u001b[0m  \u001b[99m0.01it/s\u001b[0m  \u001b[99m16/70\u001b[0m  \u001b[99m0.04126\u001b[0m                             \n",
      " \u001b[1mloss_a\u001b[0m                                                                         \n",
      " \u001b[99m0.04487\u001b[0m                                                                        \n",
      "\u001b[1mDescription\u001b[0m  22.9% |\u001b[97m█\u001b[0m\u001b[97m█\u001b[0m\u001b[97m█\u001b[0m\u001b[97m█\u001b[0m\u001b[97m█\u001b[0m\u001b[97m█\u001b[0m\u001b[97m█\u001b[0m\u001b[97m█\u001b[0m                               |                    \u001b[K\u001b[F\u001b[K\u001b[F\u001b[K\u001b[F\u001b[K\u001b[F \u001b[1mIters\u001b[0m    \u001b[1mElapsed Time\u001b[0m      \u001b[1mSpeed\u001b[0m    \u001b[1mepoch\u001b[0m   \u001b[1mloss\u001b[0m                               \n",
      " \u001b[99m17/\u001b[93m70\u001b[0m\u001b[0m  \u001b[99m00:38:43<\u001b[93m02:00:42\u001b[0m\u001b[0m  \u001b[99m0.01it/s\u001b[0m  \u001b[99m17/70\u001b[0m  \u001b[99m0.04096\u001b[0m                             \n",
      " \u001b[1mloss_a\u001b[0m                                                                         \n",
      " \u001b[99m0.04303\u001b[0m                                                                        \n",
      "\u001b[1mDescription\u001b[0m  24.3% |\u001b[97m█\u001b[0m\u001b[97m█\u001b[0m\u001b[97m█\u001b[0m\u001b[97m█\u001b[0m\u001b[97m█\u001b[0m\u001b[97m█\u001b[0m\u001b[97m█\u001b[0m\u001b[97m█\u001b[0m\u001b[97m█\u001b[0m                              |                    \u001b[K\u001b[F\u001b[K\u001b[F\u001b[K\u001b[F\u001b[K\u001b[F \u001b[1mIters\u001b[0m    \u001b[1mElapsed Time\u001b[0m      \u001b[1mSpeed\u001b[0m    \u001b[1mepoch\u001b[0m   \u001b[1mloss\u001b[0m                               \n",
      " \u001b[99m18/\u001b[93m70\u001b[0m\u001b[0m  \u001b[99m00:40:59<\u001b[93m01:58:24\u001b[0m\u001b[0m  \u001b[99m0.01it/s\u001b[0m  \u001b[99m18/70\u001b[0m  \u001b[99m0.04050\u001b[0m                             \n",
      " \u001b[1mloss_a\u001b[0m                                                                         \n",
      " \u001b[99m0.04111\u001b[0m                                                                        \n",
      "\u001b[1mDescription\u001b[0m  25.7% |\u001b[97m█\u001b[0m\u001b[97m█\u001b[0m\u001b[97m█\u001b[0m\u001b[97m█\u001b[0m\u001b[97m█\u001b[0m\u001b[97m█\u001b[0m\u001b[97m█\u001b[0m\u001b[97m█\u001b[0m\u001b[97m█\u001b[0m\u001b[97m█\u001b[0m                             |                    \u001b[K\u001b[F\u001b[K\u001b[F\u001b[K\u001b[F\u001b[K\u001b[F \u001b[1mIters\u001b[0m    \u001b[1mElapsed Time\u001b[0m      \u001b[1mSpeed\u001b[0m    \u001b[1mepoch\u001b[0m   \u001b[1mloss\u001b[0m                               \n",
      " \u001b[99m19/\u001b[93m70\u001b[0m\u001b[0m  \u001b[99m00:43:15<\u001b[93m01:56:07\u001b[0m\u001b[0m  \u001b[99m0.01it/s\u001b[0m  \u001b[99m19/70\u001b[0m  \u001b[99m0.04030\u001b[0m                             \n",
      " \u001b[1mloss_a\u001b[0m                                                                         \n",
      " \u001b[99m0.04088\u001b[0m                                                                        \n",
      "\u001b[1mDescription\u001b[0m  27.1% |\u001b[97m█\u001b[0m\u001b[97m█\u001b[0m\u001b[97m█\u001b[0m\u001b[97m█\u001b[0m\u001b[97m█\u001b[0m\u001b[97m█\u001b[0m\u001b[97m█\u001b[0m\u001b[97m█\u001b[0m\u001b[97m█\u001b[0m\u001b[97m█\u001b[0m                             |                    \u001b[K\u001b[F\u001b[K\u001b[F\u001b[K\u001b[F\u001b[K\u001b[F \u001b[1mIters\u001b[0m    \u001b[1mElapsed Time\u001b[0m      \u001b[1mSpeed\u001b[0m    \u001b[1mepoch\u001b[0m   \u001b[1mloss\u001b[0m                               \n",
      " \u001b[99m20/\u001b[93m70\u001b[0m\u001b[0m  \u001b[99m00:45:32<\u001b[93m01:53:50\u001b[0m\u001b[0m  \u001b[99m0.01it/s\u001b[0m  \u001b[99m20/70\u001b[0m  \u001b[99m0.04013\u001b[0m                             \n",
      " \u001b[1mloss_a\u001b[0m                                                                         \n",
      " \u001b[99m0.04029\u001b[0m                                                                        \n",
      "\u001b[1mDescription\u001b[0m  28.6% |\u001b[97m█\u001b[0m\u001b[97m█\u001b[0m\u001b[97m█\u001b[0m\u001b[97m█\u001b[0m\u001b[97m█\u001b[0m\u001b[97m█\u001b[0m\u001b[97m█\u001b[0m\u001b[97m█\u001b[0m\u001b[97m█\u001b[0m\u001b[97m█\u001b[0m\u001b[97m█\u001b[0m                            |                    \u001b[K\u001b[F\u001b[K\u001b[F\u001b[K\u001b[F\u001b[K\u001b[F \u001b[1mIters\u001b[0m    \u001b[1mElapsed Time\u001b[0m      \u001b[1mSpeed\u001b[0m    \u001b[1mepoch\u001b[0m   \u001b[1mloss\u001b[0m                               \n",
      " \u001b[99m21/\u001b[93m70\u001b[0m\u001b[0m  \u001b[99m00:47:48<\u001b[93m01:51:33\u001b[0m\u001b[0m  \u001b[99m0.01it/s\u001b[0m  \u001b[99m21/70\u001b[0m  \u001b[99m0.04002\u001b[0m                             \n",
      " \u001b[1mloss_a\u001b[0m                                                                         \n",
      " \u001b[99m0.04093\u001b[0m                                                                        \n",
      "\u001b[1mDescription\u001b[0m  30.0% |\u001b[97m█\u001b[0m\u001b[97m█\u001b[0m\u001b[97m█\u001b[0m\u001b[97m█\u001b[0m\u001b[97m█\u001b[0m\u001b[97m█\u001b[0m\u001b[97m█\u001b[0m\u001b[97m█\u001b[0m\u001b[97m█\u001b[0m\u001b[97m█\u001b[0m\u001b[97m█\u001b[0m                            |                    \u001b[K\u001b[F\u001b[K\u001b[F\u001b[K\u001b[F\u001b[K\u001b[F \u001b[1mIters\u001b[0m    \u001b[1mElapsed Time\u001b[0m      \u001b[1mSpeed\u001b[0m    \u001b[1mepoch\u001b[0m   \u001b[1mloss\u001b[0m                               \n",
      " \u001b[99m22/\u001b[93m70\u001b[0m\u001b[0m  \u001b[99m00:50:05<\u001b[93m01:49:16\u001b[0m\u001b[0m  \u001b[99m0.01it/s\u001b[0m  \u001b[99m22/70\u001b[0m  \u001b[99m0.03969\u001b[0m                             \n",
      " \u001b[1mloss_a\u001b[0m                                                                         \n",
      " \u001b[99m0.03951\u001b[0m                                                                        \n",
      "\u001b[1mDescription\u001b[0m  31.4% |\u001b[97m█\u001b[0m\u001b[97m█\u001b[0m\u001b[97m█\u001b[0m\u001b[97m█\u001b[0m\u001b[97m█\u001b[0m\u001b[97m█\u001b[0m\u001b[97m█\u001b[0m\u001b[97m█\u001b[0m\u001b[97m█\u001b[0m\u001b[97m█\u001b[0m\u001b[97m█\u001b[0m\u001b[97m█\u001b[0m                           |                    \u001b[K\u001b[F\u001b[K\u001b[F\u001b[K\u001b[F\u001b[K\u001b[F \u001b[1mIters\u001b[0m    \u001b[1mElapsed Time\u001b[0m      \u001b[1mSpeed\u001b[0m    \u001b[1mepoch\u001b[0m   \u001b[1mloss\u001b[0m                               \n",
      " \u001b[99m23/\u001b[93m70\u001b[0m\u001b[0m  \u001b[99m00:52:22<\u001b[93m01:47:00\u001b[0m\u001b[0m  \u001b[99m0.01it/s\u001b[0m  \u001b[99m23/70\u001b[0m  \u001b[99m0.03963\u001b[0m                             \n",
      " \u001b[1mloss_a\u001b[0m                                                                         \n",
      " \u001b[99m0.04057\u001b[0m                                                                        \n",
      "\u001b[1mDescription\u001b[0m  32.9% |\u001b[97m█\u001b[0m\u001b[97m█\u001b[0m\u001b[97m█\u001b[0m\u001b[97m█\u001b[0m\u001b[97m█\u001b[0m\u001b[97m█\u001b[0m\u001b[97m█\u001b[0m\u001b[97m█\u001b[0m\u001b[97m█\u001b[0m\u001b[97m█\u001b[0m\u001b[97m█\u001b[0m\u001b[97m█\u001b[0m                           |                    \u001b[K\u001b[F\u001b[K\u001b[F\u001b[K\u001b[F\u001b[K\u001b[F \u001b[1mIters\u001b[0m    \u001b[1mElapsed Time\u001b[0m      \u001b[1mSpeed\u001b[0m    \u001b[1mepoch\u001b[0m   \u001b[1mloss\u001b[0m                               \n",
      " \u001b[99m24/\u001b[93m70\u001b[0m\u001b[0m  \u001b[99m00:54:38<\u001b[93m01:44:43\u001b[0m\u001b[0m  \u001b[99m0.01it/s\u001b[0m  \u001b[99m24/70\u001b[0m  \u001b[99m0.03939\u001b[0m                             \n",
      " \u001b[1mloss_a\u001b[0m                                                                         \n",
      " \u001b[99m0.03943\u001b[0m                                                                        \n",
      "\u001b[1mDescription\u001b[0m  34.3% |\u001b[97m█\u001b[0m\u001b[97m█\u001b[0m\u001b[97m█\u001b[0m\u001b[97m█\u001b[0m\u001b[97m█\u001b[0m\u001b[97m█\u001b[0m\u001b[97m█\u001b[0m\u001b[97m█\u001b[0m\u001b[97m█\u001b[0m\u001b[97m█\u001b[0m\u001b[97m█\u001b[0m\u001b[97m█\u001b[0m\u001b[97m█\u001b[0m                          |                    \u001b[K\u001b[F\u001b[K\u001b[F\u001b[K\u001b[F\u001b[K\u001b[F \u001b[1mIters\u001b[0m    \u001b[1mElapsed Time\u001b[0m      \u001b[1mSpeed\u001b[0m    \u001b[1mepoch\u001b[0m   \u001b[1mloss\u001b[0m                               \n",
      " \u001b[99m25/\u001b[93m70\u001b[0m\u001b[0m  \u001b[99m00:56:54<\u001b[93m01:42:26\u001b[0m\u001b[0m  \u001b[99m0.01it/s\u001b[0m  \u001b[99m25/70\u001b[0m  \u001b[99m0.03934\u001b[0m                             \n",
      " \u001b[1mloss_a\u001b[0m                                                                         \n",
      " \u001b[99m0.03980\u001b[0m                                                                        \n",
      "\u001b[1mDescription\u001b[0m  35.7% |\u001b[97m█\u001b[0m\u001b[97m█\u001b[0m\u001b[97m█\u001b[0m\u001b[97m█\u001b[0m\u001b[97m█\u001b[0m\u001b[97m█\u001b[0m\u001b[97m█\u001b[0m\u001b[97m█\u001b[0m\u001b[97m█\u001b[0m\u001b[97m█\u001b[0m\u001b[97m█\u001b[0m\u001b[97m█\u001b[0m\u001b[97m█\u001b[0m                          |                    \u001b[K\u001b[F\u001b[K\u001b[F\u001b[K\u001b[F\u001b[K\u001b[F \u001b[1mIters\u001b[0m    \u001b[1mElapsed Time\u001b[0m      \u001b[1mSpeed\u001b[0m    \u001b[1mepoch\u001b[0m   \u001b[1mloss\u001b[0m                               \n",
      " \u001b[99m26/\u001b[93m70\u001b[0m\u001b[0m  \u001b[99m00:59:10<\u001b[93m01:40:09\u001b[0m\u001b[0m  \u001b[99m0.01it/s\u001b[0m  \u001b[99m26/70\u001b[0m  \u001b[99m0.03919\u001b[0m                             \n",
      " \u001b[1mloss_a\u001b[0m                                                                         \n",
      " \u001b[99m0.04006\u001b[0m                                                                        \n",
      "\u001b[1mDescription\u001b[0m  37.1% |\u001b[97m█\u001b[0m\u001b[97m█\u001b[0m\u001b[97m█\u001b[0m\u001b[97m█\u001b[0m\u001b[97m█\u001b[0m\u001b[97m█\u001b[0m\u001b[97m█\u001b[0m\u001b[97m█\u001b[0m\u001b[97m█\u001b[0m\u001b[97m█\u001b[0m\u001b[97m█\u001b[0m\u001b[97m█\u001b[0m\u001b[97m█\u001b[0m\u001b[97m█\u001b[0m                         |                    \u001b[K\u001b[F\u001b[K\u001b[F\u001b[K\u001b[F\u001b[K\u001b[F \u001b[1mIters\u001b[0m    \u001b[1mElapsed Time\u001b[0m      \u001b[1mSpeed\u001b[0m    \u001b[1mepoch\u001b[0m   \u001b[1mloss\u001b[0m                               \n",
      " \u001b[99m27/\u001b[93m70\u001b[0m\u001b[0m  \u001b[99m01:01:27<\u001b[93m01:37:52\u001b[0m\u001b[0m  \u001b[99m0.01it/s\u001b[0m  \u001b[99m27/70\u001b[0m  \u001b[99m0.03893\u001b[0m                             \n",
      " \u001b[1mloss_a\u001b[0m                                                                         \n",
      " \u001b[99m0.03950\u001b[0m                                                                        \n",
      "\u001b[1mDescription\u001b[0m  38.6% |\u001b[97m█\u001b[0m\u001b[97m█\u001b[0m\u001b[97m█\u001b[0m\u001b[97m█\u001b[0m\u001b[97m█\u001b[0m\u001b[97m█\u001b[0m\u001b[97m█\u001b[0m\u001b[97m█\u001b[0m\u001b[97m█\u001b[0m\u001b[97m█\u001b[0m\u001b[97m█\u001b[0m\u001b[97m█\u001b[0m\u001b[97m█\u001b[0m\u001b[97m█\u001b[0m\u001b[97m█\u001b[0m                        |                    \u001b[K\u001b[F\u001b[K\u001b[F\u001b[K\u001b[F\u001b[K\u001b[F \u001b[1mIters\u001b[0m    \u001b[1mElapsed Time\u001b[0m      \u001b[1mSpeed\u001b[0m    \u001b[1mepoch\u001b[0m   \u001b[1mloss\u001b[0m                               \n",
      " \u001b[99m28/\u001b[93m70\u001b[0m\u001b[0m  \u001b[99m01:03:43<\u001b[93m01:35:35\u001b[0m\u001b[0m  \u001b[99m0.01it/s\u001b[0m  \u001b[99m28/70\u001b[0m  \u001b[99m0.03885\u001b[0m                             \n",
      " \u001b[1mloss_a\u001b[0m                                                                         \n",
      " \u001b[99m0.03965\u001b[0m                                                                        \n",
      "\u001b[1mDescription\u001b[0m  40.0% |\u001b[97m█\u001b[0m\u001b[97m█\u001b[0m\u001b[97m█\u001b[0m\u001b[97m█\u001b[0m\u001b[97m█\u001b[0m\u001b[97m█\u001b[0m\u001b[97m█\u001b[0m\u001b[97m█\u001b[0m\u001b[97m█\u001b[0m\u001b[97m█\u001b[0m\u001b[97m█\u001b[0m\u001b[97m█\u001b[0m\u001b[97m█\u001b[0m\u001b[97m█\u001b[0m\u001b[97m█\u001b[0m                        |                    \u001b[K\u001b[F\u001b[K\u001b[F\u001b[K\u001b[F\u001b[K\u001b[F \u001b[1mIters\u001b[0m    \u001b[1mElapsed Time\u001b[0m      \u001b[1mSpeed\u001b[0m    \u001b[1mepoch\u001b[0m   \u001b[1mloss\u001b[0m                               \n",
      " \u001b[99m29/\u001b[93m70\u001b[0m\u001b[0m  \u001b[99m01:05:59<\u001b[93m01:33:17\u001b[0m\u001b[0m  \u001b[99m0.01it/s\u001b[0m  \u001b[99m29/70\u001b[0m  \u001b[99m0.03879\u001b[0m                             \n",
      " \u001b[1mloss_a\u001b[0m                                                                         \n",
      " \u001b[99m0.04095\u001b[0m                                                                        \n",
      "\u001b[1mDescription\u001b[0m  41.4% |\u001b[97m█\u001b[0m\u001b[97m█\u001b[0m\u001b[97m█\u001b[0m\u001b[97m█\u001b[0m\u001b[97m█\u001b[0m\u001b[97m█\u001b[0m\u001b[97m█\u001b[0m\u001b[97m█\u001b[0m\u001b[97m█\u001b[0m\u001b[97m█\u001b[0m\u001b[97m█\u001b[0m\u001b[97m█\u001b[0m\u001b[97m█\u001b[0m\u001b[97m█\u001b[0m\u001b[97m█\u001b[0m\u001b[97m█\u001b[0m                       |                    \u001b[K\u001b[F\u001b[K\u001b[F\u001b[K\u001b[F\u001b[K\u001b[F \u001b[1mIters\u001b[0m    \u001b[1mElapsed Time\u001b[0m      \u001b[1mSpeed\u001b[0m    \u001b[1mepoch\u001b[0m   \u001b[1mloss\u001b[0m                               \n",
      " \u001b[99m30/\u001b[93m70\u001b[0m\u001b[0m  \u001b[99m01:08:15<\u001b[93m01:31:00\u001b[0m\u001b[0m  \u001b[99m0.01it/s\u001b[0m  \u001b[99m30/70\u001b[0m  \u001b[99m0.03871\u001b[0m                             \n",
      " \u001b[1mloss_a\u001b[0m                                                                         \n",
      " \u001b[99m0.03915\u001b[0m                                                                        \n",
      "\u001b[1mDescription\u001b[0m  42.9% |\u001b[97m█\u001b[0m\u001b[97m█\u001b[0m\u001b[97m█\u001b[0m\u001b[97m█\u001b[0m\u001b[97m█\u001b[0m\u001b[97m█\u001b[0m\u001b[97m█\u001b[0m\u001b[97m█\u001b[0m\u001b[97m█\u001b[0m\u001b[97m█\u001b[0m\u001b[97m█\u001b[0m\u001b[97m█\u001b[0m\u001b[97m█\u001b[0m\u001b[97m█\u001b[0m\u001b[97m█\u001b[0m\u001b[97m█\u001b[0m                       |                    \u001b[K\u001b[F\u001b[K\u001b[F\u001b[K\u001b[F\u001b[K\u001b[F \u001b[1mIters\u001b[0m    \u001b[1mElapsed Time\u001b[0m      \u001b[1mSpeed\u001b[0m    \u001b[1mepoch\u001b[0m   \u001b[1mloss\u001b[0m                               \n",
      " \u001b[99m31/\u001b[93m70\u001b[0m\u001b[0m  \u001b[99m01:10:31<\u001b[93m01:28:43\u001b[0m\u001b[0m  \u001b[99m0.01it/s\u001b[0m  \u001b[99m31/70\u001b[0m  \u001b[99m0.03855\u001b[0m                             \n",
      " \u001b[1mloss_a\u001b[0m                                                                         \n",
      " \u001b[99m0.03946\u001b[0m                                                                        \n",
      "\u001b[1mDescription\u001b[0m  44.3% |\u001b[97m█\u001b[0m\u001b[97m█\u001b[0m\u001b[97m█\u001b[0m\u001b[97m█\u001b[0m\u001b[97m█\u001b[0m\u001b[97m█\u001b[0m\u001b[97m█\u001b[0m\u001b[97m█\u001b[0m\u001b[97m█\u001b[0m\u001b[97m█\u001b[0m\u001b[97m█\u001b[0m\u001b[97m█\u001b[0m\u001b[97m█\u001b[0m\u001b[97m█\u001b[0m\u001b[97m█\u001b[0m\u001b[97m█\u001b[0m\u001b[97m█\u001b[0m                      |                    \u001b[K\u001b[F\u001b[K\u001b[F\u001b[K\u001b[F\u001b[K\u001b[F \u001b[1mIters\u001b[0m    \u001b[1mElapsed Time\u001b[0m      \u001b[1mSpeed\u001b[0m    \u001b[1mepoch\u001b[0m   \u001b[1mloss\u001b[0m                               \n",
      " \u001b[99m32/\u001b[93m70\u001b[0m\u001b[0m  \u001b[99m01:12:48<\u001b[93m01:26:27\u001b[0m\u001b[0m  \u001b[99m0.01it/s\u001b[0m  \u001b[99m32/70\u001b[0m  \u001b[99m0.03844\u001b[0m                             \n",
      " \u001b[1mloss_a\u001b[0m                                                                         \n",
      " \u001b[99m0.03925\u001b[0m                                                                        \n",
      "\u001b[1mDescription\u001b[0m  45.7% |\u001b[97m█\u001b[0m\u001b[97m█\u001b[0m\u001b[97m█\u001b[0m\u001b[97m█\u001b[0m\u001b[97m█\u001b[0m\u001b[97m█\u001b[0m\u001b[97m█\u001b[0m\u001b[97m█\u001b[0m\u001b[97m█\u001b[0m\u001b[97m█\u001b[0m\u001b[97m█\u001b[0m\u001b[97m█\u001b[0m\u001b[97m█\u001b[0m\u001b[97m█\u001b[0m\u001b[97m█\u001b[0m\u001b[97m█\u001b[0m\u001b[97m█\u001b[0m                      |                    \u001b[K\u001b[F\u001b[K\u001b[F\u001b[K\u001b[F\u001b[K\u001b[F \u001b[1mIters\u001b[0m    \u001b[1mElapsed Time\u001b[0m      \u001b[1mSpeed\u001b[0m    \u001b[1mepoch\u001b[0m   \u001b[1mloss\u001b[0m                               \n",
      " \u001b[99m33/\u001b[93m70\u001b[0m\u001b[0m  \u001b[99m01:15:04<\u001b[93m01:24:10\u001b[0m\u001b[0m  \u001b[99m0.01it/s\u001b[0m  \u001b[99m33/70\u001b[0m  \u001b[99m0.03854\u001b[0m                             \n",
      " \u001b[1mloss_a\u001b[0m                                                                         \n",
      " \u001b[99m0.03989\u001b[0m                                                                        \n",
      "\u001b[1mDescription\u001b[0m  47.1% |\u001b[97m█\u001b[0m\u001b[97m█\u001b[0m\u001b[97m█\u001b[0m\u001b[97m█\u001b[0m\u001b[97m█\u001b[0m\u001b[97m█\u001b[0m\u001b[97m█\u001b[0m\u001b[97m█\u001b[0m\u001b[97m█\u001b[0m\u001b[97m█\u001b[0m\u001b[97m█\u001b[0m\u001b[97m█\u001b[0m\u001b[97m█\u001b[0m\u001b[97m█\u001b[0m\u001b[97m█\u001b[0m\u001b[97m█\u001b[0m\u001b[97m█\u001b[0m\u001b[97m█\u001b[0m                     |                    \u001b[K\u001b[F\u001b[K\u001b[F\u001b[K\u001b[F\u001b[K\u001b[F \u001b[1mIters\u001b[0m    \u001b[1mElapsed Time\u001b[0m      \u001b[1mSpeed\u001b[0m    \u001b[1mepoch\u001b[0m   \u001b[1mloss\u001b[0m                               \n",
      " \u001b[99m34/\u001b[93m70\u001b[0m\u001b[0m  \u001b[99m01:17:20<\u001b[93m01:21:53\u001b[0m\u001b[0m  \u001b[99m0.01it/s\u001b[0m  \u001b[99m34/70\u001b[0m  \u001b[99m0.03839\u001b[0m                             \n",
      " \u001b[1mloss_a\u001b[0m                                                                         \n",
      " \u001b[99m0.03935\u001b[0m                                                                        \n",
      "\u001b[1mDescription\u001b[0m  48.6% |\u001b[97m█\u001b[0m\u001b[97m█\u001b[0m\u001b[97m█\u001b[0m\u001b[97m█\u001b[0m\u001b[97m█\u001b[0m\u001b[97m█\u001b[0m\u001b[97m█\u001b[0m\u001b[97m█\u001b[0m\u001b[97m█\u001b[0m\u001b[97m█\u001b[0m\u001b[97m█\u001b[0m\u001b[97m█\u001b[0m\u001b[97m█\u001b[0m\u001b[97m█\u001b[0m\u001b[97m█\u001b[0m\u001b[97m█\u001b[0m\u001b[97m█\u001b[0m\u001b[97m█\u001b[0m                     |                    \u001b[K\u001b[F\u001b[K\u001b[F\u001b[K\u001b[F\u001b[K\u001b[F \u001b[1mIters\u001b[0m    \u001b[1mElapsed Time\u001b[0m      \u001b[1mSpeed\u001b[0m    \u001b[1mepoch\u001b[0m   \u001b[1mloss\u001b[0m                               \n",
      " \u001b[99m35/\u001b[93m70\u001b[0m\u001b[0m  \u001b[99m01:19:37<\u001b[93m01:19:37\u001b[0m\u001b[0m  \u001b[99m0.01it/s\u001b[0m  \u001b[99m35/70\u001b[0m  \u001b[99m0.03827\u001b[0m                             \n",
      " \u001b[1mloss_a\u001b[0m                                                                         \n",
      " \u001b[99m0.04384\u001b[0m                                                                        \n",
      "\u001b[1mDescription\u001b[0m  50.0% |\u001b[97m█\u001b[0m\u001b[97m█\u001b[0m\u001b[97m█\u001b[0m\u001b[97m█\u001b[0m\u001b[97m█\u001b[0m\u001b[97m█\u001b[0m\u001b[97m█\u001b[0m\u001b[97m█\u001b[0m\u001b[97m█\u001b[0m\u001b[97m█\u001b[0m\u001b[97m█\u001b[0m\u001b[97m█\u001b[0m\u001b[97m█\u001b[0m\u001b[97m█\u001b[0m\u001b[97m█\u001b[0m\u001b[97m█\u001b[0m\u001b[97m█\u001b[0m\u001b[97m█\u001b[0m\u001b[97m█\u001b[0m                    |                    \u001b[K\u001b[F\u001b[K\u001b[F\u001b[K\u001b[F\u001b[K\u001b[F \u001b[1mIters\u001b[0m    \u001b[1mElapsed Time\u001b[0m      \u001b[1mSpeed\u001b[0m    \u001b[1mepoch\u001b[0m   \u001b[1mloss\u001b[0m                               \n",
      " \u001b[99m36/\u001b[93m70\u001b[0m\u001b[0m  \u001b[99m01:21:53<\u001b[93m01:17:20\u001b[0m\u001b[0m  \u001b[99m0.01it/s\u001b[0m  \u001b[99m36/70\u001b[0m  \u001b[99m0.03851\u001b[0m                             \n",
      " \u001b[1mloss_a\u001b[0m                                                                         \n",
      " \u001b[99m0.04019\u001b[0m                                                                        \n",
      "\u001b[1mDescription\u001b[0m  51.4% |\u001b[97m█\u001b[0m\u001b[97m█\u001b[0m\u001b[97m█\u001b[0m\u001b[97m█\u001b[0m\u001b[97m█\u001b[0m\u001b[97m█\u001b[0m\u001b[97m█\u001b[0m\u001b[97m█\u001b[0m\u001b[97m█\u001b[0m\u001b[97m█\u001b[0m\u001b[97m█\u001b[0m\u001b[97m█\u001b[0m\u001b[97m█\u001b[0m\u001b[97m█\u001b[0m\u001b[97m█\u001b[0m\u001b[97m█\u001b[0m\u001b[97m█\u001b[0m\u001b[97m█\u001b[0m\u001b[97m█\u001b[0m\u001b[97m█\u001b[0m                   |                    \u001b[K\u001b[F\u001b[K\u001b[F\u001b[K\u001b[F\u001b[K\u001b[F \u001b[1mIters\u001b[0m    \u001b[1mElapsed Time\u001b[0m      \u001b[1mSpeed\u001b[0m    \u001b[1mepoch\u001b[0m   \u001b[1mloss\u001b[0m                               \n",
      " \u001b[99m37/\u001b[93m70\u001b[0m\u001b[0m  \u001b[99m01:24:09<\u001b[93m01:15:03\u001b[0m\u001b[0m  \u001b[99m0.01it/s\u001b[0m  \u001b[99m37/70\u001b[0m  \u001b[99m0.03839\u001b[0m                             \n",
      " \u001b[1mloss_a\u001b[0m                                                                         \n",
      " \u001b[99m0.03973\u001b[0m                                                                        \n",
      "\u001b[1mDescription\u001b[0m  52.9% |\u001b[97m█\u001b[0m\u001b[97m█\u001b[0m\u001b[97m█\u001b[0m\u001b[97m█\u001b[0m\u001b[97m█\u001b[0m\u001b[97m█\u001b[0m\u001b[97m█\u001b[0m\u001b[97m█\u001b[0m\u001b[97m█\u001b[0m\u001b[97m█\u001b[0m\u001b[97m█\u001b[0m\u001b[97m█\u001b[0m\u001b[97m█\u001b[0m\u001b[97m█\u001b[0m\u001b[97m█\u001b[0m\u001b[97m█\u001b[0m\u001b[97m█\u001b[0m\u001b[97m█\u001b[0m\u001b[97m█\u001b[0m\u001b[97m█\u001b[0m                   |                    \u001b[K\u001b[F\u001b[K\u001b[F\u001b[K\u001b[F\u001b[K\u001b[F \u001b[1mIters\u001b[0m    \u001b[1mElapsed Time\u001b[0m      \u001b[1mSpeed\u001b[0m    \u001b[1mepoch\u001b[0m   \u001b[1mloss\u001b[0m                               \n",
      " \u001b[99m38/\u001b[93m70\u001b[0m\u001b[0m  \u001b[99m01:26:26<\u001b[93m01:12:47\u001b[0m\u001b[0m  \u001b[99m0.01it/s\u001b[0m  \u001b[99m38/70\u001b[0m  \u001b[99m0.03826\u001b[0m                             \n",
      " \u001b[1mloss_a\u001b[0m                                                                         \n",
      " \u001b[99m0.03962\u001b[0m                                                                        \n",
      "\u001b[1mDescription\u001b[0m  54.3% |\u001b[97m█\u001b[0m\u001b[97m█\u001b[0m\u001b[97m█\u001b[0m\u001b[97m█\u001b[0m\u001b[97m█\u001b[0m\u001b[97m█\u001b[0m\u001b[97m█\u001b[0m\u001b[97m█\u001b[0m\u001b[97m█\u001b[0m\u001b[97m█\u001b[0m\u001b[97m█\u001b[0m\u001b[97m█\u001b[0m\u001b[97m█\u001b[0m\u001b[97m█\u001b[0m\u001b[97m█\u001b[0m\u001b[97m█\u001b[0m\u001b[97m█\u001b[0m\u001b[97m█\u001b[0m\u001b[97m█\u001b[0m\u001b[97m█\u001b[0m\u001b[97m█\u001b[0m                  |                    \u001b[K\u001b[F\u001b[K\u001b[F\u001b[K\u001b[F\u001b[K\u001b[F \u001b[1mIters\u001b[0m    \u001b[1mElapsed Time\u001b[0m      \u001b[1mSpeed\u001b[0m    \u001b[1mepoch\u001b[0m   \u001b[1mloss\u001b[0m                               \n",
      " \u001b[99m39/\u001b[93m70\u001b[0m\u001b[0m  \u001b[99m01:28:42<\u001b[93m01:10:30\u001b[0m\u001b[0m  \u001b[99m0.01it/s\u001b[0m  \u001b[99m39/70\u001b[0m  \u001b[99m0.03842\u001b[0m                             \n",
      " \u001b[1mloss_a\u001b[0m                                                                         \n",
      " \u001b[99m0.03998\u001b[0m                                                                        \n",
      "\u001b[1mDescription\u001b[0m  55.7% |\u001b[97m█\u001b[0m\u001b[97m█\u001b[0m\u001b[97m█\u001b[0m\u001b[97m█\u001b[0m\u001b[97m█\u001b[0m\u001b[97m█\u001b[0m\u001b[97m█\u001b[0m\u001b[97m█\u001b[0m\u001b[97m█\u001b[0m\u001b[97m█\u001b[0m\u001b[97m█\u001b[0m\u001b[97m█\u001b[0m\u001b[97m█\u001b[0m\u001b[97m█\u001b[0m\u001b[97m█\u001b[0m\u001b[97m█\u001b[0m\u001b[97m█\u001b[0m\u001b[97m█\u001b[0m\u001b[97m█\u001b[0m\u001b[97m█\u001b[0m\u001b[97m█\u001b[0m                  |                    \u001b[K\u001b[F\u001b[K\u001b[F\u001b[K\u001b[F\u001b[K\u001b[F \u001b[1mIters\u001b[0m    \u001b[1mElapsed Time\u001b[0m      \u001b[1mSpeed\u001b[0m    \u001b[1mepoch\u001b[0m   \u001b[1mloss\u001b[0m                               \n",
      " \u001b[99m40/\u001b[93m70\u001b[0m\u001b[0m  \u001b[99m01:30:58<\u001b[93m01:08:13\u001b[0m\u001b[0m  \u001b[99m0.01it/s\u001b[0m  \u001b[99m40/70\u001b[0m  \u001b[99m0.03823\u001b[0m                             \n",
      " \u001b[1mloss_a\u001b[0m                                                                         \n",
      " \u001b[99m0.03975\u001b[0m                                                                        \n",
      "\u001b[1mDescription\u001b[0m  57.1% |\u001b[97m█\u001b[0m\u001b[97m█\u001b[0m\u001b[97m█\u001b[0m\u001b[97m█\u001b[0m\u001b[97m█\u001b[0m\u001b[97m█\u001b[0m\u001b[97m█\u001b[0m\u001b[97m█\u001b[0m\u001b[97m█\u001b[0m\u001b[97m█\u001b[0m\u001b[97m█\u001b[0m\u001b[97m█\u001b[0m\u001b[97m█\u001b[0m\u001b[97m█\u001b[0m\u001b[97m█\u001b[0m\u001b[97m█\u001b[0m\u001b[97m█\u001b[0m\u001b[97m█\u001b[0m\u001b[97m█\u001b[0m\u001b[97m█\u001b[0m\u001b[97m█\u001b[0m\u001b[97m█\u001b[0m                 |                    \u001b[K\u001b[F\u001b[K\u001b[F\u001b[K\u001b[F\u001b[K\u001b[F \u001b[1mIters\u001b[0m    \u001b[1mElapsed Time\u001b[0m      \u001b[1mSpeed\u001b[0m    \u001b[1mepoch\u001b[0m   \u001b[1mloss\u001b[0m                               \n",
      " \u001b[99m41/\u001b[93m70\u001b[0m\u001b[0m  \u001b[99m01:33:15<\u001b[93m01:05:57\u001b[0m\u001b[0m  \u001b[99m0.01it/s\u001b[0m  \u001b[99m41/70\u001b[0m  \u001b[99m0.03806\u001b[0m                             \n",
      " \u001b[1mloss_a\u001b[0m                                                                         \n",
      " \u001b[99m0.03987\u001b[0m                                                                        \n",
      "\u001b[1mDescription\u001b[0m  58.6% |\u001b[97m█\u001b[0m\u001b[97m█\u001b[0m\u001b[97m█\u001b[0m\u001b[97m█\u001b[0m\u001b[97m█\u001b[0m\u001b[97m█\u001b[0m\u001b[97m█\u001b[0m\u001b[97m█\u001b[0m\u001b[97m█\u001b[0m\u001b[97m█\u001b[0m\u001b[97m█\u001b[0m\u001b[97m█\u001b[0m\u001b[97m█\u001b[0m\u001b[97m█\u001b[0m\u001b[97m█\u001b[0m\u001b[97m█\u001b[0m\u001b[97m█\u001b[0m\u001b[97m█\u001b[0m\u001b[97m█\u001b[0m\u001b[97m█\u001b[0m\u001b[97m█\u001b[0m\u001b[97m█\u001b[0m                 |                    \u001b[K\u001b[F\u001b[K\u001b[F\u001b[K\u001b[F\u001b[K\u001b[F \u001b[1mIters\u001b[0m    \u001b[1mElapsed Time\u001b[0m      \u001b[1mSpeed\u001b[0m    \u001b[1mepoch\u001b[0m   \u001b[1mloss\u001b[0m                               \n",
      " \u001b[99m42/\u001b[93m70\u001b[0m\u001b[0m  \u001b[99m01:35:31<\u001b[93m01:03:41\u001b[0m\u001b[0m  \u001b[99m0.01it/s\u001b[0m  \u001b[99m42/70\u001b[0m  \u001b[99m0.03803\u001b[0m                             \n",
      " \u001b[1mloss_a\u001b[0m                                                                         \n",
      " \u001b[99m0.03987\u001b[0m                                                                        \n",
      "\u001b[1mDescription\u001b[0m  60.0% |\u001b[97m█\u001b[0m\u001b[97m█\u001b[0m\u001b[97m█\u001b[0m\u001b[97m█\u001b[0m\u001b[97m█\u001b[0m\u001b[97m█\u001b[0m\u001b[97m█\u001b[0m\u001b[97m█\u001b[0m\u001b[97m█\u001b[0m\u001b[97m█\u001b[0m\u001b[97m█\u001b[0m\u001b[97m█\u001b[0m\u001b[97m█\u001b[0m\u001b[97m█\u001b[0m\u001b[97m█\u001b[0m\u001b[97m█\u001b[0m\u001b[97m█\u001b[0m\u001b[97m█\u001b[0m\u001b[97m█\u001b[0m\u001b[97m█\u001b[0m\u001b[97m█\u001b[0m\u001b[97m█\u001b[0m\u001b[97m█\u001b[0m                |                    \u001b[K\u001b[F\u001b[K\u001b[F\u001b[K\u001b[F\u001b[K\u001b[F \u001b[1mIters\u001b[0m    \u001b[1mElapsed Time\u001b[0m      \u001b[1mSpeed\u001b[0m    \u001b[1mepoch\u001b[0m   \u001b[1mloss\u001b[0m                               \n",
      " \u001b[99m43/\u001b[93m70\u001b[0m\u001b[0m  \u001b[99m01:37:48<\u001b[93m01:01:24\u001b[0m\u001b[0m  \u001b[99m0.01it/s\u001b[0m  \u001b[99m43/70\u001b[0m  \u001b[99m0.03804\u001b[0m                             \n",
      " \u001b[1mloss_a\u001b[0m                                                                         \n",
      " \u001b[99m0.04015\u001b[0m                                                                        \n",
      "\u001b[1mDescription\u001b[0m  61.4% |\u001b[97m█\u001b[0m\u001b[97m█\u001b[0m\u001b[97m█\u001b[0m\u001b[97m█\u001b[0m\u001b[97m█\u001b[0m\u001b[97m█\u001b[0m\u001b[97m█\u001b[0m\u001b[97m█\u001b[0m\u001b[97m█\u001b[0m\u001b[97m█\u001b[0m\u001b[97m█\u001b[0m\u001b[97m█\u001b[0m\u001b[97m█\u001b[0m\u001b[97m█\u001b[0m\u001b[97m█\u001b[0m\u001b[97m█\u001b[0m\u001b[97m█\u001b[0m\u001b[97m█\u001b[0m\u001b[97m█\u001b[0m\u001b[97m█\u001b[0m\u001b[97m█\u001b[0m\u001b[97m█\u001b[0m\u001b[97m█\u001b[0m                |                    \u001b[K\u001b[F\u001b[K\u001b[F\u001b[K\u001b[F\u001b[K\u001b[F \u001b[1mIters\u001b[0m    \u001b[1mElapsed Time\u001b[0m      \u001b[1mSpeed\u001b[0m    \u001b[1mepoch\u001b[0m   \u001b[1mloss\u001b[0m                               \n",
      " \u001b[99m44/\u001b[93m70\u001b[0m\u001b[0m  \u001b[99m01:40:05<\u001b[93m00:59:08\u001b[0m\u001b[0m  \u001b[99m0.01it/s\u001b[0m  \u001b[99m44/70\u001b[0m  \u001b[99m0.03789\u001b[0m                             \n",
      " \u001b[1mloss_a\u001b[0m                                                                         \n",
      " \u001b[99m0.03980\u001b[0m                                                                        \n",
      "\u001b[1mDescription\u001b[0m  62.9% |\u001b[97m█\u001b[0m\u001b[97m█\u001b[0m\u001b[97m█\u001b[0m\u001b[97m█\u001b[0m\u001b[97m█\u001b[0m\u001b[97m█\u001b[0m\u001b[97m█\u001b[0m\u001b[97m█\u001b[0m\u001b[97m█\u001b[0m\u001b[97m█\u001b[0m\u001b[97m█\u001b[0m\u001b[97m█\u001b[0m\u001b[97m█\u001b[0m\u001b[97m█\u001b[0m\u001b[97m█\u001b[0m\u001b[97m█\u001b[0m\u001b[97m█\u001b[0m\u001b[97m█\u001b[0m\u001b[97m█\u001b[0m\u001b[97m█\u001b[0m\u001b[97m█\u001b[0m\u001b[97m█\u001b[0m\u001b[97m█\u001b[0m\u001b[97m█\u001b[0m               |                    \u001b[K\u001b[F\u001b[K\u001b[F\u001b[K\u001b[F\u001b[K\u001b[F \u001b[1mIters\u001b[0m    \u001b[1mElapsed Time\u001b[0m      \u001b[1mSpeed\u001b[0m    \u001b[1mepoch\u001b[0m   \u001b[1mloss\u001b[0m                               \n",
      " \u001b[99m45/\u001b[93m70\u001b[0m\u001b[0m  \u001b[99m01:42:22<\u001b[93m00:56:52\u001b[0m\u001b[0m  \u001b[99m0.01it/s\u001b[0m  \u001b[99m45/70\u001b[0m  \u001b[99m0.03777\u001b[0m                             \n",
      " \u001b[1mloss_a\u001b[0m                                                                         \n",
      " \u001b[99m0.04002\u001b[0m                                                                        \n",
      "\u001b[1mDescription\u001b[0m  64.3% |\u001b[97m█\u001b[0m\u001b[97m█\u001b[0m\u001b[97m█\u001b[0m\u001b[97m█\u001b[0m\u001b[97m█\u001b[0m\u001b[97m█\u001b[0m\u001b[97m█\u001b[0m\u001b[97m█\u001b[0m\u001b[97m█\u001b[0m\u001b[97m█\u001b[0m\u001b[97m█\u001b[0m\u001b[97m█\u001b[0m\u001b[97m█\u001b[0m\u001b[97m█\u001b[0m\u001b[97m█\u001b[0m\u001b[97m█\u001b[0m\u001b[97m█\u001b[0m\u001b[97m█\u001b[0m\u001b[97m█\u001b[0m\u001b[97m█\u001b[0m\u001b[97m█\u001b[0m\u001b[97m█\u001b[0m\u001b[97m█\u001b[0m\u001b[97m█\u001b[0m\u001b[97m█\u001b[0m              |                    \u001b[K\u001b[F\u001b[K\u001b[F\u001b[K\u001b[F\u001b[K\u001b[F \u001b[1mIters\u001b[0m    \u001b[1mElapsed Time\u001b[0m      \u001b[1mSpeed\u001b[0m    \u001b[1mepoch\u001b[0m   \u001b[1mloss\u001b[0m                               \n",
      " \u001b[99m46/\u001b[93m70\u001b[0m\u001b[0m  \u001b[99m01:44:38<\u001b[93m00:54:35\u001b[0m\u001b[0m  \u001b[99m0.01it/s\u001b[0m  \u001b[99m46/70\u001b[0m  \u001b[99m0.03771\u001b[0m                             \n",
      " \u001b[1mloss_a\u001b[0m                                                                         \n",
      " \u001b[99m0.04002\u001b[0m                                                                        \n",
      "\u001b[1mDescription\u001b[0m  65.7% |\u001b[97m█\u001b[0m\u001b[97m█\u001b[0m\u001b[97m█\u001b[0m\u001b[97m█\u001b[0m\u001b[97m█\u001b[0m\u001b[97m█\u001b[0m\u001b[97m█\u001b[0m\u001b[97m█\u001b[0m\u001b[97m█\u001b[0m\u001b[97m█\u001b[0m\u001b[97m█\u001b[0m\u001b[97m█\u001b[0m\u001b[97m█\u001b[0m\u001b[97m█\u001b[0m\u001b[97m█\u001b[0m\u001b[97m█\u001b[0m\u001b[97m█\u001b[0m\u001b[97m█\u001b[0m\u001b[97m█\u001b[0m\u001b[97m█\u001b[0m\u001b[97m█\u001b[0m\u001b[97m█\u001b[0m\u001b[97m█\u001b[0m\u001b[97m█\u001b[0m\u001b[97m█\u001b[0m              |                    \u001b[K\u001b[F\u001b[K\u001b[F\u001b[K\u001b[F\u001b[K\u001b[F \u001b[1mIters\u001b[0m    \u001b[1mElapsed Time\u001b[0m      \u001b[1mSpeed\u001b[0m    \u001b[1mepoch\u001b[0m   \u001b[1mloss\u001b[0m                               \n",
      " \u001b[99m47/\u001b[93m70\u001b[0m\u001b[0m  \u001b[99m01:46:55<\u001b[93m00:52:19\u001b[0m\u001b[0m  \u001b[99m0.01it/s\u001b[0m  \u001b[99m47/70\u001b[0m  \u001b[99m0.03763\u001b[0m                             \n",
      " \u001b[1mloss_a\u001b[0m                                                                         \n",
      " \u001b[99m0.04025\u001b[0m                                                                        \n",
      "\u001b[1mDescription\u001b[0m  67.1% |\u001b[97m█\u001b[0m\u001b[97m█\u001b[0m\u001b[97m█\u001b[0m\u001b[97m█\u001b[0m\u001b[97m█\u001b[0m\u001b[97m█\u001b[0m\u001b[97m█\u001b[0m\u001b[97m█\u001b[0m\u001b[97m█\u001b[0m\u001b[97m█\u001b[0m\u001b[97m█\u001b[0m\u001b[97m█\u001b[0m\u001b[97m█\u001b[0m\u001b[97m█\u001b[0m\u001b[97m█\u001b[0m\u001b[97m█\u001b[0m\u001b[97m█\u001b[0m\u001b[97m█\u001b[0m\u001b[97m█\u001b[0m\u001b[97m█\u001b[0m\u001b[97m█\u001b[0m\u001b[97m█\u001b[0m\u001b[97m█\u001b[0m\u001b[97m█\u001b[0m\u001b[97m█\u001b[0m\u001b[97m█\u001b[0m             |                    \u001b[K\u001b[F\u001b[K\u001b[F\u001b[K\u001b[F\u001b[K\u001b[F \u001b[1mIters\u001b[0m    \u001b[1mElapsed Time\u001b[0m      \u001b[1mSpeed\u001b[0m    \u001b[1mepoch\u001b[0m   \u001b[1mloss\u001b[0m                               \n",
      " \u001b[99m48/\u001b[93m70\u001b[0m\u001b[0m  \u001b[99m01:49:11<\u001b[93m00:50:02\u001b[0m\u001b[0m  \u001b[99m0.01it/s\u001b[0m  \u001b[99m48/70\u001b[0m  \u001b[99m0.03760\u001b[0m                             \n",
      " \u001b[1mloss_a\u001b[0m                                                                         \n",
      " \u001b[99m0.04010\u001b[0m                                                                        \n",
      "\u001b[1mDescription\u001b[0m  68.6% |\u001b[97m█\u001b[0m\u001b[97m█\u001b[0m\u001b[97m█\u001b[0m\u001b[97m█\u001b[0m\u001b[97m█\u001b[0m\u001b[97m█\u001b[0m\u001b[97m█\u001b[0m\u001b[97m█\u001b[0m\u001b[97m█\u001b[0m\u001b[97m█\u001b[0m\u001b[97m█\u001b[0m\u001b[97m█\u001b[0m\u001b[97m█\u001b[0m\u001b[97m█\u001b[0m\u001b[97m█\u001b[0m\u001b[97m█\u001b[0m\u001b[97m█\u001b[0m\u001b[97m█\u001b[0m\u001b[97m█\u001b[0m\u001b[97m█\u001b[0m\u001b[97m█\u001b[0m\u001b[97m█\u001b[0m\u001b[97m█\u001b[0m\u001b[97m█\u001b[0m\u001b[97m█\u001b[0m\u001b[97m█\u001b[0m             |                    \u001b[K\u001b[F\u001b[K\u001b[F\u001b[K\u001b[F\u001b[K\u001b[F \u001b[1mIters\u001b[0m    \u001b[1mElapsed Time\u001b[0m      \u001b[1mSpeed\u001b[0m    \u001b[1mepoch\u001b[0m   \u001b[1mloss\u001b[0m                               \n",
      " \u001b[99m49/\u001b[93m70\u001b[0m\u001b[0m  \u001b[99m01:51:28<\u001b[93m00:47:46\u001b[0m\u001b[0m  \u001b[99m0.01it/s\u001b[0m  \u001b[99m49/70\u001b[0m  \u001b[99m0.03751\u001b[0m                             \n",
      " \u001b[1mloss_a\u001b[0m                                                                         \n",
      " \u001b[99m0.04004\u001b[0m                                                                        \n",
      "\u001b[1mDescription\u001b[0m  70.0% |\u001b[97m█\u001b[0m\u001b[97m█\u001b[0m\u001b[97m█\u001b[0m\u001b[97m█\u001b[0m\u001b[97m█\u001b[0m\u001b[97m█\u001b[0m\u001b[97m█\u001b[0m\u001b[97m█\u001b[0m\u001b[97m█\u001b[0m\u001b[97m█\u001b[0m\u001b[97m█\u001b[0m\u001b[97m█\u001b[0m\u001b[97m█\u001b[0m\u001b[97m█\u001b[0m\u001b[97m█\u001b[0m\u001b[97m█\u001b[0m\u001b[97m█\u001b[0m\u001b[97m█\u001b[0m\u001b[97m█\u001b[0m\u001b[97m█\u001b[0m\u001b[97m█\u001b[0m\u001b[97m█\u001b[0m\u001b[97m█\u001b[0m\u001b[97m█\u001b[0m\u001b[97m█\u001b[0m\u001b[97m█\u001b[0m\u001b[97m█\u001b[0m            |                    \u001b[K\u001b[F\u001b[K\u001b[F\u001b[K\u001b[F\u001b[K\u001b[F \u001b[1mIters\u001b[0m    \u001b[1mElapsed Time\u001b[0m      \u001b[1mSpeed\u001b[0m    \u001b[1mepoch\u001b[0m   \u001b[1mloss\u001b[0m                               \n",
      " \u001b[99m50/\u001b[93m70\u001b[0m\u001b[0m  \u001b[99m01:53:45<\u001b[93m00:45:30\u001b[0m\u001b[0m  \u001b[99m0.01it/s\u001b[0m  \u001b[99m50/70\u001b[0m  \u001b[99m0.03752\u001b[0m                             \n",
      " \u001b[1mloss_a\u001b[0m                                                                         \n",
      " \u001b[99m0.04048\u001b[0m                                                                        \n",
      "\u001b[1mDescription\u001b[0m  71.4% |\u001b[97m█\u001b[0m\u001b[97m█\u001b[0m\u001b[97m█\u001b[0m\u001b[97m█\u001b[0m\u001b[97m█\u001b[0m\u001b[97m█\u001b[0m\u001b[97m█\u001b[0m\u001b[97m█\u001b[0m\u001b[97m█\u001b[0m\u001b[97m█\u001b[0m\u001b[97m█\u001b[0m\u001b[97m█\u001b[0m\u001b[97m█\u001b[0m\u001b[97m█\u001b[0m\u001b[97m█\u001b[0m\u001b[97m█\u001b[0m\u001b[97m█\u001b[0m\u001b[97m█\u001b[0m\u001b[97m█\u001b[0m\u001b[97m█\u001b[0m\u001b[97m█\u001b[0m\u001b[97m█\u001b[0m\u001b[97m█\u001b[0m\u001b[97m█\u001b[0m\u001b[97m█\u001b[0m\u001b[97m█\u001b[0m\u001b[97m█\u001b[0m            |                    \u001b[K\u001b[F\u001b[K\u001b[F\u001b[K\u001b[F\u001b[K\u001b[F \u001b[1mIters\u001b[0m    \u001b[1mElapsed Time\u001b[0m      \u001b[1mSpeed\u001b[0m    \u001b[1mepoch\u001b[0m   \u001b[1mloss\u001b[0m                               \n",
      " \u001b[99m51/\u001b[93m70\u001b[0m\u001b[0m  \u001b[99m01:56:02<\u001b[93m00:43:13\u001b[0m\u001b[0m  \u001b[99m0.01it/s\u001b[0m  \u001b[99m51/70\u001b[0m  \u001b[99m0.03742\u001b[0m                             \n",
      " \u001b[1mloss_a\u001b[0m                                                                         \n",
      " \u001b[99m0.04037\u001b[0m                                                                        \n",
      "\u001b[1mDescription\u001b[0m  72.9% |\u001b[97m█\u001b[0m\u001b[97m█\u001b[0m\u001b[97m█\u001b[0m\u001b[97m█\u001b[0m\u001b[97m█\u001b[0m\u001b[97m█\u001b[0m\u001b[97m█\u001b[0m\u001b[97m█\u001b[0m\u001b[97m█\u001b[0m\u001b[97m█\u001b[0m\u001b[97m█\u001b[0m\u001b[97m█\u001b[0m\u001b[97m█\u001b[0m\u001b[97m█\u001b[0m\u001b[97m█\u001b[0m\u001b[97m█\u001b[0m\u001b[97m█\u001b[0m\u001b[97m█\u001b[0m\u001b[97m█\u001b[0m\u001b[97m█\u001b[0m\u001b[97m█\u001b[0m\u001b[97m█\u001b[0m\u001b[97m█\u001b[0m\u001b[97m█\u001b[0m\u001b[97m█\u001b[0m\u001b[97m█\u001b[0m\u001b[97m█\u001b[0m\u001b[97m█\u001b[0m           |                    \u001b[K\u001b[F\u001b[K\u001b[F\u001b[K\u001b[F\u001b[K\u001b[F \u001b[1mIters\u001b[0m    \u001b[1mElapsed Time\u001b[0m      \u001b[1mSpeed\u001b[0m    \u001b[1mepoch\u001b[0m   \u001b[1mloss\u001b[0m                               \n",
      " \u001b[99m52/\u001b[93m70\u001b[0m\u001b[0m  \u001b[99m01:58:18<\u001b[93m00:40:57\u001b[0m\u001b[0m  \u001b[99m0.01it/s\u001b[0m  \u001b[99m52/70\u001b[0m  \u001b[99m0.03736\u001b[0m                             \n",
      " \u001b[1mloss_a\u001b[0m                                                                         \n",
      " \u001b[99m0.04058\u001b[0m                                                                        \n",
      "\u001b[1mDescription\u001b[0m  74.3% |\u001b[97m█\u001b[0m\u001b[97m█\u001b[0m\u001b[97m█\u001b[0m\u001b[97m█\u001b[0m\u001b[97m█\u001b[0m\u001b[97m█\u001b[0m\u001b[97m█\u001b[0m\u001b[97m█\u001b[0m\u001b[97m█\u001b[0m\u001b[97m█\u001b[0m\u001b[97m█\u001b[0m\u001b[97m█\u001b[0m\u001b[97m█\u001b[0m\u001b[97m█\u001b[0m\u001b[97m█\u001b[0m\u001b[97m█\u001b[0m\u001b[97m█\u001b[0m\u001b[97m█\u001b[0m\u001b[97m█\u001b[0m\u001b[97m█\u001b[0m\u001b[97m█\u001b[0m\u001b[97m█\u001b[0m\u001b[97m█\u001b[0m\u001b[97m█\u001b[0m\u001b[97m█\u001b[0m\u001b[97m█\u001b[0m\u001b[97m█\u001b[0m\u001b[97m█\u001b[0m           |                    \u001b[K\u001b[F\u001b[K\u001b[F\u001b[K\u001b[F\u001b[K\u001b[F \u001b[1mIters\u001b[0m    \u001b[1mElapsed Time\u001b[0m      \u001b[1mSpeed\u001b[0m    \u001b[1mepoch\u001b[0m   \u001b[1mloss\u001b[0m                               \n",
      " \u001b[99m53/\u001b[93m70\u001b[0m\u001b[0m  \u001b[99m02:00:35<\u001b[93m00:38:40\u001b[0m\u001b[0m  \u001b[99m0.01it/s\u001b[0m  \u001b[99m53/70\u001b[0m  \u001b[99m0.03729\u001b[0m                             \n",
      " \u001b[1mloss_a\u001b[0m                                                                         \n",
      " \u001b[99m0.04049\u001b[0m                                                                        \n",
      "\u001b[1mDescription\u001b[0m  75.7% |\u001b[97m█\u001b[0m\u001b[97m█\u001b[0m\u001b[97m█\u001b[0m\u001b[97m█\u001b[0m\u001b[97m█\u001b[0m\u001b[97m█\u001b[0m\u001b[97m█\u001b[0m\u001b[97m█\u001b[0m\u001b[97m█\u001b[0m\u001b[97m█\u001b[0m\u001b[97m█\u001b[0m\u001b[97m█\u001b[0m\u001b[97m█\u001b[0m\u001b[97m█\u001b[0m\u001b[97m█\u001b[0m\u001b[97m█\u001b[0m\u001b[97m█\u001b[0m\u001b[97m█\u001b[0m\u001b[97m█\u001b[0m\u001b[97m█\u001b[0m\u001b[97m█\u001b[0m\u001b[97m█\u001b[0m\u001b[97m█\u001b[0m\u001b[97m█\u001b[0m\u001b[97m█\u001b[0m\u001b[97m█\u001b[0m\u001b[97m█\u001b[0m\u001b[97m█\u001b[0m\u001b[97m█\u001b[0m          |                    \u001b[K\u001b[F\u001b[K\u001b[F\u001b[K\u001b[F\u001b[K\u001b[F \u001b[1mIters\u001b[0m    \u001b[1mElapsed Time\u001b[0m      \u001b[1mSpeed\u001b[0m    \u001b[1mepoch\u001b[0m   \u001b[1mloss\u001b[0m                               \n",
      " \u001b[99m54/\u001b[93m70\u001b[0m\u001b[0m  \u001b[99m02:02:51<\u001b[93m00:36:24\u001b[0m\u001b[0m  \u001b[99m0.01it/s\u001b[0m  \u001b[99m54/70\u001b[0m  \u001b[99m0.03722\u001b[0m                             \n",
      " \u001b[1mloss_a\u001b[0m                                                                         \n",
      " \u001b[99m0.04038\u001b[0m                                                                        \n",
      "\u001b[1mDescription\u001b[0m  77.1% |\u001b[97m█\u001b[0m\u001b[97m█\u001b[0m\u001b[97m█\u001b[0m\u001b[97m█\u001b[0m\u001b[97m█\u001b[0m\u001b[97m█\u001b[0m\u001b[97m█\u001b[0m\u001b[97m█\u001b[0m\u001b[97m█\u001b[0m\u001b[97m█\u001b[0m\u001b[97m█\u001b[0m\u001b[97m█\u001b[0m\u001b[97m█\u001b[0m\u001b[97m█\u001b[0m\u001b[97m█\u001b[0m\u001b[97m█\u001b[0m\u001b[97m█\u001b[0m\u001b[97m█\u001b[0m\u001b[97m█\u001b[0m\u001b[97m█\u001b[0m\u001b[97m█\u001b[0m\u001b[97m█\u001b[0m\u001b[97m█\u001b[0m\u001b[97m█\u001b[0m\u001b[97m█\u001b[0m\u001b[97m█\u001b[0m\u001b[97m█\u001b[0m\u001b[97m█\u001b[0m\u001b[97m█\u001b[0m\u001b[97m█\u001b[0m         |                    \u001b[K\u001b[F\u001b[K\u001b[F\u001b[K\u001b[F\u001b[K\u001b[F \u001b[1mIters\u001b[0m    \u001b[1mElapsed Time\u001b[0m      \u001b[1mSpeed\u001b[0m    \u001b[1mepoch\u001b[0m   \u001b[1mloss\u001b[0m                               \n",
      " \u001b[99m55/\u001b[93m70\u001b[0m\u001b[0m  \u001b[99m02:05:08<\u001b[93m00:34:07\u001b[0m\u001b[0m  \u001b[99m0.01it/s\u001b[0m  \u001b[99m55/70\u001b[0m  \u001b[99m0.03721\u001b[0m                             \n",
      " \u001b[1mloss_a\u001b[0m                                                                         \n",
      " \u001b[99m0.04048\u001b[0m                                                                        \n",
      "\u001b[1mDescription\u001b[0m  78.6% |\u001b[97m█\u001b[0m\u001b[97m█\u001b[0m\u001b[97m█\u001b[0m\u001b[97m█\u001b[0m\u001b[97m█\u001b[0m\u001b[97m█\u001b[0m\u001b[97m█\u001b[0m\u001b[97m█\u001b[0m\u001b[97m█\u001b[0m\u001b[97m█\u001b[0m\u001b[97m█\u001b[0m\u001b[97m█\u001b[0m\u001b[97m█\u001b[0m\u001b[97m█\u001b[0m\u001b[97m█\u001b[0m\u001b[97m█\u001b[0m\u001b[97m█\u001b[0m\u001b[97m█\u001b[0m\u001b[97m█\u001b[0m\u001b[97m█\u001b[0m\u001b[97m█\u001b[0m\u001b[97m█\u001b[0m\u001b[97m█\u001b[0m\u001b[97m█\u001b[0m\u001b[97m█\u001b[0m\u001b[97m█\u001b[0m\u001b[97m█\u001b[0m\u001b[97m█\u001b[0m\u001b[97m█\u001b[0m\u001b[97m█\u001b[0m         |                    \u001b[K\u001b[F\u001b[K\u001b[F\u001b[K\u001b[F\u001b[K\u001b[F \u001b[1mIters\u001b[0m    \u001b[1mElapsed Time\u001b[0m      \u001b[1mSpeed\u001b[0m    \u001b[1mepoch\u001b[0m   \u001b[1mloss\u001b[0m                               \n",
      " \u001b[99m56/\u001b[93m70\u001b[0m\u001b[0m  \u001b[99m02:07:24<\u001b[93m00:31:51\u001b[0m\u001b[0m  \u001b[99m0.01it/s\u001b[0m  \u001b[99m56/70\u001b[0m  \u001b[99m0.03709\u001b[0m                             \n",
      " \u001b[1mloss_a\u001b[0m                                                                         \n",
      " \u001b[99m0.04054\u001b[0m                                                                        \n",
      "\u001b[1mDescription\u001b[0m  80.0% |\u001b[97m█\u001b[0m\u001b[97m█\u001b[0m\u001b[97m█\u001b[0m\u001b[97m█\u001b[0m\u001b[97m█\u001b[0m\u001b[97m█\u001b[0m\u001b[97m█\u001b[0m\u001b[97m█\u001b[0m\u001b[97m█\u001b[0m\u001b[97m█\u001b[0m\u001b[97m█\u001b[0m\u001b[97m█\u001b[0m\u001b[97m█\u001b[0m\u001b[97m█\u001b[0m\u001b[97m█\u001b[0m\u001b[97m█\u001b[0m\u001b[97m█\u001b[0m\u001b[97m█\u001b[0m\u001b[97m█\u001b[0m\u001b[97m█\u001b[0m\u001b[97m█\u001b[0m\u001b[97m█\u001b[0m\u001b[97m█\u001b[0m\u001b[97m█\u001b[0m\u001b[97m█\u001b[0m\u001b[97m█\u001b[0m\u001b[97m█\u001b[0m\u001b[97m█\u001b[0m\u001b[97m█\u001b[0m\u001b[97m█\u001b[0m\u001b[97m█\u001b[0m        |                    \u001b[K\u001b[F\u001b[K\u001b[F\u001b[K\u001b[F\u001b[K\u001b[F \u001b[1mIters\u001b[0m    \u001b[1mElapsed Time\u001b[0m      \u001b[1mSpeed\u001b[0m    \u001b[1mepoch\u001b[0m   \u001b[1mloss\u001b[0m                               \n",
      " \u001b[99m57/\u001b[93m70\u001b[0m\u001b[0m  \u001b[99m02:09:41<\u001b[93m00:29:34\u001b[0m\u001b[0m  \u001b[99m0.01it/s\u001b[0m  \u001b[99m57/70\u001b[0m  \u001b[99m0.03706\u001b[0m                             \n",
      " \u001b[1mloss_a\u001b[0m                                                                         \n",
      " \u001b[99m0.04055\u001b[0m                                                                        \n",
      "\u001b[1mDescription\u001b[0m  81.4% |\u001b[97m█\u001b[0m\u001b[97m█\u001b[0m\u001b[97m█\u001b[0m\u001b[97m█\u001b[0m\u001b[97m█\u001b[0m\u001b[97m█\u001b[0m\u001b[97m█\u001b[0m\u001b[97m█\u001b[0m\u001b[97m█\u001b[0m\u001b[97m█\u001b[0m\u001b[97m█\u001b[0m\u001b[97m█\u001b[0m\u001b[97m█\u001b[0m\u001b[97m█\u001b[0m\u001b[97m█\u001b[0m\u001b[97m█\u001b[0m\u001b[97m█\u001b[0m\u001b[97m█\u001b[0m\u001b[97m█\u001b[0m\u001b[97m█\u001b[0m\u001b[97m█\u001b[0m\u001b[97m█\u001b[0m\u001b[97m█\u001b[0m\u001b[97m█\u001b[0m\u001b[97m█\u001b[0m\u001b[97m█\u001b[0m\u001b[97m█\u001b[0m\u001b[97m█\u001b[0m\u001b[97m█\u001b[0m\u001b[97m█\u001b[0m\u001b[97m█\u001b[0m        |                    \u001b[K\u001b[F\u001b[K\u001b[F\u001b[K\u001b[F\u001b[K\u001b[F \u001b[1mIters\u001b[0m    \u001b[1mElapsed Time\u001b[0m      \u001b[1mSpeed\u001b[0m    \u001b[1mepoch\u001b[0m   \u001b[1mloss\u001b[0m                               \n",
      " \u001b[99m58/\u001b[93m70\u001b[0m\u001b[0m  \u001b[99m02:11:57<\u001b[93m00:27:18\u001b[0m\u001b[0m  \u001b[99m0.01it/s\u001b[0m  \u001b[99m58/70\u001b[0m  \u001b[99m0.03699\u001b[0m                             \n",
      " \u001b[1mloss_a\u001b[0m                                                                         \n",
      " \u001b[99m0.04052\u001b[0m                                                                        \n",
      "\u001b[1mDescription\u001b[0m  82.9% |\u001b[97m█\u001b[0m\u001b[97m█\u001b[0m\u001b[97m█\u001b[0m\u001b[97m█\u001b[0m\u001b[97m█\u001b[0m\u001b[97m█\u001b[0m\u001b[97m█\u001b[0m\u001b[97m█\u001b[0m\u001b[97m█\u001b[0m\u001b[97m█\u001b[0m\u001b[97m█\u001b[0m\u001b[97m█\u001b[0m\u001b[97m█\u001b[0m\u001b[97m█\u001b[0m\u001b[97m█\u001b[0m\u001b[97m█\u001b[0m\u001b[97m█\u001b[0m\u001b[97m█\u001b[0m\u001b[97m█\u001b[0m\u001b[97m█\u001b[0m\u001b[97m█\u001b[0m\u001b[97m█\u001b[0m\u001b[97m█\u001b[0m\u001b[97m█\u001b[0m\u001b[97m█\u001b[0m\u001b[97m█\u001b[0m\u001b[97m█\u001b[0m\u001b[97m█\u001b[0m\u001b[97m█\u001b[0m\u001b[97m█\u001b[0m\u001b[97m█\u001b[0m\u001b[97m█\u001b[0m       |                    \u001b[K\u001b[F\u001b[K\u001b[F\u001b[K\u001b[F\u001b[K\u001b[F \u001b[1mIters\u001b[0m    \u001b[1mElapsed Time\u001b[0m      \u001b[1mSpeed\u001b[0m    \u001b[1mepoch\u001b[0m   \u001b[1mloss\u001b[0m                               \n",
      " \u001b[99m59/\u001b[93m70\u001b[0m\u001b[0m  \u001b[99m02:14:14<\u001b[93m00:25:01\u001b[0m\u001b[0m  \u001b[99m0.01it/s\u001b[0m  \u001b[99m59/70\u001b[0m  \u001b[99m0.03697\u001b[0m                             \n",
      " \u001b[1mloss_a\u001b[0m                                                                         \n",
      " \u001b[99m0.04080\u001b[0m                                                                        \n",
      "\u001b[1mDescription\u001b[0m  84.3% |\u001b[97m█\u001b[0m\u001b[97m█\u001b[0m\u001b[97m█\u001b[0m\u001b[97m█\u001b[0m\u001b[97m█\u001b[0m\u001b[97m█\u001b[0m\u001b[97m█\u001b[0m\u001b[97m█\u001b[0m\u001b[97m█\u001b[0m\u001b[97m█\u001b[0m\u001b[97m█\u001b[0m\u001b[97m█\u001b[0m\u001b[97m█\u001b[0m\u001b[97m█\u001b[0m\u001b[97m█\u001b[0m\u001b[97m█\u001b[0m\u001b[97m█\u001b[0m\u001b[97m█\u001b[0m\u001b[97m█\u001b[0m\u001b[97m█\u001b[0m\u001b[97m█\u001b[0m\u001b[97m█\u001b[0m\u001b[97m█\u001b[0m\u001b[97m█\u001b[0m\u001b[97m█\u001b[0m\u001b[97m█\u001b[0m\u001b[97m█\u001b[0m\u001b[97m█\u001b[0m\u001b[97m█\u001b[0m\u001b[97m█\u001b[0m\u001b[97m█\u001b[0m\u001b[97m█\u001b[0m       |                    \u001b[K\u001b[F\u001b[K\u001b[F\u001b[K\u001b[F\u001b[K\u001b[F \u001b[1mIters\u001b[0m    \u001b[1mElapsed Time\u001b[0m      \u001b[1mSpeed\u001b[0m    \u001b[1mepoch\u001b[0m   \u001b[1mloss\u001b[0m                               \n",
      " \u001b[99m60/\u001b[93m70\u001b[0m\u001b[0m  \u001b[99m02:16:31<\u001b[93m00:22:45\u001b[0m\u001b[0m  \u001b[99m0.01it/s\u001b[0m  \u001b[99m60/70\u001b[0m  \u001b[99m0.03692\u001b[0m                             \n",
      " \u001b[1mloss_a\u001b[0m                                                                         \n",
      " \u001b[99m0.04084\u001b[0m                                                                        \n",
      "\u001b[1mDescription\u001b[0m  85.7% |\u001b[97m█\u001b[0m\u001b[97m█\u001b[0m\u001b[97m█\u001b[0m\u001b[97m█\u001b[0m\u001b[97m█\u001b[0m\u001b[97m█\u001b[0m\u001b[97m█\u001b[0m\u001b[97m█\u001b[0m\u001b[97m█\u001b[0m\u001b[97m█\u001b[0m\u001b[97m█\u001b[0m\u001b[97m█\u001b[0m\u001b[97m█\u001b[0m\u001b[97m█\u001b[0m\u001b[97m█\u001b[0m\u001b[97m█\u001b[0m\u001b[97m█\u001b[0m\u001b[97m█\u001b[0m\u001b[97m█\u001b[0m\u001b[97m█\u001b[0m\u001b[97m█\u001b[0m\u001b[97m█\u001b[0m\u001b[97m█\u001b[0m\u001b[97m█\u001b[0m\u001b[97m█\u001b[0m\u001b[97m█\u001b[0m\u001b[97m█\u001b[0m\u001b[97m█\u001b[0m\u001b[97m█\u001b[0m\u001b[97m█\u001b[0m\u001b[97m█\u001b[0m\u001b[97m█\u001b[0m\u001b[97m█\u001b[0m      |                    \u001b[K\u001b[F\u001b[K\u001b[F\u001b[K\u001b[F\u001b[K\u001b[F \u001b[1mIters\u001b[0m    \u001b[1mElapsed Time\u001b[0m      \u001b[1mSpeed\u001b[0m    \u001b[1mepoch\u001b[0m   \u001b[1mloss\u001b[0m                               \n",
      " \u001b[99m61/\u001b[93m70\u001b[0m\u001b[0m  \u001b[99m02:18:47<\u001b[93m00:20:28\u001b[0m\u001b[0m  \u001b[99m0.01it/s\u001b[0m  \u001b[99m61/70\u001b[0m  \u001b[99m0.03695\u001b[0m                             \n",
      " \u001b[1mloss_a\u001b[0m                                                                         \n",
      " \u001b[99m0.04094\u001b[0m                                                                        \n",
      "\u001b[1mDescription\u001b[0m  87.1% |\u001b[97m█\u001b[0m\u001b[97m█\u001b[0m\u001b[97m█\u001b[0m\u001b[97m█\u001b[0m\u001b[97m█\u001b[0m\u001b[97m█\u001b[0m\u001b[97m█\u001b[0m\u001b[97m█\u001b[0m\u001b[97m█\u001b[0m\u001b[97m█\u001b[0m\u001b[97m█\u001b[0m\u001b[97m█\u001b[0m\u001b[97m█\u001b[0m\u001b[97m█\u001b[0m\u001b[97m█\u001b[0m\u001b[97m█\u001b[0m\u001b[97m█\u001b[0m\u001b[97m█\u001b[0m\u001b[97m█\u001b[0m\u001b[97m█\u001b[0m\u001b[97m█\u001b[0m\u001b[97m█\u001b[0m\u001b[97m█\u001b[0m\u001b[97m█\u001b[0m\u001b[97m█\u001b[0m\u001b[97m█\u001b[0m\u001b[97m█\u001b[0m\u001b[97m█\u001b[0m\u001b[97m█\u001b[0m\u001b[97m█\u001b[0m\u001b[97m█\u001b[0m\u001b[97m█\u001b[0m\u001b[97m█\u001b[0m      |                    \u001b[K\u001b[F\u001b[K\u001b[F\u001b[K\u001b[F\u001b[K\u001b[F \u001b[1mIters\u001b[0m    \u001b[1mElapsed Time\u001b[0m      \u001b[1mSpeed\u001b[0m    \u001b[1mepoch\u001b[0m   \u001b[1mloss\u001b[0m                               \n",
      " \u001b[99m62/\u001b[93m70\u001b[0m\u001b[0m  \u001b[99m02:21:03<\u001b[93m00:18:12\u001b[0m\u001b[0m  \u001b[99m0.01it/s\u001b[0m  \u001b[99m62/70\u001b[0m  \u001b[99m0.03687\u001b[0m                             \n",
      " \u001b[1mloss_a\u001b[0m                                                                         \n",
      " \u001b[99m0.04099\u001b[0m                                                                        \n",
      "\u001b[1mDescription\u001b[0m  88.6% |\u001b[97m█\u001b[0m\u001b[97m█\u001b[0m\u001b[97m█\u001b[0m\u001b[97m█\u001b[0m\u001b[97m█\u001b[0m\u001b[97m█\u001b[0m\u001b[97m█\u001b[0m\u001b[97m█\u001b[0m\u001b[97m█\u001b[0m\u001b[97m█\u001b[0m\u001b[97m█\u001b[0m\u001b[97m█\u001b[0m\u001b[97m█\u001b[0m\u001b[97m█\u001b[0m\u001b[97m█\u001b[0m\u001b[97m█\u001b[0m\u001b[97m█\u001b[0m\u001b[97m█\u001b[0m\u001b[97m█\u001b[0m\u001b[97m█\u001b[0m\u001b[97m█\u001b[0m\u001b[97m█\u001b[0m\u001b[97m█\u001b[0m\u001b[97m█\u001b[0m\u001b[97m█\u001b[0m\u001b[97m█\u001b[0m\u001b[97m█\u001b[0m\u001b[97m█\u001b[0m\u001b[97m█\u001b[0m\u001b[97m█\u001b[0m\u001b[97m█\u001b[0m\u001b[97m█\u001b[0m\u001b[97m█\u001b[0m\u001b[97m█\u001b[0m     |                    \u001b[K\u001b[F\u001b[K\u001b[F\u001b[K\u001b[F\u001b[K\u001b[F \u001b[1mIters\u001b[0m    \u001b[1mElapsed Time\u001b[0m      \u001b[1mSpeed\u001b[0m    \u001b[1mepoch\u001b[0m   \u001b[1mloss\u001b[0m                               \n",
      " \u001b[99m63/\u001b[93m70\u001b[0m\u001b[0m  \u001b[99m02:23:20<\u001b[93m00:15:55\u001b[0m\u001b[0m  \u001b[99m0.01it/s\u001b[0m  \u001b[99m63/70\u001b[0m  \u001b[99m0.03680\u001b[0m                             \n",
      " \u001b[1mloss_a\u001b[0m                                                                         \n",
      " \u001b[99m0.04092\u001b[0m                                                                        \n",
      "\u001b[1mDescription\u001b[0m  90.0% |\u001b[97m█\u001b[0m\u001b[97m█\u001b[0m\u001b[97m█\u001b[0m\u001b[97m█\u001b[0m\u001b[97m█\u001b[0m\u001b[97m█\u001b[0m\u001b[97m█\u001b[0m\u001b[97m█\u001b[0m\u001b[97m█\u001b[0m\u001b[97m█\u001b[0m\u001b[97m█\u001b[0m\u001b[97m█\u001b[0m\u001b[97m█\u001b[0m\u001b[97m█\u001b[0m\u001b[97m█\u001b[0m\u001b[97m█\u001b[0m\u001b[97m█\u001b[0m\u001b[97m█\u001b[0m\u001b[97m█\u001b[0m\u001b[97m█\u001b[0m\u001b[97m█\u001b[0m\u001b[97m█\u001b[0m\u001b[97m█\u001b[0m\u001b[97m█\u001b[0m\u001b[97m█\u001b[0m\u001b[97m█\u001b[0m\u001b[97m█\u001b[0m\u001b[97m█\u001b[0m\u001b[97m█\u001b[0m\u001b[97m█\u001b[0m\u001b[97m█\u001b[0m\u001b[97m█\u001b[0m\u001b[97m█\u001b[0m\u001b[97m█\u001b[0m\u001b[97m█\u001b[0m    |                    \u001b[K\u001b[F\u001b[K\u001b[F\u001b[K\u001b[F\u001b[K\u001b[F \u001b[1mIters\u001b[0m    \u001b[1mElapsed Time\u001b[0m      \u001b[1mSpeed\u001b[0m    \u001b[1mepoch\u001b[0m   \u001b[1mloss\u001b[0m                               \n",
      " \u001b[99m64/\u001b[93m70\u001b[0m\u001b[0m  \u001b[99m02:25:36<\u001b[93m00:13:39\u001b[0m\u001b[0m  \u001b[99m0.01it/s\u001b[0m  \u001b[99m64/70\u001b[0m  \u001b[99m0.03677\u001b[0m                             \n",
      " \u001b[1mloss_a\u001b[0m                                                                         \n",
      " \u001b[99m0.04103\u001b[0m                                                                        \n",
      "\u001b[1mDescription\u001b[0m  91.4% |\u001b[97m█\u001b[0m\u001b[97m█\u001b[0m\u001b[97m█\u001b[0m\u001b[97m█\u001b[0m\u001b[97m█\u001b[0m\u001b[97m█\u001b[0m\u001b[97m█\u001b[0m\u001b[97m█\u001b[0m\u001b[97m█\u001b[0m\u001b[97m█\u001b[0m\u001b[97m█\u001b[0m\u001b[97m█\u001b[0m\u001b[97m█\u001b[0m\u001b[97m█\u001b[0m\u001b[97m█\u001b[0m\u001b[97m█\u001b[0m\u001b[97m█\u001b[0m\u001b[97m█\u001b[0m\u001b[97m█\u001b[0m\u001b[97m█\u001b[0m\u001b[97m█\u001b[0m\u001b[97m█\u001b[0m\u001b[97m█\u001b[0m\u001b[97m█\u001b[0m\u001b[97m█\u001b[0m\u001b[97m█\u001b[0m\u001b[97m█\u001b[0m\u001b[97m█\u001b[0m\u001b[97m█\u001b[0m\u001b[97m█\u001b[0m\u001b[97m█\u001b[0m\u001b[97m█\u001b[0m\u001b[97m█\u001b[0m\u001b[97m█\u001b[0m\u001b[97m█\u001b[0m    |                    \u001b[K\u001b[F\u001b[K\u001b[F\u001b[K\u001b[F\u001b[K\u001b[F \u001b[1mIters\u001b[0m    \u001b[1mElapsed Time\u001b[0m      \u001b[1mSpeed\u001b[0m    \u001b[1mepoch\u001b[0m   \u001b[1mloss\u001b[0m                               \n",
      " \u001b[99m65/\u001b[93m70\u001b[0m\u001b[0m  \u001b[99m02:27:53<\u001b[93m00:11:22\u001b[0m\u001b[0m  \u001b[99m0.01it/s\u001b[0m  \u001b[99m65/70\u001b[0m  \u001b[99m0.03671\u001b[0m                             \n",
      " \u001b[1mloss_a\u001b[0m                                                                         \n",
      " \u001b[99m0.04124\u001b[0m                                                                        \n",
      "\u001b[1mDescription\u001b[0m  92.9% |\u001b[97m█\u001b[0m\u001b[97m█\u001b[0m\u001b[97m█\u001b[0m\u001b[97m█\u001b[0m\u001b[97m█\u001b[0m\u001b[97m█\u001b[0m\u001b[97m█\u001b[0m\u001b[97m█\u001b[0m\u001b[97m█\u001b[0m\u001b[97m█\u001b[0m\u001b[97m█\u001b[0m\u001b[97m█\u001b[0m\u001b[97m█\u001b[0m\u001b[97m█\u001b[0m\u001b[97m█\u001b[0m\u001b[97m█\u001b[0m\u001b[97m█\u001b[0m\u001b[97m█\u001b[0m\u001b[97m█\u001b[0m\u001b[97m█\u001b[0m\u001b[97m█\u001b[0m\u001b[97m█\u001b[0m\u001b[97m█\u001b[0m\u001b[97m█\u001b[0m\u001b[97m█\u001b[0m\u001b[97m█\u001b[0m\u001b[97m█\u001b[0m\u001b[97m█\u001b[0m\u001b[97m█\u001b[0m\u001b[97m█\u001b[0m\u001b[97m█\u001b[0m\u001b[97m█\u001b[0m\u001b[97m█\u001b[0m\u001b[97m█\u001b[0m\u001b[97m█\u001b[0m\u001b[97m█\u001b[0m   |                    \u001b[K\u001b[F\u001b[K\u001b[F\u001b[K\u001b[F\u001b[K\u001b[F \u001b[1mIters\u001b[0m    \u001b[1mElapsed Time\u001b[0m      \u001b[1mSpeed\u001b[0m    \u001b[1mepoch\u001b[0m   \u001b[1mloss\u001b[0m                               \n",
      " \u001b[99m66/\u001b[93m70\u001b[0m\u001b[0m  \u001b[99m02:30:09<\u001b[93m00:09:06\u001b[0m\u001b[0m  \u001b[99m0.01it/s\u001b[0m  \u001b[99m66/70\u001b[0m  \u001b[99m0.03668\u001b[0m                             \n",
      " \u001b[1mloss_a\u001b[0m                                                                         \n",
      " \u001b[99m0.04124\u001b[0m                                                                        \n",
      "\u001b[1mDescription\u001b[0m  94.3% |\u001b[97m█\u001b[0m\u001b[97m█\u001b[0m\u001b[97m█\u001b[0m\u001b[97m█\u001b[0m\u001b[97m█\u001b[0m\u001b[97m█\u001b[0m\u001b[97m█\u001b[0m\u001b[97m█\u001b[0m\u001b[97m█\u001b[0m\u001b[97m█\u001b[0m\u001b[97m█\u001b[0m\u001b[97m█\u001b[0m\u001b[97m█\u001b[0m\u001b[97m█\u001b[0m\u001b[97m█\u001b[0m\u001b[97m█\u001b[0m\u001b[97m█\u001b[0m\u001b[97m█\u001b[0m\u001b[97m█\u001b[0m\u001b[97m█\u001b[0m\u001b[97m█\u001b[0m\u001b[97m█\u001b[0m\u001b[97m█\u001b[0m\u001b[97m█\u001b[0m\u001b[97m█\u001b[0m\u001b[97m█\u001b[0m\u001b[97m█\u001b[0m\u001b[97m█\u001b[0m\u001b[97m█\u001b[0m\u001b[97m█\u001b[0m\u001b[97m█\u001b[0m\u001b[97m█\u001b[0m\u001b[97m█\u001b[0m\u001b[97m█\u001b[0m\u001b[97m█\u001b[0m\u001b[97m█\u001b[0m   |                    \u001b[K\u001b[F\u001b[K\u001b[F\u001b[K\u001b[F\u001b[K\u001b[F \u001b[1mIters\u001b[0m    \u001b[1mElapsed Time\u001b[0m      \u001b[1mSpeed\u001b[0m    \u001b[1mepoch\u001b[0m   \u001b[1mloss\u001b[0m                               \n",
      " \u001b[99m67/\u001b[93m70\u001b[0m\u001b[0m  \u001b[99m02:32:25<\u001b[93m00:06:49\u001b[0m\u001b[0m  \u001b[99m0.01it/s\u001b[0m  \u001b[99m67/70\u001b[0m  \u001b[99m0.03666\u001b[0m                             \n",
      " \u001b[1mloss_a\u001b[0m                                                                         \n",
      " \u001b[99m0.04145\u001b[0m                                                                        \n",
      "\u001b[1mDescription\u001b[0m  95.7% |\u001b[97m█\u001b[0m\u001b[97m█\u001b[0m\u001b[97m█\u001b[0m\u001b[97m█\u001b[0m\u001b[97m█\u001b[0m\u001b[97m█\u001b[0m\u001b[97m█\u001b[0m\u001b[97m█\u001b[0m\u001b[97m█\u001b[0m\u001b[97m█\u001b[0m\u001b[97m█\u001b[0m\u001b[97m█\u001b[0m\u001b[97m█\u001b[0m\u001b[97m█\u001b[0m\u001b[97m█\u001b[0m\u001b[97m█\u001b[0m\u001b[97m█\u001b[0m\u001b[97m█\u001b[0m\u001b[97m█\u001b[0m\u001b[97m█\u001b[0m\u001b[97m█\u001b[0m\u001b[97m█\u001b[0m\u001b[97m█\u001b[0m\u001b[97m█\u001b[0m\u001b[97m█\u001b[0m\u001b[97m█\u001b[0m\u001b[97m█\u001b[0m\u001b[97m█\u001b[0m\u001b[97m█\u001b[0m\u001b[97m█\u001b[0m\u001b[97m█\u001b[0m\u001b[97m█\u001b[0m\u001b[97m█\u001b[0m\u001b[97m█\u001b[0m\u001b[97m█\u001b[0m\u001b[97m█\u001b[0m\u001b[97m█\u001b[0m  |                    \u001b[K\u001b[F\u001b[K\u001b[F\u001b[K\u001b[F\u001b[K\u001b[F \u001b[1mIters\u001b[0m    \u001b[1mElapsed Time\u001b[0m      \u001b[1mSpeed\u001b[0m    \u001b[1mepoch\u001b[0m   \u001b[1mloss\u001b[0m                               \n",
      " \u001b[99m68/\u001b[93m70\u001b[0m\u001b[0m  \u001b[99m02:34:41<\u001b[93m00:04:32\u001b[0m\u001b[0m  \u001b[99m0.01it/s\u001b[0m  \u001b[99m68/70\u001b[0m  \u001b[99m0.03656\u001b[0m                             \n",
      " \u001b[1mloss_a\u001b[0m                                                                         \n",
      " \u001b[99m0.04118\u001b[0m                                                                        \n",
      "\u001b[1mDescription\u001b[0m  97.1% |\u001b[97m█\u001b[0m\u001b[97m█\u001b[0m\u001b[97m█\u001b[0m\u001b[97m█\u001b[0m\u001b[97m█\u001b[0m\u001b[97m█\u001b[0m\u001b[97m█\u001b[0m\u001b[97m█\u001b[0m\u001b[97m█\u001b[0m\u001b[97m█\u001b[0m\u001b[97m█\u001b[0m\u001b[97m█\u001b[0m\u001b[97m█\u001b[0m\u001b[97m█\u001b[0m\u001b[97m█\u001b[0m\u001b[97m█\u001b[0m\u001b[97m█\u001b[0m\u001b[97m█\u001b[0m\u001b[97m█\u001b[0m\u001b[97m█\u001b[0m\u001b[97m█\u001b[0m\u001b[97m█\u001b[0m\u001b[97m█\u001b[0m\u001b[97m█\u001b[0m\u001b[97m█\u001b[0m\u001b[97m█\u001b[0m\u001b[97m█\u001b[0m\u001b[97m█\u001b[0m\u001b[97m█\u001b[0m\u001b[97m█\u001b[0m\u001b[97m█\u001b[0m\u001b[97m█\u001b[0m\u001b[97m█\u001b[0m\u001b[97m█\u001b[0m\u001b[97m█\u001b[0m\u001b[97m█\u001b[0m\u001b[97m█\u001b[0m  |                    \u001b[K\u001b[F\u001b[K\u001b[F\u001b[K\u001b[F\u001b[K\u001b[F \u001b[1mIters\u001b[0m    \u001b[1mElapsed Time\u001b[0m      \u001b[1mSpeed\u001b[0m    \u001b[1mepoch\u001b[0m   \u001b[1mloss\u001b[0m                               \n",
      " \u001b[99m69/\u001b[93m70\u001b[0m\u001b[0m  \u001b[99m02:36:59<\u001b[93m00:02:16\u001b[0m\u001b[0m  \u001b[99m0.01it/s\u001b[0m  \u001b[99m69/70\u001b[0m  \u001b[99m0.03659\u001b[0m                             \n",
      " \u001b[1mloss_a\u001b[0m                                                                         \n",
      " \u001b[99m0.04148\u001b[0m                                                                        \n",
      "\u001b[1mDescription\u001b[0m  98.6% |\u001b[97m█\u001b[0m\u001b[97m█\u001b[0m\u001b[97m█\u001b[0m\u001b[97m█\u001b[0m\u001b[97m█\u001b[0m\u001b[97m█\u001b[0m\u001b[97m█\u001b[0m\u001b[97m█\u001b[0m\u001b[97m█\u001b[0m\u001b[97m█\u001b[0m\u001b[97m█\u001b[0m\u001b[97m█\u001b[0m\u001b[97m█\u001b[0m\u001b[97m█\u001b[0m\u001b[97m█\u001b[0m\u001b[97m█\u001b[0m\u001b[97m█\u001b[0m\u001b[97m█\u001b[0m\u001b[97m█\u001b[0m\u001b[97m█\u001b[0m\u001b[97m█\u001b[0m\u001b[97m█\u001b[0m\u001b[97m█\u001b[0m\u001b[97m█\u001b[0m\u001b[97m█\u001b[0m\u001b[97m█\u001b[0m\u001b[97m█\u001b[0m\u001b[97m█\u001b[0m\u001b[97m█\u001b[0m\u001b[97m█\u001b[0m\u001b[97m█\u001b[0m\u001b[97m█\u001b[0m\u001b[97m█\u001b[0m\u001b[97m█\u001b[0m\u001b[97m█\u001b[0m\u001b[97m█\u001b[0m\u001b[97m█\u001b[0m\u001b[97m█\u001b[0m |                    \u001b[K\u001b[F\u001b[K\u001b[F\u001b[K\u001b[F\u001b[K\u001b[F \u001b[1mIters\u001b[0m    \u001b[1mElapsed Time\u001b[0m      \u001b[1mSpeed\u001b[0m    \u001b[1mepoch\u001b[0m   \u001b[1mloss\u001b[0m                               \n",
      " \u001b[99m70/\u001b[93m70\u001b[0m\u001b[0m  \u001b[99m02:39:16<\u001b[93m00:00:00\u001b[0m\u001b[0m  \u001b[99m0.01it/s\u001b[0m  \u001b[99m70/70\u001b[0m  \u001b[99m0.03652\u001b[0m                             \n",
      " \u001b[1mloss_a\u001b[0m                                                                         \n",
      " \u001b[99m0.04151\u001b[0m                                                                        \n",
      "\u001b[1mDescription\u001b[0m 100.0% |\u001b[97m█\u001b[0m\u001b[97m█\u001b[0m\u001b[97m█\u001b[0m\u001b[97m█\u001b[0m\u001b[97m█\u001b[0m\u001b[97m█\u001b[0m\u001b[97m█\u001b[0m\u001b[97m█\u001b[0m\u001b[97m█\u001b[0m\u001b[97m█\u001b[0m\u001b[97m█\u001b[0m\u001b[97m█\u001b[0m\u001b[97m█\u001b[0m\u001b[97m█\u001b[0m\u001b[97m█\u001b[0m\u001b[97m█\u001b[0m\u001b[97m█\u001b[0m\u001b[97m█\u001b[0m\u001b[97m█\u001b[0m\u001b[97m█\u001b[0m\u001b[97m█\u001b[0m\u001b[97m█\u001b[0m\u001b[97m█\u001b[0m\u001b[97m█\u001b[0m\u001b[97m█\u001b[0m\u001b[97m█\u001b[0m\u001b[97m█\u001b[0m\u001b[97m█\u001b[0m\u001b[97m█\u001b[0m\u001b[97m█\u001b[0m\u001b[97m█\u001b[0m\u001b[97m█\u001b[0m\u001b[97m█\u001b[0m\u001b[97m█\u001b[0m\u001b[97m█\u001b[0m\u001b[97m█\u001b[0m\u001b[97m█\u001b[0m\u001b[97m█\u001b[0m\u001b[97m█\u001b[0m|                    \u001b[K\u001b[F\u001b[K\u001b[F\u001b[K\u001b[F\u001b[K\u001b[F \u001b[1mIters\u001b[0m    \u001b[1mElapsed Time\u001b[0m      \u001b[1mSpeed\u001b[0m    \u001b[1mepoch\u001b[0m   \u001b[1mloss\u001b[0m                               \n",
      " \u001b[99m70/\u001b[93m70\u001b[0m\u001b[0m  \u001b[99m02:39:16<\u001b[93m00:00:00\u001b[0m\u001b[0m  \u001b[99m0.01it/s\u001b[0m  \u001b[99m70/70\u001b[0m  \u001b[99m0.03652\u001b[0m                             \n",
      " \u001b[1mloss_a\u001b[0m                                                                         \n",
      " \u001b[99m0.04151\u001b[0m                                                                        \n",
      "\u001b[1mDescription\u001b[0m 100.0% |\u001b[97m█\u001b[0m\u001b[97m█\u001b[0m\u001b[97m█\u001b[0m\u001b[97m█\u001b[0m\u001b[97m█\u001b[0m\u001b[97m█\u001b[0m\u001b[97m█\u001b[0m\u001b[97m█\u001b[0m\u001b[97m█\u001b[0m\u001b[97m█\u001b[0m\u001b[97m█\u001b[0m\u001b[97m█\u001b[0m\u001b[97m█\u001b[0m\u001b[97m█\u001b[0m\u001b[97m█\u001b[0m\u001b[97m█\u001b[0m\u001b[97m█\u001b[0m\u001b[97m█\u001b[0m\u001b[97m█\u001b[0m\u001b[97m█\u001b[0m\u001b[97m█\u001b[0m\u001b[97m█\u001b[0m\u001b[97m█\u001b[0m\u001b[97m█\u001b[0m\u001b[97m█\u001b[0m\u001b[97m█\u001b[0m\u001b[97m█\u001b[0m\u001b[97m█\u001b[0m\u001b[97m█\u001b[0m\u001b[97m█\u001b[0m\u001b[97m█\u001b[0m\u001b[97m█\u001b[0m\u001b[97m█\u001b[0m\u001b[97m█\u001b[0m\u001b[97m█\u001b[0m\u001b[97m█\u001b[0m\u001b[97m█\u001b[0m\u001b[97m█\u001b[0m\u001b[97m█\u001b[0m|                    "
     ]
    }
   ],
   "source": [
    "best_loss = np.inf\n",
    "\n",
    "qqdm_train = qqdm(range(num_epochs), desc=format_str('bold', 'Description'), dynamic_ncols=False)\n",
    "for epoch in qqdm_train:\n",
    "    tot_loss = list()\n",
    "    tot_loss_a = list()\n",
    "    aux.train()\n",
    "    temperature = epoch // 2 + 1\n",
    "    for data in train_dataloader:\n",
    "        # ===================loading=====================\n",
    "        img = data.float().cuda()\n",
    "        if model_type in ['fcn']:\n",
    "            img = img.view(img.shape[0], -1)\n",
    "        # ===================train autoencoder=====================\n",
    "        model.train()\n",
    "        output = model(img)\n",
    "        if model_type in ['vae']:\n",
    "            loss = loss_vae(output[0], img, output[1], output[2], criterion)\n",
    "        else:\n",
    "            loss = criterion(output, img)\n",
    "        loss = loss.mean()\n",
    "        tot_loss.append(loss.item())\n",
    "        optimizer.zero_grad()\n",
    "        loss.backward()\n",
    "        optimizer.step()\n",
    "        # ===================train aux=====================\n",
    "        model.eval()\n",
    "        z = model.encoder(img).detach_()\n",
    "        output = output.detach_()\n",
    "        output_a = aux(z)\n",
    "        loss_a = (criterion(output_a, output).mul(temperature).exp())*criterion(output_a, img)\n",
    "        loss_a = loss_a.mean()\n",
    "        tot_loss_a.append(loss_a.item())\n",
    "        optimizer_a.zero_grad()\n",
    "        loss_a.backward()\n",
    "        optimizer_a.step()\n",
    "    # ===================save_best====================\n",
    "    mean_loss = np.mean(tot_loss)\n",
    "    if mean_loss < best_loss:\n",
    "        best_loss = mean_loss\n",
    "        torch.save(model, 'best_model_{}.pt'.format(model_type))\n",
    "        torch.save(aux, 'best_model_a_{}.pt'.format(model_type))\n",
    "    # ===================log========================\n",
    "    qqdm_train.set_infos({\n",
    "        'epoch': f'{epoch + 1:.0f}/{num_epochs:.0f}',\n",
    "        'loss':f'{np.mean(tot_loss):.5f}',\n",
    "        'loss_a':f'{np.mean(tot_loss_a):.5f}'\n",
    "    })\n",
    "    \n",
    "\n",
    "# ===================save_last========================\n",
    "torch.save(model, 'last_model_{}.pt'.format(model_type))\n",
    "torch.save(aux, 'last_model_a_{}.pt'.format(model_type))"
   ]
  },
  {
   "attachments": {},
   "cell_type": "markdown",
   "id": "c3a6720f",
   "metadata": {
    "id": "Wk0UxFuchLzR",
    "papermill": {
     "duration": 0.028891,
     "end_time": "2023-05-16T14:58:59.031104",
     "exception": false,
     "start_time": "2023-05-16T14:58:59.002213",
     "status": "completed"
    },
    "tags": []
   },
   "source": [
    "# Inference\n",
    "Model is loaded and generates its anomaly score predictions."
   ]
  },
  {
   "attachments": {},
   "cell_type": "markdown",
   "id": "d8a8461a",
   "metadata": {
    "id": "evgMW3OwoGqD",
    "papermill": {
     "duration": 0.028892,
     "end_time": "2023-05-16T14:58:59.089880",
     "exception": false,
     "start_time": "2023-05-16T14:58:59.060988",
     "status": "completed"
    },
    "tags": []
   },
   "source": [
    "## Initialize\n",
    "- dataloader\n",
    "- model\n",
    "- prediction file"
   ]
  },
  {
   "cell_type": "code",
   "execution_count": 14,
   "id": "bb27f949",
   "metadata": {
    "execution": {
     "iopub.execute_input": "2023-05-16T14:58:59.151309Z",
     "iopub.status.busy": "2023-05-16T14:58:59.150920Z",
     "iopub.status.idle": "2023-05-16T14:58:59.833668Z",
     "shell.execute_reply": "2023-05-16T14:58:59.832566Z"
    },
    "id": "_MBnXAswoKmq",
    "papermill": {
     "duration": 0.716697,
     "end_time": "2023-05-16T14:58:59.836545",
     "exception": false,
     "start_time": "2023-05-16T14:58:59.119848",
     "status": "completed"
    },
    "tags": []
   },
   "outputs": [],
   "source": [
    "eval_batch_size = 200\n",
    "\n",
    "# build testing dataloader\n",
    "data = torch.tensor(test, dtype=torch.float32)\n",
    "test_dataset = CustomTensorDataset(data)\n",
    "test_sampler = SequentialSampler(test_dataset)\n",
    "test_dataloader = DataLoader(test_dataset, sampler=test_sampler, batch_size=eval_batch_size, num_workers=1)\n",
    "eval_loss = nn.MSELoss(reduction='none')\n",
    "\n",
    "# load trained model\n",
    "checkpoint_path = f'best_model_{model_type}.pt'\n",
    "checkpoint_path_a = f'best_model_a_{model_type}.pt'\n",
    "model = torch.load(checkpoint_path).cuda()\n",
    "aux = torch.load(checkpoint_path_a).cuda()\n",
    "model.eval()\n",
    " \n",
    "# prediction file \n",
    "out_file = 'prediction.csv'\n",
    "out_file_a = 'prediction_a.csv'"
   ]
  },
  {
   "cell_type": "code",
   "execution_count": 15,
   "id": "473d261f",
   "metadata": {
    "execution": {
     "iopub.execute_input": "2023-05-16T14:58:59.899624Z",
     "iopub.status.busy": "2023-05-16T14:58:59.898312Z",
     "iopub.status.idle": "2023-05-16T14:59:04.636965Z",
     "shell.execute_reply": "2023-05-16T14:59:04.635667Z"
    },
    "id": "_1IxCX2iCW6V",
    "papermill": {
     "duration": 4.772375,
     "end_time": "2023-05-16T14:59:04.639866",
     "exception": false,
     "start_time": "2023-05-16T14:58:59.867491",
     "status": "completed"
    },
    "tags": []
   },
   "outputs": [],
   "source": [
    "anomality = list()\n",
    "auxs = list()\n",
    "with torch.no_grad():\n",
    "  for i, data in enumerate(test_dataloader):\n",
    "    img = data.float().cuda()\n",
    "    if model_type in ['fcn']:\n",
    "      img = img.view(img.shape[0], -1)\n",
    "    z = model.encoder(img)\n",
    "    output, output_a = model.decoder(z), aux(z)\n",
    "    if model_type in ['vae']:\n",
    "      output = output[0]\n",
    "    if model_type in ['fcn']:\n",
    "        loss = eval_loss(output, img).mean(-1)\n",
    "    else:\n",
    "        loss = eval_loss(output, img).mean([1, 2, 3])\n",
    "        loss_a = eval_loss(output_a, img).mean([1, 2, 3])\n",
    "    anomality.append(loss)\n",
    "    auxs.append(loss_a)\n",
    "\n",
    "anomality = torch.cat(anomality, axis=0)\n",
    "anomality = torch.sqrt(anomality).reshape(len(test), 1).cpu().numpy()\n",
    "auxs = torch.cat(auxs, axis=0)\n",
    "auxs = torch.sqrt(auxs).reshape(len(test), 1).cpu().numpy()\n",
    "\n",
    "df = pd.DataFrame(anomality, columns=['score'])\n",
    "df.to_csv(out_file, index_label = 'ID')\n",
    "df_a = pd.DataFrame(auxs, columns=['score'])\n",
    "df_a.to_csv(out_file_a, index_label = 'ID')"
   ]
  },
  {
   "cell_type": "code",
   "execution_count": 16,
   "id": "1d98138c",
   "metadata": {
    "execution": {
     "iopub.execute_input": "2023-05-16T14:59:04.762393Z",
     "iopub.status.busy": "2023-05-16T14:59:04.761960Z",
     "iopub.status.idle": "2023-05-16T14:59:05.157548Z",
     "shell.execute_reply": "2023-05-16T14:59:05.156337Z"
    },
    "papermill": {
     "duration": 0.428998,
     "end_time": "2023-05-16T14:59:05.160138",
     "exception": false,
     "start_time": "2023-05-16T14:59:04.731140",
     "status": "completed"
    },
    "tags": []
   },
   "outputs": [
    {
     "data": {
      "image/png": "[encoded data removed]",
      "text/plain": [
       "<Figure size 1200x400 with 2 Axes>"
      ]
     },
     "metadata": {},
     "output_type": "display_data"
    }
   ],
   "source": [
    "import matplotlib.pyplot as plt\n",
    "plt.figure(figsize=(12, 4))\n",
    "plt.subplot(121)\n",
    "plt.title('reconstrcut error')\n",
    "plt.hist(df.score)\n",
    "plt.subplot(122)\n",
    "plt.title('aux error')\n",
    "plt.hist(df_a.score)\n",
    "plt.show()"
   ]
  }
 ],
 "metadata": {
  "kernelspec": {
   "display_name": "Python 3 (ipykernel)",
   "language": "python",
   "name": "python3"
  },
  "language_info": {
   "codemirror_mode": {
    "name": "ipython",
    "version": 3
   },
   "file_extension": ".py",
   "mimetype": "text/x-python",
   "name": "python",
   "nbconvert_exporter": "python",
   "pygments_lexer": "ipython3",
   "version": "3.9.12"
  },
  "papermill": {
   "default_parameters": {},
   "duration": 9804.650655,
   "end_time": "2023-05-16T14:59:07.577760",
   "environment_variables": {},
   "exception": null,
   "input_path": "__notebook__.ipynb",
   "output_path": "__notebook__.ipynb",
   "parameters": {},
   "start_time": "2023-05-16T12:15:42.927105",
   "version": "2.4.0"
  }
 },
 "nbformat": 4,
 "nbformat_minor": 5
}
