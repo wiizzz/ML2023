{
  "cells": [
    {
      "attachments": {},
      "cell_type": "markdown",
      "metadata": {
        "id": "AsmmE9T_WFbD"
      },
      "source": [
        "\n",
        "\n",
        "### LifeLong Machine Learning\n",
        "### TA's Slide\n",
        "[Slide](https://docs.google.com/presentation/d/1SMJLWPTPCIrZdNdAjrS4zQZx1kfB73jCFSb7JRX90gQ/edit?usp=sharing)\n",
        "\n",
        "### Definition\n",
        "The detailed explanations and definitions of LifeLong Learning please refer to [LifeLong learning](https://youtu.be/7qT5P9KJnWo)\n",
        "\n",
        "\n",
        "### Methods\n",
        "Someone proposed a survey paper for LifeLong Learning at the end of 2019 to distinguish 2016-2019 LigeLong Learning methods into three families.\n",
        "\n",
        "We can distinguish LifeLong Learning methods into three families, based on how task\n",
        "specific information is stored and used throughout the sequential learning process:\n",
        "* Replay-based methods\n",
        "* Regularization-based methods\n",
        "* Parameter isolation methods\n",
        "\n",
        "<img src=\"https://i.ibb.co/VDFJkWG/2019-12-29-17-25.png\" width=\"100%\">\n",
        "\n",
        "In this assignment, we have to go through EWC, MAS, SI, Remanian Walk, SCP Methods in the prior-focused methods of the regularization-based methods.\n",
        "\n",
        "Source: [Continual Learning in Neural\n",
        "Networks](https://arxiv.org/pdf/1910.02718.pdf)\n",
        "\n",
        "Please feel free to mail us if you have any questions.\n",
        "\n",
        "mlta-2023-spring@googlegroups.com\n"
      ]
    },
    {
      "attachments": {},
      "cell_type": "markdown",
      "metadata": {
        "id": "BK862tXGWFbE"
      },
      "source": [
        "# Utilities"
      ]
    },
    {
      "attachments": {},
      "cell_type": "markdown",
      "metadata": {
        "id": "Q3qCa3AyWFbE"
      },
      "source": [
        "### Import Libraries"
      ]
    },
    {
      "cell_type": "code",
      "execution_count": null,
      "metadata": {
        "id": "R2TZ4-_yWFbF"
      },
      "outputs": [],
      "source": [
        "import argparse\n",
        "import matplotlib.pyplot as plt\n",
        "import numpy as np\n",
        "import os\n",
        "import torch\n",
        "import torch.utils.data as data\n",
        "from torch.utils.data import DataLoader\n",
        "import torch.utils.data.sampler as sampler\n",
        "import torch.nn as nn\n",
        "import torch.nn.functional as F\n",
        "import torchvision\n",
        "from torchvision import datasets, transforms\n",
        "import tqdm\n",
        "from tqdm import trange"
      ]
    },
    {
      "attachments": {},
      "cell_type": "markdown",
      "metadata": {
        "id": "gg3_4IbVWFbF"
      },
      "source": [
        "### Check devices"
      ]
    },
    {
      "cell_type": "code",
      "execution_count": null,
      "metadata": {
        "colab": {
          "base_uri": "https://localhost:8080/"
        },
        "id": "OivaUp0oWFbF",
        "outputId": "d5582bd4-faa5-4604-94b6-55ca6ff387df"
      },
      "outputs": [
        {
          "name": "stdout",
          "output_type": "stream",
          "text": [
            "Tue Jul  4 15:33:08 2023       \n",
            "+-----------------------------------------------------------------------------+\n",
            "| NVIDIA-SMI 525.85.12    Driver Version: 525.85.12    CUDA Version: 12.0     |\n",
            "|-------------------------------+----------------------+----------------------+\n",
            "| GPU  Name        Persistence-M| Bus-Id        Disp.A | Volatile Uncorr. ECC |\n",
            "| Fan  Temp  Perf  Pwr:Usage/Cap|         Memory-Usage | GPU-Util  Compute M. |\n",
            "|                               |                      |               MIG M. |\n",
            "|===============================+======================+======================|\n",
            "|   0  Tesla T4            Off  | 00000000:00:04.0 Off |                    0 |\n",
            "| N/A   63C    P8    11W /  70W |      0MiB / 15360MiB |      0%      Default |\n",
            "|                               |                      |                  N/A |\n",
            "+-------------------------------+----------------------+----------------------+\n",
            "                                                                               \n",
            "+-----------------------------------------------------------------------------+\n",
            "| Processes:                                                                  |\n",
            "|  GPU   GI   CI        PID   Type   Process name                  GPU Memory |\n",
            "|        ID   ID                                                   Usage      |\n",
            "|=============================================================================|\n",
            "|  No running processes found                                                 |\n",
            "+-----------------------------------------------------------------------------+\n"
          ]
        }
      ],
      "source": [
        "!nvidia-smi"
      ]
    },
    {
      "attachments": {},
      "cell_type": "markdown",
      "metadata": {
        "id": "yUJ74uBEWFbG"
      },
      "source": [
        "### Fix Random Seeds"
      ]
    },
    {
      "cell_type": "code",
      "execution_count": null,
      "metadata": {
        "id": "wD5LIZarWFbG"
      },
      "outputs": [],
      "source": [
        "def same_seeds(seed):\n",
        "  torch.manual_seed(seed)\n",
        "  if torch.cuda.is_available():\n",
        "    torch.cuda.manual_seed(seed)\n",
        "    torch.cuda.manual_seed_all(seed)\n",
        "  np.random.seed(seed)\n",
        "  torch.backends.cudnn.benchmark = False\n",
        "  torch.backends.cudnn.deterministic = True\n",
        "\n",
        "same_seeds(0)"
      ]
    },
    {
      "attachments": {},
      "cell_type": "markdown",
      "metadata": {
        "id": "jF1t8-4kWFbG"
      },
      "source": [
        "# Prepare Data\n",
        "We utilize rotated MNIST as our training dataset.\n",
        "\n",
        "So, first, we utilize 5 different rotations to generate 10 different rotated MNISTs as different tasks."
      ]
    },
    {
      "attachments": {},
      "cell_type": "markdown",
      "metadata": {
        "id": "RQUE7ZCEWFbG"
      },
      "source": [
        "### Rotation and Transformation"
      ]
    },
    {
      "cell_type": "code",
      "execution_count": null,
      "metadata": {
        "id": "YuG2jkeEWFbG"
      },
      "outputs": [],
      "source": [
        "# Rotate MNIST to generate 10 tasks\n",
        "\n",
        "def _rotate_image(image, angle):\n",
        "  if angle is None:\n",
        "    return image\n",
        "\n",
        "  image = transforms.functional.rotate(image, angle=angle)\n",
        "  return image\n",
        "\n",
        "def get_transform(angle=None):\n",
        "  transform = transforms.Compose([transforms.ToTensor(),\n",
        "                   transforms.Lambda(lambda x: _rotate_image(x, angle)),\n",
        "                   Pad(28)\n",
        "                   ])\n",
        "  return transform\n",
        "\n",
        "class Pad(object):\n",
        "  def __init__(self, size, fill=0, padding_mode='constant'):\n",
        "    self.size = size\n",
        "    self.fill = fill\n",
        "    self.padding_mode = padding_mode\n",
        "\n",
        "  def __call__(self, img):\n",
        "    # If the H and W of img is not equal to desired size,\n",
        "    # then pad the channel of img to desired size.\n",
        "    img_size = img.size()[1]\n",
        "    assert ((self.size - img_size) % 2 == 0)\n",
        "    padding = (self.size - img_size) // 2\n",
        "    padding = (padding, padding, padding, padding)\n",
        "    return F.pad(img, padding, self.padding_mode, self.fill)\n",
        "\n",
        "class Data():\n",
        "  def __init__(self, path, train=True, angle=None):\n",
        "    transform = get_transform(angle)\n",
        "    self.dataset = datasets.MNIST(root=os.path.join(path, \"MNIST\"), transform=transform, train=train, download=True)"
      ]
    },
    {
      "attachments": {},
      "cell_type": "markdown",
      "metadata": {
        "id": "KG8GcENLWFbH"
      },
      "source": [
        "### Dataloaders and Arguments\n",
        "- Training Arguments\n",
        "- Setup 5 different Rotations\n",
        "- 5 Train DataLoader\n",
        "- 5 Test DataLoader"
      ]
    },
    {
      "cell_type": "code",
      "execution_count": null,
      "metadata": {
        "colab": {
          "base_uri": "https://localhost:8080/"
        },
        "id": "jDo1m4EIWFbH",
        "outputId": "9475a523-3608-404c-9bc9-3212cd938525"
      },
      "outputs": [
        {
          "name": "stdout",
          "output_type": "stream",
          "text": [
            "Downloading http://yann.lecun.com/exdb/mnist/train-images-idx3-ubyte.gz\n",
            "Downloading http://yann.lecun.com/exdb/mnist/train-images-idx3-ubyte.gz to data/MNIST/MNIST/raw/train-images-idx3-ubyte.gz\n"
          ]
        },
        {
          "name": "stderr",
          "output_type": "stream",
          "text": [
            "100%|██████████| 9912422/9912422 [00:00<00:00, 319783644.93it/s]"
          ]
        },
        {
          "name": "stdout",
          "output_type": "stream",
          "text": [
            "Extracting data/MNIST/MNIST/raw/train-images-idx3-ubyte.gz to data/MNIST/MNIST/raw\n"
          ]
        },
        {
          "name": "stderr",
          "output_type": "stream",
          "text": [
            "\n"
          ]
        },
        {
          "name": "stdout",
          "output_type": "stream",
          "text": [
            "\n",
            "Downloading http://yann.lecun.com/exdb/mnist/train-labels-idx1-ubyte.gz\n",
            "Downloading http://yann.lecun.com/exdb/mnist/train-labels-idx1-ubyte.gz to data/MNIST/MNIST/raw/train-labels-idx1-ubyte.gz\n"
          ]
        },
        {
          "name": "stderr",
          "output_type": "stream",
          "text": [
            "100%|██████████| 28881/28881 [00:00<00:00, 47189596.35it/s]\n"
          ]
        },
        {
          "name": "stdout",
          "output_type": "stream",
          "text": [
            "Extracting data/MNIST/MNIST/raw/train-labels-idx1-ubyte.gz to data/MNIST/MNIST/raw\n",
            "\n",
            "Downloading http://yann.lecun.com/exdb/mnist/t10k-images-idx3-ubyte.gz\n",
            "Downloading http://yann.lecun.com/exdb/mnist/t10k-images-idx3-ubyte.gz to data/MNIST/MNIST/raw/t10k-images-idx3-ubyte.gz\n"
          ]
        },
        {
          "name": "stderr",
          "output_type": "stream",
          "text": [
            "100%|██████████| 1648877/1648877 [00:00<00:00, 204008595.77it/s]"
          ]
        },
        {
          "name": "stdout",
          "output_type": "stream",
          "text": [
            "Extracting data/MNIST/MNIST/raw/t10k-images-idx3-ubyte.gz to data/MNIST/MNIST/raw\n",
            "\n",
            "Downloading http://yann.lecun.com/exdb/mnist/t10k-labels-idx1-ubyte.gz\n"
          ]
        },
        {
          "name": "stderr",
          "output_type": "stream",
          "text": [
            "\n"
          ]
        },
        {
          "name": "stdout",
          "output_type": "stream",
          "text": [
            "Downloading http://yann.lecun.com/exdb/mnist/t10k-labels-idx1-ubyte.gz to data/MNIST/MNIST/raw/t10k-labels-idx1-ubyte.gz\n"
          ]
        },
        {
          "name": "stderr",
          "output_type": "stream",
          "text": [
            "100%|██████████| 4542/4542 [00:00<00:00, 8448128.06it/s]\n"
          ]
        },
        {
          "name": "stdout",
          "output_type": "stream",
          "text": [
            "Extracting data/MNIST/MNIST/raw/t10k-labels-idx1-ubyte.gz to data/MNIST/MNIST/raw\n",
            "\n"
          ]
        }
      ],
      "source": [
        "class Args:\n",
        "  task_number = 5\n",
        "  epochs_per_task = 10\n",
        "  lr = 1.0e-4\n",
        "  batch_size = 128\n",
        "  test_size=8192\n",
        "\n",
        "args=Args()\n",
        "\n",
        "device = torch.device(\"cuda\" if torch.cuda.is_available() else \"cpu\")\n",
        "# generate rotations for the tasks.\n",
        "\n",
        "# generate rotated MNIST data from 10 different rotations.\n",
        "\n",
        "angle_list = [20 * x for x in range(args.task_number)]\n",
        "\n",
        "# prepare rotated MNIST datasets.\n",
        "\n",
        "train_datasets = [Data('data', angle=angle_list[index]) for index in range(args.task_number)]\n",
        "train_dataloaders = [DataLoader(data.dataset, batch_size=args.batch_size, shuffle=True) for data in train_datasets]\n",
        "\n",
        "test_datasets = [Data('data', train=False, angle=angle_list[index]) for index in range(args.task_number)]\n",
        "test_dataloaders = [DataLoader(data.dataset, batch_size=args.test_size, shuffle=True) for data in test_datasets]"
      ]
    },
    {
      "attachments": {},
      "cell_type": "markdown",
      "metadata": {
        "id": "44eTPTSrWFbH"
      },
      "source": [
        "### Visualization"
      ]
    },
    {
      "cell_type": "code",
      "execution_count": null,
      "metadata": {
        "colab": {
          "base_uri": "https://localhost:8080/",
          "height": 449
        },
        "id": "H_JGabIFWFbH",
        "outputId": "eee7e1a3-88c8-4ff0-93b4-3c7863993d05"
      },
      "outputs": [
        {
          "data": {
            "image/png": "[encoded data removed]",
            "text/plain": [
              "<Figure size 3000x1000 with 50 Axes>"
            ]
          },
          "metadata": {},
          "output_type": "display_data"
        }
      ],
      "source": [
        "# Visualize label 0-9 1 sample MNIST picture in 5 tasks.\n",
        "sample = [Data('data', angle=angle_list[index]) for index in range(args.task_number)]\n",
        "\n",
        "plt.figure(figsize=(30, 10))\n",
        "for task in range(5):\n",
        "  target_list = []\n",
        "  cnt = 0\n",
        "  while (len(target_list) < 10):\n",
        "    img, target = sample[task].dataset[cnt]\n",
        "    cnt += 1\n",
        "    if target in target_list:\n",
        "      continue\n",
        "    else:\n",
        "      target_list.append(target)\n",
        "    plt.subplot(5, 10, (task)*10 + target + 1)\n",
        "    curr_img = np.reshape(img, (28, 28))\n",
        "    plt.matshow(curr_img, cmap=plt.get_cmap('gray'), fignum=False)\n",
        "    ax = plt.gca()\n",
        "    ax.axes.xaxis.set_ticks([])\n",
        "    ax.axes.yaxis.set_ticks([])\n",
        "    plt.title(\"task: \" + str(task+1) + \" \" + \"label: \" + str(target), y=1)"
      ]
    },
    {
      "attachments": {},
      "cell_type": "markdown",
      "metadata": {
        "id": "4yn5L2iuWFbH"
      },
      "source": [
        "# Prepare Model"
      ]
    },
    {
      "attachments": {},
      "cell_type": "markdown",
      "metadata": {
        "id": "TyT-BW1zWFbI"
      },
      "source": [
        "### Model Architecture\n",
        "To fair comparison,\n",
        "\n",
        "We fix our model architecture to do this homework.\n",
        "\n",
        "The model architecture consists of 4 layers fully-connected network."
      ]
    },
    {
      "cell_type": "code",
      "execution_count": null,
      "metadata": {
        "colab": {
          "base_uri": "https://localhost:8080/"
        },
        "id": "PHK0IJofWFbI",
        "outputId": "2b6bd89f-426b-4e89-b797-ca09a8e9023a"
      },
      "outputs": [
        {
          "name": "stdout",
          "output_type": "stream",
          "text": [
            "Model(\n",
            "  (fc1): Linear(in_features=784, out_features=1024, bias=True)\n",
            "  (fc2): Linear(in_features=1024, out_features=512, bias=True)\n",
            "  (fc3): Linear(in_features=512, out_features=256, bias=True)\n",
            "  (fc4): Linear(in_features=256, out_features=10, bias=True)\n",
            "  (relu): ReLU()\n",
            ")\n"
          ]
        }
      ],
      "source": [
        "class Model(nn.Module):\n",
        "  \"\"\"\n",
        "  Model architecture\n",
        "  1*28*28 (input) → 1024 → 512 → 256 → 10\n",
        "  \"\"\"\n",
        "  def __init__(self):\n",
        "    super(Model, self).__init__()\n",
        "    self.fc1 = nn.Linear(1*28*28, 1024)\n",
        "    self.fc2 = nn.Linear(1024, 512)\n",
        "    self.fc3 = nn.Linear(512, 256)\n",
        "    self.fc4 = nn.Linear(256, 10)\n",
        "    self.relu = nn.ReLU()\n",
        "\n",
        "  def forward(self, x):\n",
        "    x = x.view(-1, 1*28*28)\n",
        "    x = self.fc1(x)\n",
        "    x = self.relu(x)\n",
        "    x = self.fc2(x)\n",
        "    x = self.relu(x)\n",
        "    x = self.fc3(x)\n",
        "    x = self.relu(x)\n",
        "    x = self.fc4(x)\n",
        "    return x\n",
        "\n",
        "example = Model()\n",
        "print(example)"
      ]
    },
    {
      "attachments": {},
      "cell_type": "markdown",
      "metadata": {
        "id": "6tTBIThnWFbI"
      },
      "source": [
        "# Train and Evaluate"
      ]
    },
    {
      "attachments": {},
      "cell_type": "markdown",
      "metadata": {
        "id": "cQI3OGfgWFbI"
      },
      "source": [
        "### Train\n",
        "This is our function of training.\n",
        "\n",
        "It can generally be applied in different regularization-based lifelong learning algorithms in this homework."
      ]
    },
    {
      "cell_type": "code",
      "execution_count": null,
      "metadata": {
        "id": "MQLGpyqnWFbJ"
      },
      "outputs": [],
      "source": [
        "def train(model, optimizer, dataloader, epochs_per_task, lll_object, lll_lambda, test_dataloaders, evaluate, device, log_step=1):\n",
        "  model.train()\n",
        "  model.zero_grad()\n",
        "  objective = nn.CrossEntropyLoss()\n",
        "  acc_per_epoch = []\n",
        "  loss = 1.0\n",
        "  bar = trange(epochs_per_task, leave=False, desc=f\"Epoch 1, Loss: {loss:.7f}\")\n",
        "  for epoch in bar:\n",
        "    for imgs, labels in dataloader:\n",
        "      imgs, labels = imgs.to(device), labels.to(device)\n",
        "      outputs = model(imgs)\n",
        "      loss = objective(outputs, labels)\n",
        "      total_loss = loss\n",
        "      lll_loss = lll_object.penalty(model)\n",
        "      total_loss += lll_lambda * lll_loss\n",
        "      lll_object.update(model)\n",
        "      optimizer.zero_grad()\n",
        "      total_loss.backward()\n",
        "      optimizer.step()\n",
        "\n",
        "      loss = total_loss.item()\n",
        "    acc_average  = []\n",
        "    for test_dataloader in test_dataloaders:\n",
        "      acc_test = evaluate(model, test_dataloader, device)\n",
        "      acc_average.append(acc_test)\n",
        "    average=np.mean(np.array(acc_average))\n",
        "    acc_per_epoch.append(average*100.0)\n",
        "\n",
        "  return model, optimizer, acc_per_epoch"
      ]
    },
    {
      "attachments": {},
      "cell_type": "markdown",
      "metadata": {
        "id": "UN-V_Rq3WFbJ"
      },
      "source": [
        "### Evaluate\n",
        "This is our function of evaluation.\n",
        "\n",
        "It can generally be applied in different regularization-based lifelong learning algorithms in this homework.\n"
      ]
    },
    {
      "cell_type": "code",
      "execution_count": null,
      "metadata": {
        "id": "AgUG7ZC3WFbJ"
      },
      "outputs": [],
      "source": [
        "def evaluate(model, test_dataloader, device):\n",
        "    model.eval()\n",
        "    correct_cnt = 0\n",
        "    total = 0\n",
        "    for imgs, labels in test_dataloader:\n",
        "        imgs, labels = imgs.to(device), labels.to(device)\n",
        "        outputs = model(imgs)\n",
        "        _, pred_label = torch.max(outputs.data, 1)\n",
        "\n",
        "        correct_cnt += (pred_label == labels.data).sum().item()\n",
        "        total += torch.ones_like(labels.data).sum().item()\n",
        "    return correct_cnt / total"
      ]
    },
    {
      "attachments": {},
      "cell_type": "markdown",
      "metadata": {
        "id": "-6MG7AXmWFbJ"
      },
      "source": [
        "# Methods\n",
        "- Baseline\n",
        "- EWC\n",
        "- SI\n",
        "- MAS\n",
        "- RWalk\n",
        "- SCP"
      ]
    },
    {
      "attachments": {},
      "cell_type": "markdown",
      "metadata": {
        "id": "NqEKECBKWFbK"
      },
      "source": [
        "### Baseline\n",
        "The baseline class will do nothing in the regularization term."
      ]
    },
    {
      "cell_type": "code",
      "execution_count": null,
      "metadata": {
        "id": "hi0rxYWPWFbK"
      },
      "outputs": [],
      "source": [
        "# Baseline\n",
        "class baseline(object):\n",
        "  \"\"\"\n",
        "  baseline technique: do nothing in regularization term [initialize and all weight is zero]\n",
        "  \"\"\"\n",
        "  def __init__(self, model, dataloader, device):\n",
        "    self.model = model\n",
        "    self.dataloader = dataloader\n",
        "    self.device = device\n",
        "    # extract all parameters in models\n",
        "    self.params = {n: p for n, p in self.model.named_parameters() if p.requires_grad}\n",
        "\n",
        "    # store current parameters\n",
        "    self.p_old = {}\n",
        "\n",
        "    # generate weight matrix\n",
        "    self._precision_matrices = self._calculate_importance()\n",
        "\n",
        "    for n, p in self.params.items():\n",
        "      # keep the old parameter in self.p_old\n",
        "      self.p_old[n] = p.clone().detach()\n",
        "\n",
        "  def _calculate_importance(self):\n",
        "    precision_matrices = {}\n",
        "    # initialize weight matrix（fill zero）\n",
        "    for n, p in self.params.items():\n",
        "      precision_matrices[n] = p.clone().detach().fill_(0)\n",
        "\n",
        "    return precision_matrices\n",
        "\n",
        "  def penalty(self, model: nn.Module):\n",
        "    loss = 0\n",
        "    for n, p in model.named_parameters():\n",
        "      _loss = self._precision_matrices[n] * (p - self.p_old[n]) ** 2\n",
        "      loss += _loss.sum()\n",
        "    return loss\n",
        "\n",
        "  def update(self, model):\n",
        "    # do nothing\n",
        "    return"
      ]
    },
    {
      "cell_type": "code",
      "execution_count": null,
      "metadata": {
        "colab": {
          "base_uri": "https://localhost:8080/"
        },
        "id": "N47ycrp3WFbK",
        "outputId": "1db7c4bd-c306-4640-c8c7-e465a1bc1a1a"
      },
      "outputs": [
        {
          "name": "stdout",
          "output_type": "stream",
          "text": [
            "RUN BASELINE\n"
          ]
        },
        {
          "name": "stderr",
          "output_type": "stream",
          "text": [
            "Task   1:   0%|          | 0/5 [00:00<?, ?it/s]\n",
            "Epoch 1, Loss: 1.0000000:   0%|          | 0/10 [00:00<?, ?it/s]\u001b[A\n",
            "Epoch 1, Loss: 1.0000000:  10%|█         | 1/10 [00:32<04:54, 32.68s/it]\u001b[A\n",
            "Epoch 1, Loss: 1.0000000:  20%|██        | 2/10 [01:01<04:03, 30.49s/it]\u001b[A\n",
            "Epoch 1, Loss: 1.0000000:  30%|███       | 3/10 [01:29<03:26, 29.52s/it]\u001b[A\n",
            "Epoch 1, Loss: 1.0000000:  40%|████      | 4/10 [01:58<02:54, 29.16s/it]\u001b[A\n",
            "Epoch 1, Loss: 1.0000000:  50%|█████     | 5/10 [02:28<02:27, 29.41s/it]\u001b[A\n",
            "Epoch 1, Loss: 1.0000000:  60%|██████    | 6/10 [02:56<01:55, 28.95s/it]\u001b[A\n",
            "Epoch 1, Loss: 1.0000000:  70%|███████   | 7/10 [03:25<01:26, 28.86s/it]\u001b[A\n",
            "Epoch 1, Loss: 1.0000000:  80%|████████  | 8/10 [03:53<00:57, 28.73s/it]\u001b[A\n",
            "Epoch 1, Loss: 1.0000000:  90%|█████████ | 9/10 [04:21<00:28, 28.55s/it]\u001b[A\n",
            "Epoch 1, Loss: 1.0000000: 100%|██████████| 10/10 [04:50<00:00, 28.50s/it]\u001b[A\n",
            "Task   2:  20%|██        | 1/5 [04:50<19:20, 290.22s/it]\n",
            "Epoch 1, Loss: 1.0000000:   0%|          | 0/10 [00:00<?, ?it/s]\u001b[A\n",
            "Epoch 1, Loss: 1.0000000:  10%|█         | 1/10 [00:31<04:47, 31.97s/it]\u001b[A\n",
            "Epoch 1, Loss: 1.0000000:  20%|██        | 2/10 [01:04<04:18, 32.25s/it]\u001b[A\n",
            "Epoch 1, Loss: 1.0000000:  30%|███       | 3/10 [01:36<03:46, 32.29s/it]\u001b[A\n",
            "Epoch 1, Loss: 1.0000000:  40%|████      | 4/10 [02:08<03:12, 32.12s/it]\u001b[A\n",
            "Epoch 1, Loss: 1.0000000:  50%|█████     | 5/10 [02:41<02:41, 32.24s/it]\u001b[A\n",
            "Epoch 1, Loss: 1.0000000:  60%|██████    | 6/10 [03:13<02:08, 32.16s/it]\u001b[A\n",
            "Epoch 1, Loss: 1.0000000:  70%|███████   | 7/10 [03:45<01:36, 32.18s/it]\u001b[A\n",
            "Epoch 1, Loss: 1.0000000:  80%|████████  | 8/10 [04:17<01:04, 32.31s/it]\u001b[A\n",
            "Epoch 1, Loss: 1.0000000:  90%|█████████ | 9/10 [04:50<00:32, 32.47s/it]\u001b[A\n",
            "Epoch 1, Loss: 1.0000000: 100%|██████████| 10/10 [05:22<00:00, 32.36s/it]\u001b[A\n",
            "Task   3:  40%|████      | 2/5 [10:13<15:28, 309.40s/it]\n",
            "Epoch 1, Loss: 1.0000000:   0%|          | 0/10 [00:00<?, ?it/s]\u001b[A\n",
            "Epoch 1, Loss: 1.0000000:  10%|█         | 1/10 [00:36<05:26, 36.32s/it]\u001b[A\n",
            "Epoch 1, Loss: 1.0000000:  20%|██        | 2/10 [01:12<04:49, 36.24s/it]\u001b[A\n",
            "Epoch 1, Loss: 1.0000000:  30%|███       | 3/10 [01:49<04:14, 36.36s/it]\u001b[A\n",
            "Epoch 1, Loss: 1.0000000:  40%|████      | 4/10 [02:25<03:37, 36.26s/it]\u001b[A\n",
            "Epoch 1, Loss: 1.0000000:  50%|█████     | 5/10 [03:00<03:00, 36.06s/it]\u001b[A\n",
            "Epoch 1, Loss: 1.0000000:  60%|██████    | 6/10 [03:37<02:24, 36.12s/it]\u001b[A\n",
            "Epoch 1, Loss: 1.0000000:  70%|███████   | 7/10 [04:13<01:48, 36.12s/it]\u001b[A\n",
            "Epoch 1, Loss: 1.0000000:  80%|████████  | 8/10 [04:49<01:12, 36.09s/it]\u001b[A\n",
            "Epoch 1, Loss: 1.0000000:  90%|█████████ | 9/10 [05:25<00:36, 36.13s/it]\u001b[A\n",
            "Epoch 1, Loss: 1.0000000: 100%|██████████| 10/10 [06:01<00:00, 36.13s/it]\u001b[A\n",
            "Task   4:  60%|██████    | 3/5 [16:14<11:06, 333.22s/it]\n",
            "Epoch 1, Loss: 1.0000000:   0%|          | 0/10 [00:00<?, ?it/s]\u001b[A\n",
            "Epoch 1, Loss: 1.0000000:  10%|█         | 1/10 [00:39<05:59, 39.90s/it]\u001b[A\n",
            "Epoch 1, Loss: 1.0000000:  20%|██        | 2/10 [01:20<05:23, 40.43s/it]\u001b[A\n",
            "Epoch 1, Loss: 1.0000000:  30%|███       | 3/10 [02:00<04:42, 40.34s/it]\u001b[A\n",
            "Epoch 1, Loss: 1.0000000:  40%|████      | 4/10 [02:41<04:02, 40.40s/it]\u001b[A\n",
            "Epoch 1, Loss: 1.0000000:  50%|█████     | 5/10 [03:22<03:23, 40.61s/it]\u001b[A\n",
            "Epoch 1, Loss: 1.0000000:  60%|██████    | 6/10 [04:03<02:43, 40.75s/it]\u001b[A\n",
            "Epoch 1, Loss: 1.0000000:  70%|███████   | 7/10 [04:44<02:02, 40.82s/it]\u001b[A\n",
            "Epoch 1, Loss: 1.0000000:  80%|████████  | 8/10 [05:25<01:21, 40.99s/it]\u001b[A\n",
            "Epoch 1, Loss: 1.0000000:  90%|█████████ | 9/10 [06:06<00:40, 40.81s/it]\u001b[A\n",
            "Epoch 1, Loss: 1.0000000: 100%|██████████| 10/10 [06:47<00:00, 40.95s/it]\u001b[A\n",
            "Task   5:  80%|████████  | 4/5 [23:02<06:02, 362.53s/it]\n",
            "Epoch 1, Loss: 1.0000000:   0%|          | 0/10 [00:00<?, ?it/s]\u001b[A\n",
            "Epoch 1, Loss: 1.0000000:  10%|█         | 1/10 [00:44<06:44, 44.92s/it]\u001b[A\n",
            "Epoch 1, Loss: 1.0000000:  20%|██        | 2/10 [01:30<06:01, 45.14s/it]\u001b[A\n",
            "Epoch 1, Loss: 1.0000000:  30%|███       | 3/10 [02:15<05:16, 45.20s/it]\u001b[A\n",
            "Epoch 1, Loss: 1.0000000:  40%|████      | 4/10 [03:00<04:30, 45.16s/it]\u001b[A\n",
            "Epoch 1, Loss: 1.0000000:  50%|█████     | 5/10 [03:46<03:46, 45.37s/it]\u001b[A\n",
            "Epoch 1, Loss: 1.0000000:  60%|██████    | 6/10 [04:32<03:02, 45.58s/it]\u001b[A\n",
            "Epoch 1, Loss: 1.0000000:  70%|███████   | 7/10 [05:18<02:16, 45.63s/it]\u001b[A\n",
            "Epoch 1, Loss: 1.0000000:  80%|████████  | 8/10 [06:03<01:30, 45.43s/it]\u001b[A\n",
            "Epoch 1, Loss: 1.0000000:  90%|█████████ | 9/10 [06:48<00:45, 45.42s/it]\u001b[A\n",
            "Epoch 1, Loss: 1.0000000: 100%|██████████| 10/10 [07:33<00:00, 45.36s/it]\u001b[A\n",
            "Task   6: 100%|██████████| 5/5 [30:35<00:00, 367.16s/it]"
          ]
        },
        {
          "name": "stdout",
          "output_type": "stream",
          "text": [
            "[92.64, 94.44, 95.72, 96.45, 96.66, 97.09, 97.54, 97.61999999999999, 97.50999999999999, 97.89999999999999, 95.665, 95.735, 95.485, 95.685, 95.61500000000001, 95.055, 94.88, 95.38, 95.41, 95.435, 91.28666666666666, 90.59666666666666, 90.43666666666667, 89.48333333333332, 89.35, 87.23, 88.69333333333333, 87.73333333333333, 88.49333333333334, 87.72999999999999, 82.57000000000001, 80.795, 80.6775, 79.78500000000001, 79.32000000000001, 79.14999999999999, 80.5975, 79.72500000000001, 78.8825, 78.1525, 74.61800000000001, 73.27, 73.496, 71.852, 71.91199999999999, 71.296, 71.574, 70.74999999999999, 70.652, 69.156]\n",
            "==================================================================================================\n"
          ]
        },
        {
          "name": "stderr",
          "output_type": "stream",
          "text": [
            "\n"
          ]
        }
      ],
      "source": [
        "# Baseline\n",
        "print(\"RUN BASELINE\")\n",
        "model = Model()\n",
        "model = model.to(device)\n",
        "optimizer = torch.optim.Adam(model.parameters(), lr=args.lr)\n",
        "\n",
        "# initialize lifelong learning object (baseline class) without adding any regularization term.\n",
        "lll_object=baseline(model=model, dataloader=None, device=device)\n",
        "lll_lambda=0.0\n",
        "baseline_acc=[]\n",
        "task_bar = trange(len(train_dataloaders),desc=\"Task   1\")\n",
        "\n",
        "# iterate training on each task continually.\n",
        "for train_indexes in task_bar:\n",
        "  # Train each task\n",
        "  model, _, acc_list = train(model, optimizer, train_dataloaders[train_indexes], args.epochs_per_task,\n",
        "                  lll_object, lll_lambda, evaluate=evaluate,device=device, test_dataloaders=test_dataloaders[:train_indexes+1])\n",
        "\n",
        "  # get model weight to baseline class and do nothing!\n",
        "  lll_object=baseline(model=model, dataloader=train_dataloaders[train_indexes],device=device)\n",
        "\n",
        "  # new a optimizer\n",
        "  optimizer = torch.optim.Adam(model.parameters(), lr=args.lr)\n",
        "\n",
        "  # Collect average accuracy in each epoch\n",
        "  baseline_acc.extend(acc_list)\n",
        "\n",
        "  # display the information of the next task.\n",
        "  task_bar.set_description_str(f\"Task  {train_indexes+2:2}\")\n",
        "\n",
        "# average accuracy in each task per epoch!\n",
        "print(baseline_acc)\n",
        "print(\"==================================================================================================\")"
      ]
    },
    {
      "attachments": {},
      "cell_type": "markdown",
      "metadata": {
        "id": "AD1sHoBcWFbK"
      },
      "source": [
        "### EWC\n",
        "\n",
        "Elastic Weight Consolidation\n",
        "\n",
        "The ewc class applied EWC algorithm to calculate the regularization term. The central concept is included in Prof.Hung-yi's lectures. Here we will focus on the algorithm of EWC.\n",
        "\n",
        "In this assignment, we want to let our model learn 10 tasks successively. Here we show a simple example that lets the model learn 2 tasks(task A and task B) successively.\n",
        "\n",
        "In the EWC algorithm, the definition of the loss function is shown below:\n",
        " $$\\mathcal{L}_B = \\mathcal{L}(\\theta) + \\sum_{i} \\frac{\\lambda}{2} F_i (\\theta_{i} - \\theta_{A,i}^{*})^2  $$\n",
        "  \n",
        "Assume we have a neural network with more than two parameters.\n",
        "\n",
        "$F_i$ corresponds to the $i^{th}$ guard in Prof. Hung-yi's lecture. Please do not modify this parameter, because it's important to task A.\n",
        "\n",
        "The definition of $F$ is shown below.\n",
        "$$ F = [ \\nabla \\log(p(y_n | x_n, \\theta_{A}^{*})) \\nabla \\log(p(y_n | x_n, \\theta_{A}^{*}))^T ] $$\n",
        "\n",
        "We only take the diagonal value of the matrix to approximate each parameter's $F_i$.\n",
        "\n",
        "The detail information and derivation are shown in 2.4.1 and 2.4 of [Continual Learning in Neural\n",
        "Networks](https://arxiv.org/pdf/1910.02718.pdf)\n",
        "\n",
        "For You Information: [Elastic Weight Consolidation](https://arxiv.org/pdf/1612.00796.pdf)"
      ]
    },
    {
      "cell_type": "code",
      "execution_count": null,
      "metadata": {
        "id": "qy-ZmOFuWFbL"
      },
      "outputs": [],
      "source": [
        "# EWC\n",
        "class ewc(object):\n",
        "  \"\"\"\n",
        "  @article{kirkpatrick2017overcoming,\n",
        "      title={Overcoming catastrophic forgetting in neural networks},\n",
        "      author={Kirkpatrick, James and Pascanu, Razvan and Rabinowitz, Neil and Veness, Joel and Desjardins, Guillaume and Rusu, Andrei A and Milan, Kieran and Quan, John and Ramalho, Tiago and Grabska-Barwinska, Agnieszka and others},\n",
        "      journal={Proceedings of the national academy of sciences},\n",
        "      year={2017},\n",
        "      url={https://arxiv.org/abs/1612.00796}\n",
        "  }\n",
        "  \"\"\"\n",
        "  def __init__(self, model, dataloader, device, prev_guards=[None]):\n",
        "    self.model = model\n",
        "    self.dataloader = dataloader\n",
        "    self.device = device\n",
        "    # extract all parameters in models\n",
        "    self.params = {n: p for n, p in self.model.named_parameters() if p.requires_grad}\n",
        "\n",
        "    # initialize parameters\n",
        "    self.p_old = {}\n",
        "    # save previous guards\n",
        "    self.previous_guards_list = prev_guards\n",
        "\n",
        "    # generate Fisher (F) matrix for EWC\n",
        "    self._precision_matrices = self._calculate_importance()\n",
        "\n",
        "    # keep the old parameter in self.p_old\n",
        "    for n, p in self.params.items():\n",
        "      self.p_old[n] = p.clone().detach()\n",
        "\n",
        "  def _calculate_importance(self):\n",
        "    precision_matrices = {}\n",
        "    # initialize Fisher (F) matrix（all fill zero）and add previous guards\n",
        "    for n, p in self.params.items():\n",
        "      precision_matrices[n] = p.clone().detach().fill_(0)\n",
        "      for i in range(len(self.previous_guards_list)):\n",
        "        if self.previous_guards_list[i]:\n",
        "          precision_matrices[n] += self.previous_guards_list[i][n]\n",
        "\n",
        "    self.model.eval()\n",
        "    if self.dataloader is not None:\n",
        "      number_data = len(self.dataloader)\n",
        "      for data in self.dataloader:\n",
        "        self.model.zero_grad()\n",
        "        # get image data\n",
        "        input = data[0].to(self.device)\n",
        "\n",
        "        # image data forward model\n",
        "        output = self.model(input)\n",
        "\n",
        "        # Simply use groud truth label of dataset.\n",
        "        label = data[1].to(self.device)\n",
        "\n",
        "        # generate Fisher(F) matrix for EWC\n",
        "        loss = F.nll_loss(F.log_softmax(output, dim=1), label)\n",
        "        loss.backward()\n",
        "\n",
        "        for n, p in self.model.named_parameters():\n",
        "          # get the gradient of each parameter and square it, then average it in all validation set.\n",
        "          precision_matrices[n].data += p.grad.data ** 2 / number_data\n",
        "\n",
        "      precision_matrices = {n: p for n, p in precision_matrices.items()}\n",
        "    return precision_matrices\n",
        "\n",
        "  def penalty(self, model: nn.Module):\n",
        "    loss = 0\n",
        "    for n, p in model.named_parameters():\n",
        "      # generate the final regularization term by the ewc weight (self._precision_matrices[n]) and the square of weight difference ((p - self.p_old[n]) ** 2).\n",
        "      _loss = self._precision_matrices[n] * (p - self.p_old[n]) ** 2\n",
        "      loss += _loss.sum()\n",
        "    return loss\n",
        "\n",
        "  def update(self, model):\n",
        "    # do nothing\n",
        "    return"
      ]
    },
    {
      "cell_type": "code",
      "execution_count": null,
      "metadata": {
        "colab": {
          "base_uri": "https://localhost:8080/"
        },
        "id": "FRIS2se1WFbL",
        "outputId": "f98dce12-e53a-45c1-ad58-22ee7ece5fa1"
      },
      "outputs": [
        {
          "name": "stdout",
          "output_type": "stream",
          "text": [
            "RUN EWC\n"
          ]
        },
        {
          "name": "stderr",
          "output_type": "stream",
          "text": [
            "Task   1:   0%|          | 0/5 [00:00<?, ?it/s]\n",
            "Epoch 1, Loss: 1.0000000:   0%|          | 0/10 [00:00<?, ?it/s]\u001b[A\n",
            "Epoch 1, Loss: 1.0000000:  10%|█         | 1/10 [00:28<04:15, 28.43s/it]\u001b[A\n",
            "Epoch 1, Loss: 1.0000000:  20%|██        | 2/10 [00:57<03:48, 28.53s/it]\u001b[A\n",
            "Epoch 1, Loss: 1.0000000:  30%|███       | 3/10 [01:25<03:19, 28.53s/it]\u001b[A\n",
            "Epoch 1, Loss: 1.0000000:  40%|████      | 4/10 [01:53<02:50, 28.49s/it]\u001b[A\n",
            "Epoch 1, Loss: 1.0000000:  50%|█████     | 5/10 [02:22<02:21, 28.38s/it]\u001b[A\n",
            "Epoch 1, Loss: 1.0000000:  60%|██████    | 6/10 [02:53<01:57, 29.38s/it]\u001b[A\n",
            "Epoch 1, Loss: 1.0000000:  70%|███████   | 7/10 [03:21<01:27, 29.01s/it]\u001b[A\n",
            "Epoch 1, Loss: 1.0000000:  80%|████████  | 8/10 [03:49<00:57, 28.74s/it]\u001b[A\n",
            "Epoch 1, Loss: 1.0000000:  90%|█████████ | 9/10 [04:18<00:28, 28.83s/it]\u001b[A\n",
            "Epoch 1, Loss: 1.0000000: 100%|██████████| 10/10 [04:47<00:00, 28.70s/it]\u001b[A\n",
            "Task   2:  20%|██        | 1/5 [05:10<20:42, 310.66s/it]\n",
            "Epoch 1, Loss: 1.0000000:   0%|          | 0/10 [00:00<?, ?it/s]\u001b[A\n",
            "Epoch 1, Loss: 1.0000000:  10%|█         | 1/10 [00:32<04:50, 32.28s/it]\u001b[A\n",
            "Epoch 1, Loss: 1.0000000:  20%|██        | 2/10 [01:04<04:17, 32.22s/it]\u001b[A\n",
            "Epoch 1, Loss: 1.0000000:  30%|███       | 3/10 [01:36<03:45, 32.18s/it]\u001b[A\n",
            "Epoch 1, Loss: 1.0000000:  40%|████      | 4/10 [02:08<03:13, 32.24s/it]\u001b[A\n",
            "Epoch 1, Loss: 1.0000000:  50%|█████     | 5/10 [02:41<02:41, 32.25s/it]\u001b[A\n",
            "Epoch 1, Loss: 1.0000000:  60%|██████    | 6/10 [03:12<02:07, 31.91s/it]\u001b[A\n",
            "Epoch 1, Loss: 1.0000000:  70%|███████   | 7/10 [03:44<01:35, 31.90s/it]\u001b[A\n",
            "Epoch 1, Loss: 1.0000000:  80%|████████  | 8/10 [04:16<01:03, 31.89s/it]\u001b[A\n",
            "Epoch 1, Loss: 1.0000000:  90%|█████████ | 9/10 [04:47<00:31, 31.73s/it]\u001b[A\n",
            "Epoch 1, Loss: 1.0000000: 100%|██████████| 10/10 [05:19<00:00, 31.82s/it]\u001b[A\n",
            "Task   3:  40%|████      | 2/5 [10:53<16:29, 329.69s/it]\n",
            "Epoch 1, Loss: 1.0000000:   0%|          | 0/10 [00:00<?, ?it/s]\u001b[A\n",
            "Epoch 1, Loss: 1.0000000:  10%|█         | 1/10 [00:35<05:21, 35.73s/it]\u001b[A\n",
            "Epoch 1, Loss: 1.0000000:  20%|██        | 2/10 [01:11<04:44, 35.62s/it]\u001b[A\n",
            "Epoch 1, Loss: 1.0000000:  30%|███       | 3/10 [01:46<04:09, 35.65s/it]\u001b[A\n",
            "Epoch 1, Loss: 1.0000000:  40%|████      | 4/10 [02:22<03:33, 35.64s/it]\u001b[A\n",
            "Epoch 1, Loss: 1.0000000:  50%|█████     | 5/10 [02:57<02:57, 35.53s/it]\u001b[A\n",
            "Epoch 1, Loss: 1.0000000:  60%|██████    | 6/10 [03:33<02:21, 35.42s/it]\u001b[A\n",
            "Epoch 1, Loss: 1.0000000:  70%|███████   | 7/10 [04:08<01:46, 35.48s/it]\u001b[A\n",
            "Epoch 1, Loss: 1.0000000:  80%|████████  | 8/10 [04:44<01:11, 35.55s/it]\u001b[A\n",
            "Epoch 1, Loss: 1.0000000:  90%|█████████ | 9/10 [05:20<00:35, 35.69s/it]\u001b[A\n",
            "Epoch 1, Loss: 1.0000000: 100%|██████████| 10/10 [05:56<00:00, 35.81s/it]\u001b[A\n",
            "Task   4:  60%|██████    | 3/5 [17:13<11:45, 352.68s/it]\n",
            "Epoch 1, Loss: 1.0000000:   0%|          | 0/10 [00:00<?, ?it/s]\u001b[A\n",
            "Epoch 1, Loss: 1.0000000:  10%|█         | 1/10 [00:40<06:00, 40.08s/it]\u001b[A\n",
            "Epoch 1, Loss: 1.0000000:  20%|██        | 2/10 [01:19<05:17, 39.70s/it]\u001b[A\n",
            "Epoch 1, Loss: 1.0000000:  30%|███       | 3/10 [01:58<04:37, 39.58s/it]\u001b[A\n",
            "Epoch 1, Loss: 1.0000000:  40%|████      | 4/10 [02:38<03:56, 39.43s/it]\u001b[A\n",
            "Epoch 1, Loss: 1.0000000:  50%|█████     | 5/10 [03:18<03:18, 39.73s/it]\u001b[A\n",
            "Epoch 1, Loss: 1.0000000:  60%|██████    | 6/10 [03:59<02:40, 40.05s/it]\u001b[A\n",
            "Epoch 1, Loss: 1.0000000:  70%|███████   | 7/10 [04:40<02:01, 40.61s/it]\u001b[A\n",
            "Epoch 1, Loss: 1.0000000:  80%|████████  | 8/10 [05:24<01:22, 41.49s/it]\u001b[A\n",
            "Epoch 1, Loss: 1.0000000:  90%|█████████ | 9/10 [06:06<00:41, 41.72s/it]\u001b[A\n",
            "Epoch 1, Loss: 1.0000000: 100%|██████████| 10/10 [06:49<00:00, 42.06s/it]\u001b[A\n",
            "Task   5:  80%|████████  | 4/5 [24:28<06:25, 385.08s/it]\n",
            "Epoch 1, Loss: 1.0000000:   0%|          | 0/10 [00:00<?, ?it/s]\u001b[A\n",
            "Epoch 1, Loss: 1.0000000:  10%|█         | 1/10 [00:46<07:01, 46.83s/it]\u001b[A\n",
            "Epoch 1, Loss: 1.0000000:  20%|██        | 2/10 [01:33<06:15, 46.91s/it]\u001b[A\n",
            "Epoch 1, Loss: 1.0000000:  30%|███       | 3/10 [02:21<05:31, 47.40s/it]\u001b[A\n",
            "Epoch 1, Loss: 1.0000000:  40%|████      | 4/10 [03:09<04:45, 47.57s/it]\u001b[A\n",
            "Epoch 1, Loss: 1.0000000:  50%|█████     | 5/10 [03:56<03:57, 47.43s/it]\u001b[A\n",
            "Epoch 1, Loss: 1.0000000:  60%|██████    | 6/10 [04:43<03:09, 47.33s/it]\u001b[A\n",
            "Epoch 1, Loss: 1.0000000:  70%|███████   | 7/10 [05:30<02:21, 47.22s/it]\u001b[A\n",
            "Epoch 1, Loss: 1.0000000:  80%|████████  | 8/10 [06:17<01:33, 46.99s/it]\u001b[A\n",
            "Epoch 1, Loss: 1.0000000:  90%|█████████ | 9/10 [07:05<00:47, 47.27s/it]\u001b[A\n",
            "Epoch 1, Loss: 1.0000000: 100%|██████████| 10/10 [07:51<00:00, 46.83s/it]\u001b[A\n",
            "Task   6: 100%|██████████| 5/5 [32:44<00:00, 392.92s/it]"
          ]
        },
        {
          "name": "stdout",
          "output_type": "stream",
          "text": [
            "[92.29, 94.59, 95.87, 96.3, 96.82, 97.05, 97.42, 97.5, 97.68, 97.8, 96.19500000000001, 95.61999999999999, 95.61, 95.77, 95.67, 95.59, 95.71000000000001, 95.34499999999998, 95.065, 94.91000000000001, 91.30666666666666, 89.34333333333333, 88.79666666666667, 88.28999999999999, 87.62333333333333, 87.62333333333333, 87.99666666666667, 87.82666666666667, 86.95, 86.98, 82.9125, 81.255, 80.16000000000001, 80.81, 78.915, 79.98, 78.75750000000001, 78.655, 79.1225, 79.75750000000001, 75.396, 74.188, 73.08, 71.738, 72.902, 72.014, 72.99, 72.01799999999999, 71.93799999999999, 71.506]\n",
            "==================================================================================================\n"
          ]
        },
        {
          "name": "stderr",
          "output_type": "stream",
          "text": [
            "\n"
          ]
        }
      ],
      "source": [
        "# EWC\n",
        "print(\"RUN EWC\")\n",
        "model = Model()\n",
        "model = model.to(device)\n",
        "# initialize optimizer\n",
        "optimizer = torch.optim.Adam(model.parameters(), lr=args.lr)\n",
        "\n",
        "# initialize lifelong learning object for EWC\n",
        "lll_object=ewc(model=model, dataloader=None, device=device)\n",
        "\n",
        "# setup the coefficient value of regularization term.\n",
        "lll_lambda=100\n",
        "ewc_acc= []\n",
        "task_bar = trange(len(train_dataloaders),desc=\"Task   1\")\n",
        "prev_guards = []\n",
        "\n",
        "# iterate training on each task continually.\n",
        "for train_indexes in task_bar:\n",
        "  # Train Each Task\n",
        "  model, _, acc_list = train(model, optimizer, train_dataloaders[train_indexes], args.epochs_per_task, lll_object, lll_lambda, evaluate=evaluate,device=device, test_dataloaders=test_dataloaders[:train_indexes+1])\n",
        "\n",
        "  # get model weight and calculate guidance for each weight\n",
        "  prev_guards.append(lll_object._precision_matrices)\n",
        "  lll_object=ewc(model=model, dataloader=train_dataloaders[train_indexes], device=device, prev_guards=prev_guards)\n",
        "\n",
        "  # new a Optimizer\n",
        "  optimizer = torch.optim.Adam(model.parameters(), lr=args.lr)\n",
        "\n",
        "  # collect average accuracy in each epoch\n",
        "  ewc_acc.extend(acc_list)\n",
        "\n",
        "  # Update tqdm displayer\n",
        "  task_bar.set_description_str(f\"Task  {train_indexes+2:2}\")\n",
        "\n",
        "# average accuracy in each task per epoch!\n",
        "print(ewc_acc)\n",
        "print(\"==================================================================================================\")"
      ]
    },
    {
      "attachments": {},
      "cell_type": "markdown",
      "metadata": {
        "id": "7OTZLwxrWFbL"
      },
      "source": [
        "### MAS\n",
        "Memory Aware Synapses\n",
        "\n",
        "The mas class applied MAS algorithm to calculate the regularization term.\n",
        "\n",
        "The concept of MAS is similar to EWC, the only difference is the calculation of the important weight.\n",
        "The details are mentioned in the following blocks.\n",
        "\n",
        "MAS:\n",
        "\n",
        "In MAS, the Loss function is shown below, the model learns task A before it learned task B.\n",
        "\n",
        "$$\\mathcal{L}_B = \\mathcal{L}(\\theta) + \\sum_{i} \\frac{\\lambda}{2} \\Omega_i (\\theta_{i} - \\theta_{A,i}^{*})^2$$\n",
        "\n",
        "Compare with EWC, the $F_i$ in the loss function is replaced with $\\Omega_i$ in the following function.\n",
        "\n",
        "$$\\Omega_i = || \\frac{\\partial \\ell_2^2(M(x_k; \\theta))}{\\partial \\theta_i} || $$\n",
        "\n",
        "$x_k$ is the sample data of the previous task. So the $\\Omega$ is obtained gradients of the squared L2-norm of the learned network output.\n",
        "\n",
        "The method proposed in the paper is the local version by taking squared L2-norm outputs from each layer of the model.\n",
        "\n",
        "Here we only want you to implement the global version by taking outputs from the last layer of the model.\n",
        "\n",
        "For Your Information:\n",
        "[Memory Aware Synapses](https://arxiv.org/pdf/1711.09601.pdf)"
      ]
    },
    {
      "cell_type": "code",
      "execution_count": null,
      "metadata": {
        "id": "kg5tuGdDWFbM"
      },
      "outputs": [],
      "source": [
        "class mas(object):\n",
        "  \"\"\"\n",
        "  @article{aljundi2017memory,\n",
        "      title={Memory Aware Synapses: Learning what (not) to forget},\n",
        "      author={Aljundi, Rahaf and Babiloni, Francesca and Elhoseiny, Mohamed and Rohrbach, Marcus and Tuytelaars, Tinne},\n",
        "      booktitle={ECCV},\n",
        "      year={2018},\n",
        "      url={https://eccv2018.org/openaccess/content_ECCV_2018/papers/Rahaf_Aljundi_Memory_Aware_Synapses_ECCV_2018_paper.pdf}\n",
        "  }\n",
        "  \"\"\"\n",
        "  def __init__(self, model: nn.Module, dataloader, device, prev_guards=[None]):\n",
        "    self.model = model\n",
        "    self.dataloader = dataloader\n",
        "    # extract all parameters in models\n",
        "    self.params = {n: p for n, p in self.model.named_parameters() if p.requires_grad}\n",
        "\n",
        "    # initialize parameters\n",
        "    self.p_old = {}\n",
        "\n",
        "    self.device = device\n",
        "\n",
        "    # save previous guards\n",
        "    self.previous_guards_list = prev_guards\n",
        "\n",
        "    # generate Omega(Ω) matrix for MAS\n",
        "    self._precision_matrices = self.calculate_importance()\n",
        "\n",
        "    # keep the old parameter in self.p_old\n",
        "    for n, p in self.params.items():\n",
        "      self.p_old[n] = p.clone().detach()\n",
        "\n",
        "  def calculate_importance(self):\n",
        "    precision_matrices = {}\n",
        "    # initialize Omega(Ω) matrix（all filled zero）\n",
        "    for n, p in self.params.items():\n",
        "      precision_matrices[n] = p.clone().detach().fill_(0)\n",
        "      for i in range(len(self.previous_guards_list)):\n",
        "        if self.previous_guards_list[i]:\n",
        "          precision_matrices[n] += self.previous_guards_list[i][n]\n",
        "\n",
        "    self.model.eval()\n",
        "    if self.dataloader is not None:\n",
        "      num_data = len(self.dataloader)\n",
        "      for data in self.dataloader:\n",
        "        self.model.zero_grad()\n",
        "        output = self.model(data[0].to(self.device))\n",
        "        ################################################################\n",
        "        #####  TODO: generate Omega(Ω) matrix for MAS.  #####\n",
        "        loss = output.norm(p='fro', dim=1).pow(2).mean()    # L2-norm(Frobenius norm)\n",
        "        loss.backward()                                     # Backpropagate\n",
        "        for n, p in self.model.named_parameters():\n",
        "            # get the gradient of each parameter and absolute it, then average it in all validation set.\n",
        "            precision_matrices[n].data += p.grad.data.abs() / num_data\n",
        "        ################################################################\n",
        "        ################################################################\n",
        "\n",
        "      precision_matrices = {n: p for n, p in precision_matrices.items()}\n",
        "    return precision_matrices\n",
        "\n",
        "  def penalty(self, model: nn.Module):\n",
        "    loss = 0\n",
        "    for n, p in model.named_parameters():\n",
        "      _loss = self._precision_matrices[n] * (p - self.p_old[n]) ** 2\n",
        "      loss += _loss.sum()\n",
        "    return loss\n",
        "\n",
        "  def update(self, model):\n",
        "    # do nothing\n",
        "    return"
      ]
    },
    {
      "cell_type": "code",
      "execution_count": null,
      "metadata": {
        "colab": {
          "base_uri": "https://localhost:8080/"
        },
        "id": "p0d1DUBqWFbM",
        "outputId": "e7529847-bddd-477a-ea14-105ea9eaf0a5"
      },
      "outputs": [
        {
          "name": "stdout",
          "output_type": "stream",
          "text": [
            "RUN MAS\n"
          ]
        },
        {
          "name": "stderr",
          "output_type": "stream",
          "text": [
            "Task   1:   0%|          | 0/5 [00:00<?, ?it/s]\n",
            "Epoch 1, Loss: 1.0000000:   0%|          | 0/10 [00:00<?, ?it/s]\u001b[A\n",
            "Epoch 1, Loss: 1.0000000:  10%|█         | 1/10 [00:29<04:28, 29.79s/it]\u001b[A\n",
            "Epoch 1, Loss: 1.0000000:  20%|██        | 2/10 [00:58<03:55, 29.41s/it]\u001b[A\n",
            "Epoch 1, Loss: 1.0000000:  30%|███       | 3/10 [01:28<03:26, 29.57s/it]\u001b[A\n",
            "Epoch 1, Loss: 1.0000000:  40%|████      | 4/10 [01:57<02:55, 29.28s/it]\u001b[A\n",
            "Epoch 1, Loss: 1.0000000:  50%|█████     | 5/10 [02:26<02:25, 29.07s/it]\u001b[A\n",
            "Epoch 1, Loss: 1.0000000:  60%|██████    | 6/10 [02:55<01:56, 29.04s/it]\u001b[A\n",
            "Epoch 1, Loss: 1.0000000:  70%|███████   | 7/10 [03:23<01:26, 28.86s/it]\u001b[A\n",
            "Epoch 1, Loss: 1.0000000:  80%|████████  | 8/10 [03:53<00:58, 29.11s/it]\u001b[A\n",
            "Epoch 1, Loss: 1.0000000:  90%|█████████ | 9/10 [04:22<00:29, 29.03s/it]\u001b[A\n",
            "Epoch 1, Loss: 1.0000000: 100%|██████████| 10/10 [04:51<00:00, 29.09s/it]\u001b[A\n",
            "Task   2:  20%|██        | 1/5 [05:15<21:03, 315.94s/it]\n",
            "Epoch 1, Loss: 1.0000000:   0%|          | 0/10 [00:00<?, ?it/s]\u001b[A\n",
            "Epoch 1, Loss: 1.0000000:  10%|█         | 1/10 [00:33<05:00, 33.37s/it]\u001b[A\n",
            "Epoch 1, Loss: 1.0000000:  20%|██        | 2/10 [01:06<04:27, 33.45s/it]\u001b[A\n",
            "Epoch 1, Loss: 1.0000000:  30%|███       | 3/10 [01:40<03:55, 33.70s/it]\u001b[A\n",
            "Epoch 1, Loss: 1.0000000:  40%|████      | 4/10 [02:14<03:21, 33.60s/it]\u001b[A\n",
            "Epoch 1, Loss: 1.0000000:  50%|█████     | 5/10 [02:47<02:48, 33.61s/it]\u001b[A\n",
            "Epoch 1, Loss: 1.0000000:  60%|██████    | 6/10 [03:21<02:14, 33.63s/it]\u001b[A\n",
            "Epoch 1, Loss: 1.0000000:  70%|███████   | 7/10 [03:55<01:41, 33.81s/it]\u001b[A\n",
            "Epoch 1, Loss: 1.0000000:  80%|████████  | 8/10 [04:28<01:07, 33.60s/it]\u001b[A\n",
            "Epoch 1, Loss: 1.0000000:  90%|█████████ | 9/10 [05:02<00:33, 33.69s/it]\u001b[A\n",
            "Epoch 1, Loss: 1.0000000: 100%|██████████| 10/10 [05:36<00:00, 33.68s/it]\u001b[A\n",
            "Task   3:  40%|████      | 2/5 [11:16<17:07, 342.47s/it]\n",
            "Epoch 1, Loss: 1.0000000:   0%|          | 0/10 [00:00<?, ?it/s]\u001b[A\n",
            "Epoch 1, Loss: 1.0000000:  10%|█         | 1/10 [00:38<05:49, 38.83s/it]\u001b[A\n",
            "Epoch 1, Loss: 1.0000000:  20%|██        | 2/10 [01:16<05:06, 38.29s/it]\u001b[A\n",
            "Epoch 1, Loss: 1.0000000:  30%|███       | 3/10 [01:54<04:25, 37.88s/it]\u001b[A\n",
            "Epoch 1, Loss: 1.0000000:  40%|████      | 4/10 [02:31<03:46, 37.79s/it]\u001b[A\n",
            "Epoch 1, Loss: 1.0000000:  50%|█████     | 5/10 [03:09<03:08, 37.75s/it]\u001b[A\n",
            "Epoch 1, Loss: 1.0000000:  60%|██████    | 6/10 [03:47<02:30, 37.75s/it]\u001b[A\n",
            "Epoch 1, Loss: 1.0000000:  70%|███████   | 7/10 [04:24<01:53, 37.67s/it]\u001b[A\n",
            "Epoch 1, Loss: 1.0000000:  80%|████████  | 8/10 [05:02<01:15, 37.60s/it]\u001b[A\n",
            "Epoch 1, Loss: 1.0000000:  90%|█████████ | 9/10 [05:39<00:37, 37.47s/it]\u001b[A\n",
            "Epoch 1, Loss: 1.0000000: 100%|██████████| 10/10 [06:16<00:00, 37.42s/it]\u001b[A\n",
            "Task   4:  60%|██████    | 3/5 [17:58<12:18, 369.42s/it]\n",
            "Epoch 1, Loss: 1.0000000:   0%|          | 0/10 [00:00<?, ?it/s]\u001b[A\n",
            "Epoch 1, Loss: 1.0000000:  10%|█         | 1/10 [00:40<06:07, 40.80s/it]\u001b[A\n",
            "Epoch 1, Loss: 1.0000000:  20%|██        | 2/10 [01:22<05:29, 41.23s/it]\u001b[A\n",
            "Epoch 1, Loss: 1.0000000:  30%|███       | 3/10 [02:03<04:47, 41.13s/it]\u001b[A\n",
            "Epoch 1, Loss: 1.0000000:  40%|████      | 4/10 [02:44<04:06, 41.08s/it]\u001b[A\n",
            "Epoch 1, Loss: 1.0000000:  50%|█████     | 5/10 [03:25<03:25, 41.19s/it]\u001b[A\n",
            "Epoch 1, Loss: 1.0000000:  60%|██████    | 6/10 [04:06<02:43, 40.97s/it]\u001b[A\n",
            "Epoch 1, Loss: 1.0000000:  70%|███████   | 7/10 [04:47<02:03, 41.11s/it]\u001b[A\n",
            "Epoch 1, Loss: 1.0000000:  80%|████████  | 8/10 [05:28<01:22, 41.17s/it]\u001b[A\n",
            "Epoch 1, Loss: 1.0000000:  90%|█████████ | 9/10 [06:10<00:41, 41.17s/it]\u001b[A\n",
            "Epoch 1, Loss: 1.0000000: 100%|██████████| 10/10 [06:51<00:00, 41.26s/it]\u001b[A\n",
            "Task   5:  80%|████████  | 4/5 [25:14<06:35, 395.72s/it]\n",
            "Epoch 1, Loss: 1.0000000:   0%|          | 0/10 [00:00<?, ?it/s]\u001b[A\n",
            "Epoch 1, Loss: 1.0000000:  10%|█         | 1/10 [00:44<06:43, 44.81s/it]\u001b[A\n",
            "Epoch 1, Loss: 1.0000000:  20%|██        | 2/10 [01:30<06:01, 45.13s/it]\u001b[A\n",
            "Epoch 1, Loss: 1.0000000:  30%|███       | 3/10 [02:15<05:17, 45.30s/it]\u001b[A\n",
            "Epoch 1, Loss: 1.0000000:  40%|████      | 4/10 [03:01<04:32, 45.35s/it]\u001b[A\n",
            "Epoch 1, Loss: 1.0000000:  50%|█████     | 5/10 [03:46<03:46, 45.34s/it]\u001b[A\n",
            "Epoch 1, Loss: 1.0000000:  60%|██████    | 6/10 [04:31<03:00, 45.20s/it]\u001b[A\n",
            "Epoch 1, Loss: 1.0000000:  70%|███████   | 7/10 [05:16<02:15, 45.20s/it]\u001b[A\n",
            "Epoch 1, Loss: 1.0000000:  80%|████████  | 8/10 [06:01<01:30, 45.05s/it]\u001b[A\n",
            "Epoch 1, Loss: 1.0000000:  90%|█████████ | 9/10 [06:46<00:45, 45.24s/it]\u001b[A\n",
            "Epoch 1, Loss: 1.0000000: 100%|██████████| 10/10 [07:33<00:00, 45.57s/it]\u001b[A\n",
            "Task   6: 100%|██████████| 5/5 [33:12<00:00, 398.48s/it]"
          ]
        },
        {
          "name": "stdout",
          "output_type": "stream",
          "text": [
            "[92.38, 94.55, 95.35, 96.28999999999999, 96.93, 97.00999999999999, 97.36, 97.54, 97.75, 97.82, 95.755, 95.93499999999999, 96.39500000000001, 95.32000000000001, 96.12, 95.98, 96.145, 96.095, 96.24, 95.92, 91.97000000000001, 92.90666666666668, 92.97666666666666, 92.51333333333332, 92.67666666666666, 92.72333333333333, 91.96, 92.55666666666667, 92.49666666666666, 92.84666666666666, 88.08, 87.5725, 87.49749999999999, 86.9075, 87.4825, 87.7875, 86.89750000000001, 86.67750000000001, 86.53999999999999, 87.6, 82.112, 79.752, 81.75399999999999, 80.912, 81.05799999999999, 78.97, 79.176, 78.92, 77.94, 77.59]\n",
            "==================================================================================================\n"
          ]
        },
        {
          "name": "stderr",
          "output_type": "stream",
          "text": [
            "\n"
          ]
        }
      ],
      "source": [
        "# MAS\n",
        "print(\"RUN MAS\")\n",
        "model = Model()\n",
        "model = model.to(device)\n",
        "optimizer = torch.optim.Adam(model.parameters(), lr=args.lr)\n",
        "\n",
        "lll_object=mas(model=model, dataloader=None, device=device)\n",
        "lll_lambda=0.1\n",
        "mas_acc= []\n",
        "task_bar = trange(len(train_dataloaders),desc=\"Task   1\")\n",
        "prev_guards = []\n",
        "\n",
        "for train_indexes in task_bar:\n",
        "  # Train Each Task\n",
        "  model, _, acc_list = train(model, optimizer, train_dataloaders[train_indexes], args.epochs_per_task, lll_object, lll_lambda, evaluate=evaluate,device=device, test_dataloaders=test_dataloaders[:train_indexes+1])\n",
        "\n",
        "  # get model weight and calculate guidance for each weight\n",
        "  prev_guards.append(lll_object._precision_matrices)\n",
        "  lll_object=mas(model=model, dataloader=train_dataloaders[train_indexes], device=device, prev_guards=prev_guards)\n",
        "\n",
        "  # New a Optimizer\n",
        "  optimizer = torch.optim.Adam(model.parameters(), lr=args.lr)\n",
        "\n",
        "  # Collect average accuracy in each epoch\n",
        "  mas_acc.extend(acc_list)\n",
        "  task_bar.set_description_str(f\"Task  {train_indexes+2:2}\")\n",
        "\n",
        "# average accuracy in each task per epoch!\n",
        "print(mas_acc)\n",
        "print(\"==================================================================================================\")"
      ]
    },
    {
      "attachments": {},
      "cell_type": "markdown",
      "metadata": {
        "id": "YXgF4OXtWFbM"
      },
      "source": [
        "### SI\n",
        "The si class applied SI (Synaptic Intelligence) algorithm to calculate the regularization term."
      ]
    },
    {
      "cell_type": "code",
      "execution_count": null,
      "metadata": {
        "id": "BBb0NwlNWFbM"
      },
      "outputs": [],
      "source": [
        "# SI\n",
        "class si(object):\n",
        "  \"\"\"\n",
        "  @article{kirkpatrick2017overcoming,\n",
        "      title={Overcoming catastrophic forgetting in neural networks},\n",
        "      author={Kirkpatrick, James and Pascanu, Razvan and Rabinowitz, Neil and Veness, Joel and Desjardins, Guillaume and Rusu, Andrei A and Milan, Kieran and Quan, John and Ramalho, Tiago and Grabska-Barwinska, Agnieszka and others},\n",
        "      journal={Proceedings of the national academy of sciences},\n",
        "      year={2017},\n",
        "      url={https://arxiv.org/abs/1612.00796}\n",
        "  }\n",
        "  \"\"\"\n",
        "  def __init__(self, model, dataloader, epsilon, device):\n",
        "    self.model = model\n",
        "    self.dataloader = dataloader\n",
        "    self.device = device\n",
        "    self.epsilon = epsilon\n",
        "    # extract all parameters in models\n",
        "    self.params = {n: p for n, p in self.model.named_parameters() if p.requires_grad}\n",
        "\n",
        "    self._n_p_prev, self._n_omega = self._calculate_importance()\n",
        "    self.W, self.p_old = self._init_()\n",
        "\n",
        "\n",
        "  def _init_(self):\n",
        "    W = {}\n",
        "    p_old = {}\n",
        "    for n, p in self.model.named_parameters():\n",
        "      n = n.replace('.', '__')\n",
        "      if p.requires_grad:\n",
        "        W[n] = p.data.clone().zero_()\n",
        "        p_old[n] = p.data.clone()\n",
        "    return W, p_old\n",
        "\n",
        "  def _calculate_importance(self):\n",
        "    n_p_prev = {}\n",
        "    n_omega = {}\n",
        "\n",
        "    if self.dataloader != None:\n",
        "      for n, p in self.model.named_parameters():\n",
        "        n = n.replace('.', '__')\n",
        "        if p.requires_grad:\n",
        "          # Find/calculate new values for quadratic penalty on parameters\n",
        "          p_prev = getattr(self.model, '{}_SI_prev_task'.format(n))\n",
        "          W = getattr(self.model, '{}_W'.format(n))\n",
        "          p_current = p.detach().clone()\n",
        "          p_change = p_current - p_prev\n",
        "          omega_add = W/(p_change**2 + self.epsilon)\n",
        "          try:\n",
        "            omega = getattr(self.model, '{}_SI_omega'.format(n))\n",
        "          except AttributeError:\n",
        "            omega = p.detach().clone().zero_()\n",
        "          omega_new = omega + omega_add\n",
        "          n_omega[n] = omega_new\n",
        "          n_p_prev[n] = p_current\n",
        "\n",
        "          # Store these new values in the model\n",
        "          self.model.register_buffer('{}_SI_prev_task'.format(n), p_current)\n",
        "          self.model.register_buffer('{}_SI_omega'.format(n), omega_new)\n",
        "\n",
        "    else:\n",
        "      for n, p in self.model.named_parameters():\n",
        "        n = n.replace('.', '__')\n",
        "        if p.requires_grad:\n",
        "          n_p_prev[n] = p.detach().clone()\n",
        "          n_omega[n] = p.detach().clone().zero_()\n",
        "          self.model.register_buffer('{}_SI_prev_task'.format(n), p.detach().clone())\n",
        "    return n_p_prev, n_omega\n",
        "\n",
        "  def penalty(self, model: nn.Module):\n",
        "    loss = 0.0\n",
        "    for n, p in model.named_parameters():\n",
        "      n = n.replace('.', '__')\n",
        "      if p.requires_grad:\n",
        "        prev_values = self._n_p_prev[n]\n",
        "        omega = self._n_omega[n]\n",
        "        _loss = omega * (p - prev_values) ** 2\n",
        "        loss += _loss.sum()\n",
        "    return loss\n",
        "\n",
        "  def update(self, model):\n",
        "    for n, p in model.named_parameters():\n",
        "      n = n.replace('.', '__')\n",
        "      if p.requires_grad:\n",
        "        if p.grad is not None:\n",
        "          self.W[n].add_(-p.grad * (p.detach() - self.p_old[n]))\n",
        "          self.model.register_buffer('{}_W'.format(n), self.W[n])\n",
        "        self.p_old[n] = p.detach().clone()\n",
        "    return"
      ]
    },
    {
      "cell_type": "code",
      "execution_count": null,
      "metadata": {
        "colab": {
          "base_uri": "https://localhost:8080/"
        },
        "id": "cdYo8wuPWFbM",
        "outputId": "13cbec9a-671b-4b82-a0bb-8bae68b30190"
      },
      "outputs": [
        {
          "name": "stdout",
          "output_type": "stream",
          "text": [
            "RUN SI\n"
          ]
        },
        {
          "name": "stderr",
          "output_type": "stream",
          "text": [
            "Task   1:   0%|          | 0/5 [00:00<?, ?it/s]\n",
            "Epoch 1, Loss: 1.0000000:   0%|          | 0/10 [00:00<?, ?it/s]\u001b[A\n",
            "Epoch 1, Loss: 1.0000000:  10%|█         | 1/10 [00:29<04:25, 29.46s/it]\u001b[A\n",
            "Epoch 1, Loss: 1.0000000:  20%|██        | 2/10 [00:59<03:58, 29.82s/it]\u001b[A\n",
            "Epoch 1, Loss: 1.0000000:  30%|███       | 3/10 [01:28<03:26, 29.55s/it]\u001b[A\n",
            "Epoch 1, Loss: 1.0000000:  40%|████      | 4/10 [01:58<02:58, 29.70s/it]\u001b[A\n",
            "Epoch 1, Loss: 1.0000000:  50%|█████     | 5/10 [02:28<02:27, 29.57s/it]\u001b[A\n",
            "Epoch 1, Loss: 1.0000000:  60%|██████    | 6/10 [02:58<01:58, 29.71s/it]\u001b[A\n",
            "Epoch 1, Loss: 1.0000000:  70%|███████   | 7/10 [03:28<01:29, 29.83s/it]\u001b[A\n",
            "Epoch 1, Loss: 1.0000000:  80%|████████  | 8/10 [03:57<00:59, 29.68s/it]\u001b[A\n",
            "Epoch 1, Loss: 1.0000000:  90%|█████████ | 9/10 [04:27<00:29, 29.89s/it]\u001b[A\n",
            "Epoch 1, Loss: 1.0000000: 100%|██████████| 10/10 [04:57<00:00, 29.77s/it]\u001b[A\n",
            "Task   2:  20%|██        | 1/5 [04:57<19:49, 297.31s/it]\n",
            "Epoch 1, Loss: 1.0000000:   0%|          | 0/10 [00:00<?, ?it/s]\u001b[A\n",
            "Epoch 1, Loss: 1.0000000:  10%|█         | 1/10 [00:34<05:07, 34.14s/it]\u001b[A\n",
            "Epoch 1, Loss: 1.0000000:  20%|██        | 2/10 [01:08<04:32, 34.07s/it]\u001b[A\n",
            "Epoch 1, Loss: 1.0000000:  30%|███       | 3/10 [01:41<03:56, 33.78s/it]\u001b[A\n",
            "Epoch 1, Loss: 1.0000000:  40%|████      | 4/10 [02:14<03:21, 33.56s/it]\u001b[A\n",
            "Epoch 1, Loss: 1.0000000:  50%|█████     | 5/10 [02:48<02:48, 33.67s/it]\u001b[A\n",
            "Epoch 1, Loss: 1.0000000:  60%|██████    | 6/10 [03:22<02:14, 33.59s/it]\u001b[A\n",
            "Epoch 1, Loss: 1.0000000:  70%|███████   | 7/10 [03:56<01:41, 33.69s/it]\u001b[A\n",
            "Epoch 1, Loss: 1.0000000:  80%|████████  | 8/10 [04:29<01:07, 33.57s/it]\u001b[A\n",
            "Epoch 1, Loss: 1.0000000:  90%|█████████ | 9/10 [05:03<00:33, 33.67s/it]\u001b[A\n",
            "Epoch 1, Loss: 1.0000000: 100%|██████████| 10/10 [05:37<00:00, 33.75s/it]\u001b[A\n",
            "Task   3:  40%|████      | 2/5 [10:34<16:02, 320.75s/it]\n",
            "Epoch 1, Loss: 1.0000000:   0%|          | 0/10 [00:00<?, ?it/s]\u001b[A\n",
            "Epoch 1, Loss: 1.0000000:  10%|█         | 1/10 [00:37<05:36, 37.40s/it]\u001b[A\n",
            "Epoch 1, Loss: 1.0000000:  20%|██        | 2/10 [01:15<05:00, 37.60s/it]\u001b[A\n",
            "Epoch 1, Loss: 1.0000000:  30%|███       | 3/10 [01:52<04:23, 37.61s/it]\u001b[A\n",
            "Epoch 1, Loss: 1.0000000:  40%|████      | 4/10 [02:30<03:45, 37.61s/it]\u001b[A\n",
            "Epoch 1, Loss: 1.0000000:  50%|█████     | 5/10 [03:08<03:08, 37.74s/it]\u001b[A\n",
            "Epoch 1, Loss: 1.0000000:  60%|██████    | 6/10 [03:45<02:30, 37.68s/it]\u001b[A\n",
            "Epoch 1, Loss: 1.0000000:  70%|███████   | 7/10 [04:24<01:53, 37.83s/it]\u001b[A\n",
            "Epoch 1, Loss: 1.0000000:  80%|████████  | 8/10 [05:00<01:15, 37.52s/it]\u001b[A\n",
            "Epoch 1, Loss: 1.0000000:  90%|█████████ | 9/10 [05:37<00:37, 37.37s/it]\u001b[A\n",
            "Epoch 1, Loss: 1.0000000: 100%|██████████| 10/10 [06:14<00:00, 37.27s/it]\u001b[A\n",
            "Task   4:  60%|██████    | 3/5 [16:49<11:31, 345.53s/it]\n",
            "Epoch 1, Loss: 1.0000000:   0%|          | 0/10 [00:00<?, ?it/s]\u001b[A\n",
            "Epoch 1, Loss: 1.0000000:  10%|█         | 1/10 [00:40<06:06, 40.69s/it]\u001b[A\n",
            "Epoch 1, Loss: 1.0000000:  20%|██        | 2/10 [01:21<05:26, 40.83s/it]\u001b[A\n",
            "Epoch 1, Loss: 1.0000000:  30%|███       | 3/10 [02:02<04:47, 41.05s/it]\u001b[A\n",
            "Epoch 1, Loss: 1.0000000:  40%|████      | 4/10 [02:43<04:05, 40.85s/it]\u001b[A\n",
            "Epoch 1, Loss: 1.0000000:  50%|█████     | 5/10 [03:24<03:24, 40.95s/it]\u001b[A\n",
            "Epoch 1, Loss: 1.0000000:  60%|██████    | 6/10 [04:05<02:43, 40.96s/it]\u001b[A\n",
            "Epoch 1, Loss: 1.0000000:  70%|███████   | 7/10 [04:46<02:03, 41.05s/it]\u001b[A\n",
            "Epoch 1, Loss: 1.0000000:  80%|████████  | 8/10 [05:28<01:22, 41.33s/it]\u001b[A\n",
            "Epoch 1, Loss: 1.0000000:  90%|█████████ | 9/10 [06:10<00:41, 41.38s/it]\u001b[A\n",
            "Epoch 1, Loss: 1.0000000: 100%|██████████| 10/10 [06:52<00:00, 41.61s/it]\u001b[A\n",
            "Task   5:  80%|████████  | 4/5 [23:41<06:11, 371.92s/it]\n",
            "Epoch 1, Loss: 1.0000000:   0%|          | 0/10 [00:00<?, ?it/s]\u001b[A\n",
            "Epoch 1, Loss: 1.0000000:  10%|█         | 1/10 [00:44<06:42, 44.77s/it]\u001b[A\n",
            "Epoch 1, Loss: 1.0000000:  20%|██        | 2/10 [01:30<06:01, 45.15s/it]\u001b[A\n",
            "Epoch 1, Loss: 1.0000000:  30%|███       | 3/10 [02:15<05:17, 45.34s/it]\u001b[A\n",
            "Epoch 1, Loss: 1.0000000:  40%|████      | 4/10 [03:00<04:30, 45.13s/it]\u001b[A\n",
            "Epoch 1, Loss: 1.0000000:  50%|█████     | 5/10 [03:46<03:46, 45.33s/it]\u001b[A\n",
            "Epoch 1, Loss: 1.0000000:  60%|██████    | 6/10 [04:32<03:02, 45.53s/it]\u001b[A\n",
            "Epoch 1, Loss: 1.0000000:  70%|███████   | 7/10 [05:18<02:16, 45.66s/it]\u001b[A\n",
            "Epoch 1, Loss: 1.0000000:  80%|████████  | 8/10 [06:03<01:30, 45.43s/it]\u001b[A\n",
            "Epoch 1, Loss: 1.0000000:  90%|█████████ | 9/10 [06:48<00:45, 45.44s/it]\u001b[A\n",
            "Epoch 1, Loss: 1.0000000: 100%|██████████| 10/10 [07:33<00:00, 45.38s/it]\u001b[A\n",
            "Task   6: 100%|██████████| 5/5 [31:15<00:00, 375.12s/it]"
          ]
        },
        {
          "name": "stdout",
          "output_type": "stream",
          "text": [
            "[92.72, 94.17999999999999, 95.72, 96.27, 96.91, 97.04, 97.15, 97.6, 97.72, 97.86, 95.63, 95.565, 94.795, 95.685, 95.44500000000001, 95.11, 95.665, 96.08, 95.24000000000001, 95.28, 90.58666666666667, 89.14, 89.17999999999999, 89.45, 89.04333333333334, 88.98666666666666, 90.07333333333332, 88.01333333333334, 89.48333333333332, 89.49666666666666, 83.5375, 82.2525, 82.9175, 81.5375, 80.84, 82.4175, 81.1825, 82.565, 81.09249999999999, 81.8875, 76.73, 74.71799999999999, 74.02, 74.31, 74.726, 73.13000000000001, 73.19600000000001, 73.458, 73.676, 73.94200000000001]\n",
            "==================================================================================================\n"
          ]
        },
        {
          "name": "stderr",
          "output_type": "stream",
          "text": [
            "\n"
          ]
        }
      ],
      "source": [
        "# SI\n",
        "print(\"RUN SI\")\n",
        "model = Model()\n",
        "model = model.to(device)\n",
        "optimizer = torch.optim.Adam(model.parameters(), lr=args.lr)\n",
        "\n",
        "lll_object=si(model=model, dataloader=None, epsilon=0.1, device=device)\n",
        "lll_lambda=1\n",
        "si_acc = []\n",
        "task_bar = trange(len(train_dataloaders),desc=\"Task   1\")\n",
        "\n",
        "for train_indexes in task_bar:\n",
        "  # Train Each Task\n",
        "  model, _, acc_list = train(model, optimizer, train_dataloaders[train_indexes], args.epochs_per_task, lll_object, lll_lambda, evaluate=evaluate,device=device, test_dataloaders=test_dataloaders[:train_indexes+1])\n",
        "\n",
        "  # get model weight and calculate guidance for each weight\n",
        "  lll_object=si(model=model, dataloader=train_dataloaders[train_indexes], epsilon=0.1, device=device)\n",
        "\n",
        "  # New a Optimizer\n",
        "  optimizer = torch.optim.Adam(model.parameters(), lr=args.lr)\n",
        "\n",
        "  # Collect average accuracy in each epoch\n",
        "  si_acc.extend(acc_list)\n",
        "  task_bar.set_description_str(f\"Task  {train_indexes+2:2}\")\n",
        "\n",
        "# average accuracy in each task per epoch!\n",
        "print(si_acc)\n",
        "print(\"==================================================================================================\")"
      ]
    },
    {
      "attachments": {},
      "cell_type": "markdown",
      "metadata": {
        "id": "uObzNbO2WFbN"
      },
      "source": [
        "### RWalk\n",
        "\n",
        "#### Remanian Walk for Incremental Learning\n",
        "\n",
        "The rwalk class applied Remanian Walk algorithm to calculate the regularization term.\n",
        "\n",
        "The details are mentioned in the following blocks."
      ]
    },
    {
      "cell_type": "code",
      "execution_count": null,
      "metadata": {
        "id": "Cbz6IwNpWFbN"
      },
      "outputs": [],
      "source": [
        "class rwalk(object):\n",
        "  def __init__(self, model, dataloader, epsilon, device, prev_guards=[None]):\n",
        "    self.model = model\n",
        "    self.dataloader = dataloader\n",
        "    self.device = device\n",
        "    self.epsilon = epsilon\n",
        "    self.update_ewc_parameter = 0.4\n",
        "    # extract model parameters and store in dictionary\n",
        "    self.params = {n: p for n, p in self.model.named_parameters() if p.requires_grad}\n",
        "\n",
        "    # initialize the guidance matrix\n",
        "    self._means = {}\n",
        "\n",
        "    self.previous_guards_list = prev_guards\n",
        "\n",
        "    # Generate Fisher (F) Information Matrix\n",
        "    self._precision_matrices = self._calculate_importance_ewc()\n",
        "\n",
        "    self._n_p_prev, self._n_omega = self._calculate_importance()\n",
        "    self.W, self.p_old = self._init_()\n",
        "\n",
        "  def _init_(self):\n",
        "    W = {}\n",
        "    p_old = {}\n",
        "    for n, p in self.model.named_parameters():\n",
        "      n = n.replace('.', '__')\n",
        "      if p.requires_grad:\n",
        "        W[n] = p.data.clone().zero_()\n",
        "        p_old[n] = p.data.clone()\n",
        "    return W, p_old\n",
        "\n",
        "  def _calculate_importance(self):\n",
        "    n_p_prev = {}\n",
        "    n_omega = {}\n",
        "\n",
        "    if self.dataloader is not None:\n",
        "      for n, p in self.model.named_parameters():\n",
        "        n = n.replace('.', '__')\n",
        "        if p.requires_grad:\n",
        "          # Find/calculate new values for quadratic penalty on parameters\n",
        "          p_prev = getattr(self.model, '{}_SI_prev_task'.format(n))\n",
        "          W = getattr(self.model, '{}_W'.format(n))\n",
        "          p_current = p.detach().clone()\n",
        "          p_change = p_current - p_prev\n",
        "          omega_add = W / (1.0 / 2.0*self._precision_matrices[n] *p_change**2 + self.epsilon)\n",
        "          try:\n",
        "              omega = getattr(self.model, '{}_SI_omega'.format(n))\n",
        "          except AttributeError:\n",
        "              omega = p.detach().clone().zero_()\n",
        "          omega_new = 0.5 * omega + 0.5 *omega_add\n",
        "          n_omega[n] = omega_new\n",
        "          n_p_prev[n] = p_current\n",
        "\n",
        "          # Store these new values in the model\n",
        "          self.model.register_buffer('{}_SI_prev_task'.format(n), p_current)\n",
        "          self.model.register_buffer('{}_SI_omega'.format(n), omega_new)\n",
        "\n",
        "    else:\n",
        "      for n, p in self.model.named_parameters():\n",
        "        n = n.replace('.', '__')\n",
        "        if p.requires_grad:\n",
        "          n_p_prev[n] = p.detach().clone()\n",
        "          n_omega[n] = p.detach().clone().zero_()\n",
        "          self.model.register_buffer('{}_SI_prev_task'.format(n), p.detach().clone())\n",
        "    return n_p_prev, n_omega\n",
        "\n",
        "  def _calculate_importance_ewc(self):\n",
        "    precision_matrices = {}\n",
        "    for n, p in self.params.items():\n",
        "      # initialize Fisher (F) matrix（all fill zero）\n",
        "      n = n.replace('.', '__')\n",
        "      precision_matrices[n] = p.clone().detach().fill_(0)\n",
        "      for i in range(len(self.previous_guards_list)):\n",
        "        if self.previous_guards_list[i]:\n",
        "          precision_matrices[n] += self.previous_guards_list[i][n]\n",
        "\n",
        "\n",
        "    self.model.eval()\n",
        "    if self.dataloader is not None:\n",
        "      number_data = len(self.dataloader)\n",
        "      for n, p in self.model.named_parameters():\n",
        "        n = n.replace('.', '__')\n",
        "        precision_matrices[n].data *= (1 - self.update_ewc_parameter)\n",
        "      for data in self.dataloader:\n",
        "        self.model.zero_grad()\n",
        "        input = data[0].to(self.device)\n",
        "        output = self.model(input)\n",
        "        label = data[1].to(self.device)\n",
        "\n",
        "        # generate Fisher(F) matrix for RWALK\n",
        "        loss = F.nll_loss(F.log_softmax(output, dim=1), label)\n",
        "        loss.backward()\n",
        "\n",
        "        for n, p in self.model.named_parameters():\n",
        "          n = n.replace('.', '__')\n",
        "          precision_matrices[n].data += self.update_ewc_parameter*p.grad.data ** 2 / number_data\n",
        "\n",
        "      precision_matrices = {n: p for n, p in precision_matrices.items()}\n",
        "    return precision_matrices\n",
        "\n",
        "  def penalty(self, model: nn.Module):\n",
        "    loss = 0.0\n",
        "    for n, p in model.named_parameters():\n",
        "      n = n.replace('.', '__')\n",
        "      if p.requires_grad:\n",
        "        prev_values = self._n_p_prev[n]\n",
        "        omega = self._n_omega[n]\n",
        "        # Generate regularization term  _loss by omega and Fisher Matrix\n",
        "        _loss = (omega + self._precision_matrices[n]) * (p - prev_values) ** 2\n",
        "        loss += _loss.sum()\n",
        "\n",
        "    return loss\n",
        "\n",
        "  def update(self, model):\n",
        "    for n, p in model.named_parameters():\n",
        "      n = n.replace('.', '__')\n",
        "      if p.requires_grad:\n",
        "        if p.grad is not None:\n",
        "          self.W[n].add_(-p.grad * (p.detach() - self.p_old[n]))\n",
        "          self.model.register_buffer('{}_W'.format(n), self.W[n])\n",
        "        self.p_old[n] = p.detach().clone()\n",
        "    return"
      ]
    },
    {
      "cell_type": "code",
      "execution_count": null,
      "metadata": {
        "colab": {
          "base_uri": "https://localhost:8080/"
        },
        "id": "QrsbxyDQWFbN",
        "outputId": "476bb9c8-8337-499c-fc7f-5c2fae3fa930"
      },
      "outputs": [
        {
          "name": "stdout",
          "output_type": "stream",
          "text": [
            "RUN Rwalk\n"
          ]
        },
        {
          "name": "stderr",
          "output_type": "stream",
          "text": [
            "Task   1:   0%|          | 0/5 [00:00<?, ?it/s]\n",
            "Epoch 1, Loss: 1.0000000:   0%|          | 0/10 [00:00<?, ?it/s]\u001b[A\n",
            "Epoch 1, Loss: 1.0000000:  10%|█         | 1/10 [00:29<04:25, 29.45s/it]\u001b[A\n",
            "Epoch 1, Loss: 1.0000000:  20%|██        | 2/10 [00:59<03:57, 29.71s/it]\u001b[A\n",
            "Epoch 1, Loss: 1.0000000:  30%|███       | 3/10 [01:28<03:27, 29.61s/it]\u001b[A\n",
            "Epoch 1, Loss: 1.0000000:  40%|████      | 4/10 [01:58<02:57, 29.65s/it]\u001b[A\n",
            "Epoch 1, Loss: 1.0000000:  50%|█████     | 5/10 [02:28<02:27, 29.60s/it]\u001b[A\n",
            "Epoch 1, Loss: 1.0000000:  60%|██████    | 6/10 [02:57<01:57, 29.49s/it]\u001b[A\n",
            "Epoch 1, Loss: 1.0000000:  70%|███████   | 7/10 [03:27<01:28, 29.66s/it]\u001b[A\n",
            "Epoch 1, Loss: 1.0000000:  80%|████████  | 8/10 [03:56<00:59, 29.63s/it]\u001b[A\n",
            "Epoch 1, Loss: 1.0000000:  90%|█████████ | 9/10 [04:26<00:29, 29.72s/it]\u001b[A\n",
            "Epoch 1, Loss: 1.0000000: 100%|██████████| 10/10 [04:56<00:00, 29.62s/it]\u001b[A\n",
            "Task   2:  20%|██        | 1/5 [05:20<21:23, 320.79s/it]\n",
            "Epoch 1, Loss: 1.0000000:   0%|          | 0/10 [00:00<?, ?it/s]\u001b[A\n",
            "Epoch 1, Loss: 1.0000000:  10%|█         | 1/10 [00:33<05:03, 33.71s/it]\u001b[A\n",
            "Epoch 1, Loss: 1.0000000:  20%|██        | 2/10 [01:07<04:31, 33.88s/it]\u001b[A\n",
            "Epoch 1, Loss: 1.0000000:  30%|███       | 3/10 [01:41<03:56, 33.77s/it]\u001b[A\n",
            "Epoch 1, Loss: 1.0000000:  40%|████      | 4/10 [02:15<03:22, 33.79s/it]\u001b[A\n",
            "Epoch 1, Loss: 1.0000000:  50%|█████     | 5/10 [02:48<02:48, 33.73s/it]\u001b[A\n",
            "Epoch 1, Loss: 1.0000000:  60%|██████    | 6/10 [03:22<02:14, 33.66s/it]\u001b[A\n",
            "Epoch 1, Loss: 1.0000000:  70%|███████   | 7/10 [03:55<01:40, 33.58s/it]\u001b[A\n",
            "Epoch 1, Loss: 1.0000000:  80%|████████  | 8/10 [04:29<01:06, 33.48s/it]\u001b[A\n",
            "Epoch 1, Loss: 1.0000000:  90%|█████████ | 9/10 [05:02<00:33, 33.51s/it]\u001b[A\n",
            "Epoch 1, Loss: 1.0000000: 100%|██████████| 10/10 [05:36<00:00, 33.57s/it]\u001b[A\n",
            "Task   3:  40%|████      | 2/5 [11:21<17:12, 344.23s/it]\n",
            "Epoch 1, Loss: 1.0000000:   0%|          | 0/10 [00:00<?, ?it/s]\u001b[A\n",
            "Epoch 1, Loss: 1.0000000:  10%|█         | 1/10 [00:37<05:36, 37.37s/it]\u001b[A\n",
            "Epoch 1, Loss: 1.0000000:  20%|██        | 2/10 [01:14<04:58, 37.36s/it]\u001b[A\n",
            "Epoch 1, Loss: 1.0000000:  30%|███       | 3/10 [01:52<04:22, 37.54s/it]\u001b[A\n",
            "Epoch 1, Loss: 1.0000000:  40%|████      | 4/10 [02:29<03:44, 37.45s/it]\u001b[A\n",
            "Epoch 1, Loss: 1.0000000:  50%|█████     | 5/10 [03:07<03:07, 37.48s/it]\u001b[A\n",
            "Epoch 1, Loss: 1.0000000:  60%|██████    | 6/10 [03:45<02:30, 37.60s/it]\u001b[A\n",
            "Epoch 1, Loss: 1.0000000:  70%|███████   | 7/10 [04:23<01:53, 37.79s/it]\u001b[A\n",
            "Epoch 1, Loss: 1.0000000:  80%|████████  | 8/10 [05:01<01:15, 38.00s/it]\u001b[A\n",
            "Epoch 1, Loss: 1.0000000:  90%|█████████ | 9/10 [05:39<00:37, 37.95s/it]\u001b[A\n",
            "Epoch 1, Loss: 1.0000000: 100%|██████████| 10/10 [06:17<00:00, 38.01s/it]\u001b[A\n",
            "Task   4:  60%|██████    | 3/5 [18:04<12:21, 370.90s/it]\n",
            "Epoch 1, Loss: 1.0000000:   0%|          | 0/10 [00:00<?, ?it/s]\u001b[A\n",
            "Epoch 1, Loss: 1.0000000:  10%|█         | 1/10 [00:41<06:12, 41.37s/it]\u001b[A\n",
            "Epoch 1, Loss: 1.0000000:  20%|██        | 2/10 [01:23<05:34, 41.85s/it]\u001b[A\n",
            "Epoch 1, Loss: 1.0000000:  30%|███       | 3/10 [02:05<04:52, 41.80s/it]\u001b[A\n",
            "Epoch 1, Loss: 1.0000000:  40%|████      | 4/10 [02:46<04:10, 41.73s/it]\u001b[A\n",
            "Epoch 1, Loss: 1.0000000:  50%|█████     | 5/10 [03:29<03:29, 41.86s/it]\u001b[A\n",
            "Epoch 1, Loss: 1.0000000:  60%|██████    | 6/10 [04:11<02:47, 41.91s/it]\u001b[A\n",
            "Epoch 1, Loss: 1.0000000:  70%|███████   | 7/10 [04:54<02:06, 42.28s/it]\u001b[A\n",
            "Epoch 1, Loss: 1.0000000:  80%|████████  | 8/10 [05:35<01:24, 42.14s/it]\u001b[A\n",
            "Epoch 1, Loss: 1.0000000:  90%|█████████ | 9/10 [06:18<00:42, 42.41s/it]\u001b[A\n",
            "Epoch 1, Loss: 1.0000000: 100%|██████████| 10/10 [07:00<00:00, 42.22s/it]\u001b[A\n",
            "Task   5:  80%|████████  | 4/5 [25:29<06:40, 400.43s/it]\n",
            "Epoch 1, Loss: 1.0000000:   0%|          | 0/10 [00:00<?, ?it/s]\u001b[A\n",
            "Epoch 1, Loss: 1.0000000:  10%|█         | 1/10 [00:46<06:56, 46.32s/it]\u001b[A\n",
            "Epoch 1, Loss: 1.0000000:  20%|██        | 2/10 [01:32<06:10, 46.36s/it]\u001b[A\n",
            "Epoch 1, Loss: 1.0000000:  30%|███       | 3/10 [02:18<05:23, 46.24s/it]\u001b[A\n",
            "Epoch 1, Loss: 1.0000000:  40%|████      | 4/10 [03:04<04:36, 46.11s/it]\u001b[A\n",
            "Epoch 1, Loss: 1.0000000:  50%|█████     | 5/10 [03:50<03:50, 46.00s/it]\u001b[A\n",
            "Epoch 1, Loss: 1.0000000:  60%|██████    | 6/10 [04:37<03:04, 46.18s/it]\u001b[A\n",
            "Epoch 1, Loss: 1.0000000:  70%|███████   | 7/10 [05:23<02:18, 46.27s/it]\u001b[A\n",
            "Epoch 1, Loss: 1.0000000:  80%|████████  | 8/10 [06:10<01:33, 46.52s/it]\u001b[A\n",
            "Epoch 1, Loss: 1.0000000:  90%|█████████ | 9/10 [06:56<00:46, 46.47s/it]\u001b[A\n",
            "Epoch 1, Loss: 1.0000000: 100%|██████████| 10/10 [07:43<00:00, 46.46s/it]\u001b[A\n",
            "Task   6: 100%|██████████| 5/5 [33:38<00:00, 403.65s/it]"
          ]
        },
        {
          "name": "stdout",
          "output_type": "stream",
          "text": [
            "[92.47, 94.63000000000001, 95.58, 96.14, 96.85000000000001, 97.06, 97.35000000000001, 97.47, 97.52, 97.66, 96.12, 96.365, 95.965, 96.39999999999999, 96.15, 96.12, 96.455, 96.735, 96.545, 96.515, 92.38, 90.89, 92.63, 92.38666666666666, 92.89999999999999, 92.8, 91.91333333333334, 92.58666666666667, 92.08666666666666, 92.27666666666666, 85.995, 86.5125, 84.705, 86.46249999999999, 85.6275, 85.60749999999999, 84.375, 85.4, 84.24000000000001, 86.05499999999999, 78.89800000000001, 79.95400000000001, 79.252, 80.35600000000001, 80.94999999999999, 79.57400000000001, 80.86399999999999, 80.34000000000002, 78.53999999999999, 78.44800000000001]\n",
            "==================================================================================================\n"
          ]
        },
        {
          "name": "stderr",
          "output_type": "stream",
          "text": [
            "\n"
          ]
        }
      ],
      "source": [
        "# RWalk\n",
        "print(\"RUN Rwalk\")\n",
        "model = Model()\n",
        "model = model.to(device)\n",
        "optimizer = torch.optim.Adam(model.parameters(), lr=args.lr)\n",
        "\n",
        "lll_object=rwalk(model=model, dataloader=None, epsilon=0.1, device=device)\n",
        "lll_lambda=100\n",
        "rwalk_acc = []\n",
        "task_bar = trange(len(train_dataloaders),desc=\"Task   1\")\n",
        "prev_guards = []\n",
        "\n",
        "for train_indexes in task_bar:\n",
        "  model, _, acc_list = train(model, optimizer, train_dataloaders[train_indexes], args.epochs_per_task, lll_object, lll_lambda, evaluate=evaluate,device=device, test_dataloaders=test_dataloaders[:train_indexes+1])\n",
        "  prev_guards.append(lll_object._precision_matrices)\n",
        "  lll_object=rwalk(model=model, dataloader=train_dataloaders[train_indexes], epsilon=0.1, device=device, prev_guards=prev_guards)\n",
        "  optimizer = torch.optim.Adam(model.parameters(), lr=args.lr)\n",
        "  rwalk_acc.extend(acc_list)\n",
        "  task_bar.set_description_str(f\"Task  {train_indexes+2:2}\")\n",
        "\n",
        "# average accuracy in each task per epoch!\n",
        "print(rwalk_acc)\n",
        "print(\"==================================================================================================\")"
      ]
    },
    {
      "attachments": {},
      "cell_type": "markdown",
      "metadata": {
        "id": "wcOnWF1lWFbg"
      },
      "source": [
        "### SCP\n",
        "Sliced Cramer Preservation\n",
        "\n",
        "Pseudo Code:\n",
        "<img src=\"https://i.ibb.co/QJycmNZ/2021-02-18-21-07.png\" width=\"100%\">"
      ]
    },
    {
      "cell_type": "code",
      "execution_count": null,
      "metadata": {
        "id": "jg_foxDpWFbg"
      },
      "outputs": [],
      "source": [
        "def sample_spherical(npoints, ndim=3):\n",
        "  vec = np.random.randn(ndim, npoints)\n",
        "  vec /= np.linalg.norm(vec, axis=0)\n",
        "  return torch.from_numpy(vec)\n",
        "\n",
        "class scp(object):\n",
        "  \"\"\"\n",
        "  OPEN REVIEW VERSION:\n",
        "  https://openreview.net/forum?id=BJge3TNKwH\n",
        "  \"\"\"\n",
        "  def __init__(self, model: nn.Module, dataloader, L: int, device, prev_guards=[None]):\n",
        "    self.model = model\n",
        "    self.dataloader = dataloader\n",
        "    self.params = {n: p for n, p in self.model.named_parameters() if p.requires_grad}\n",
        "    self._state_parameters = {}\n",
        "    self.L= L\n",
        "    self.device = device\n",
        "    self.previous_guards_list = prev_guards\n",
        "    self._precision_matrices = self.calculate_importance()\n",
        "    for n, p in self.params.items():\n",
        "      self._state_parameters[n] = p.clone().detach()\n",
        "\n",
        "  def calculate_importance(self):\n",
        "    precision_matrices = {}\n",
        "    for n, p in self.params.items():\n",
        "      precision_matrices[n] = p.clone().detach().fill_(0)\n",
        "      for i in range(len(self.previous_guards_list)):\n",
        "        if self.previous_guards_list[i]:\n",
        "          precision_matrices[n] += self.previous_guards_list[i][n]\n",
        "\n",
        "    self.model.eval()\n",
        "    if self.dataloader is not None:\n",
        "      num_data = len(self.dataloader)\n",
        "      for data in self.dataloader:\n",
        "        self.model.zero_grad()\n",
        "        output = self.model(data[0].to(self.device))\n",
        "\n",
        "        mean_vec = output.mean(dim=0)\n",
        "\n",
        "        L_vectors = sample_spherical(self.L, output.shape[-1])\n",
        "        L_vectors = L_vectors.transpose(1,0).to(self.device).float()\n",
        "\n",
        "        total_scalar = 0\n",
        "        for vec in L_vectors:\n",
        "          scalar=torch.matmul(vec, mean_vec)\n",
        "          total_scalar += scalar\n",
        "        total_scalar /= L_vectors.shape[0]\n",
        "        total_scalar.backward()\n",
        "\n",
        "        for n, p in self.model.named_parameters():\n",
        "          precision_matrices[n].data += p.grad**2 / num_data\n",
        "\n",
        "    precision_matrices = {n: p for n, p in precision_matrices.items()}\n",
        "    return precision_matrices\n",
        "\n",
        "  def penalty(self, model: nn.Module):\n",
        "    loss = 0\n",
        "    for n, p in model.named_parameters():\n",
        "      _loss = self._precision_matrices[n] * (p - self._state_parameters[n]) ** 2\n",
        "      loss += _loss.sum()\n",
        "    return loss\n",
        "\n",
        "  def update(self, model):\n",
        "    # do nothing\n",
        "    return"
      ]
    },
    {
      "cell_type": "code",
      "execution_count": null,
      "metadata": {
        "colab": {
          "base_uri": "https://localhost:8080/"
        },
        "id": "3FIQm7F3WFbg",
        "outputId": "96c1eb7c-b39b-4c5a-a197-89f124652462"
      },
      "outputs": [
        {
          "name": "stdout",
          "output_type": "stream",
          "text": [
            "RUN SLICE CRAMER PRESERVATION\n"
          ]
        },
        {
          "name": "stderr",
          "output_type": "stream",
          "text": [
            "Task   1:   0%|          | 0/5 [00:00<?, ?it/s]\n",
            "Epoch 1, Loss: 1.0000000:   0%|          | 0/10 [00:00<?, ?it/s]\u001b[A\n",
            "Epoch 1, Loss: 1.0000000:  10%|█         | 1/10 [00:30<04:32, 30.24s/it]\u001b[A\n",
            "Epoch 1, Loss: 1.0000000:  20%|██        | 2/10 [00:59<03:59, 29.90s/it]\u001b[A\n",
            "Epoch 1, Loss: 1.0000000:  30%|███       | 3/10 [01:29<03:28, 29.79s/it]\u001b[A\n",
            "Epoch 1, Loss: 1.0000000:  40%|████      | 4/10 [01:58<02:57, 29.55s/it]\u001b[A\n",
            "Epoch 1, Loss: 1.0000000:  50%|█████     | 5/10 [02:27<02:26, 29.31s/it]\u001b[A\n",
            "Epoch 1, Loss: 1.0000000:  60%|██████    | 6/10 [02:56<01:57, 29.28s/it]\u001b[A\n",
            "Epoch 1, Loss: 1.0000000:  70%|███████   | 7/10 [03:25<01:27, 29.09s/it]\u001b[A\n",
            "Epoch 1, Loss: 1.0000000:  80%|████████  | 8/10 [03:54<00:57, 28.98s/it]\u001b[A\n",
            "Epoch 1, Loss: 1.0000000:  90%|█████████ | 9/10 [04:23<00:29, 29.07s/it]\u001b[A\n",
            "Epoch 1, Loss: 1.0000000: 100%|██████████| 10/10 [04:52<00:00, 29.01s/it]\u001b[A\n",
            "Task   2:  20%|██        | 1/5 [05:19<21:18, 319.56s/it]\n",
            "Epoch 1, Loss: 1.0000000:   0%|          | 0/10 [00:00<?, ?it/s]\u001b[A\n",
            "Epoch 1, Loss: 1.0000000:  10%|█         | 1/10 [00:33<04:57, 33.09s/it]\u001b[A\n",
            "Epoch 1, Loss: 1.0000000:  20%|██        | 2/10 [01:06<04:24, 33.05s/it]\u001b[A\n",
            "Epoch 1, Loss: 1.0000000:  30%|███       | 3/10 [01:39<03:51, 33.06s/it]\u001b[A\n",
            "Epoch 1, Loss: 1.0000000:  40%|████      | 4/10 [02:11<03:17, 32.94s/it]\u001b[A\n",
            "Epoch 1, Loss: 1.0000000:  50%|█████     | 5/10 [02:46<02:47, 33.40s/it]\u001b[A\n",
            "Epoch 1, Loss: 1.0000000:  60%|██████    | 6/10 [03:20<02:14, 33.57s/it]\u001b[A\n",
            "Epoch 1, Loss: 1.0000000:  70%|███████   | 7/10 [03:53<01:40, 33.41s/it]\u001b[A\n",
            "Epoch 1, Loss: 1.0000000:  80%|████████  | 8/10 [04:26<01:06, 33.31s/it]\u001b[A\n",
            "Epoch 1, Loss: 1.0000000:  90%|█████████ | 9/10 [05:00<00:33, 33.60s/it]\u001b[A\n",
            "Epoch 1, Loss: 1.0000000: 100%|██████████| 10/10 [05:35<00:00, 34.08s/it]\u001b[A\n",
            "Task   3:  40%|████      | 2/5 [11:24<17:19, 346.37s/it]\n",
            "Epoch 1, Loss: 1.0000000:   0%|          | 0/10 [00:00<?, ?it/s]\u001b[A\n",
            "Epoch 1, Loss: 1.0000000:  10%|█         | 1/10 [00:39<05:55, 39.47s/it]\u001b[A\n",
            "Epoch 1, Loss: 1.0000000:  20%|██        | 2/10 [01:17<05:11, 38.90s/it]\u001b[A\n",
            "Epoch 1, Loss: 1.0000000:  30%|███       | 3/10 [01:56<04:30, 38.69s/it]\u001b[A\n",
            "Epoch 1, Loss: 1.0000000:  40%|████      | 4/10 [02:34<03:50, 38.46s/it]\u001b[A\n",
            "Epoch 1, Loss: 1.0000000:  50%|█████     | 5/10 [03:12<03:10, 38.17s/it]\u001b[A\n",
            "Epoch 1, Loss: 1.0000000:  60%|██████    | 6/10 [03:50<02:32, 38.08s/it]\u001b[A\n",
            "Epoch 1, Loss: 1.0000000:  70%|███████   | 7/10 [04:28<01:54, 38.21s/it]\u001b[A\n",
            "Epoch 1, Loss: 1.0000000:  80%|████████  | 8/10 [05:06<01:16, 38.25s/it]\u001b[A\n",
            "Epoch 1, Loss: 1.0000000:  90%|█████████ | 9/10 [05:45<00:38, 38.26s/it]\u001b[A\n",
            "Epoch 1, Loss: 1.0000000: 100%|██████████| 10/10 [06:23<00:00, 38.23s/it]\u001b[A\n",
            "Task   4:  60%|██████    | 3/5 [18:15<12:31, 375.68s/it]\n",
            "Epoch 1, Loss: 1.0000000:   0%|          | 0/10 [00:00<?, ?it/s]\u001b[A\n",
            "Epoch 1, Loss: 1.0000000:  10%|█         | 1/10 [00:41<06:13, 41.50s/it]\u001b[A\n",
            "Epoch 1, Loss: 1.0000000:  20%|██        | 2/10 [01:23<05:34, 41.76s/it]\u001b[A\n",
            "Epoch 1, Loss: 1.0000000:  30%|███       | 3/10 [02:05<04:52, 41.78s/it]\u001b[A\n",
            "Epoch 1, Loss: 1.0000000:  40%|████      | 4/10 [02:47<04:11, 41.93s/it]\u001b[A\n",
            "Epoch 1, Loss: 1.0000000:  50%|█████     | 5/10 [03:28<03:27, 41.50s/it]\u001b[A\n",
            "Epoch 1, Loss: 1.0000000:  60%|██████    | 6/10 [04:09<02:45, 41.31s/it]\u001b[A\n",
            "Epoch 1, Loss: 1.0000000:  70%|███████   | 7/10 [04:50<02:04, 41.35s/it]\u001b[A\n",
            "Epoch 1, Loss: 1.0000000:  80%|████████  | 8/10 [05:31<01:22, 41.14s/it]\u001b[A\n",
            "Epoch 1, Loss: 1.0000000:  90%|█████████ | 9/10 [06:12<00:41, 41.22s/it]\u001b[A\n",
            "Epoch 1, Loss: 1.0000000: 100%|██████████| 10/10 [06:53<00:00, 41.06s/it]\u001b[A\n",
            "Task   5:  80%|████████  | 4/5 [25:35<06:41, 401.17s/it]\n",
            "Epoch 1, Loss: 1.0000000:   0%|          | 0/10 [00:00<?, ?it/s]\u001b[A\n",
            "Epoch 1, Loss: 1.0000000:  10%|█         | 1/10 [00:45<06:48, 45.41s/it]\u001b[A\n",
            "Epoch 1, Loss: 1.0000000:  20%|██        | 2/10 [01:30<06:01, 45.16s/it]\u001b[A\n",
            "Epoch 1, Loss: 1.0000000:  30%|███       | 3/10 [02:15<05:15, 45.05s/it]\u001b[A\n",
            "Epoch 1, Loss: 1.0000000:  40%|████      | 4/10 [03:02<04:34, 45.77s/it]\u001b[A\n",
            "Epoch 1, Loss: 1.0000000:  50%|█████     | 5/10 [03:47<03:48, 45.71s/it]\u001b[A\n",
            "Epoch 1, Loss: 1.0000000:  60%|██████    | 6/10 [04:34<03:03, 45.89s/it]\u001b[A\n",
            "Epoch 1, Loss: 1.0000000:  70%|███████   | 7/10 [05:19<02:17, 45.88s/it]\u001b[A\n",
            "Epoch 1, Loss: 1.0000000:  80%|████████  | 8/10 [06:06<01:31, 45.98s/it]\u001b[A\n",
            "Epoch 1, Loss: 1.0000000:  90%|█████████ | 9/10 [06:52<00:46, 46.02s/it]\u001b[A\n",
            "Epoch 1, Loss: 1.0000000: 100%|██████████| 10/10 [07:37<00:00, 45.95s/it]\u001b[A\n",
            "Task   6: 100%|██████████| 5/5 [33:41<00:00, 404.23s/it]"
          ]
        },
        {
          "name": "stdout",
          "output_type": "stream",
          "text": [
            "[92.45, 94.71000000000001, 95.7, 96.39999999999999, 96.89999999999999, 96.95, 97.42, 97.64, 97.71, 97.97, 95.8, 95.565, 95.6, 95.555, 95.175, 95.57, 95.965, 95.73499999999999, 95.03999999999999, 96.05, 90.88666666666666, 90.06333333333333, 90.09666666666666, 88.50666666666666, 88.70333333333335, 90.06, 88.74, 88.54333333333332, 88.65333333333334, 88.93666666666667, 82.2425, 82.7925, 81.675, 82.075, 82.0675, 80.33500000000001, 81.9075, 82.0575, 81.05, 81.94, 76.764, 76.458, 77.19, 76.372, 76.59800000000001, 76.122, 77.416, 76.32600000000001, 77.01999999999998, 75.458]\n",
            "==================================================================================================\n"
          ]
        },
        {
          "name": "stderr",
          "output_type": "stream",
          "text": [
            "\n"
          ]
        }
      ],
      "source": [
        "# SCP\n",
        "print(\"RUN SLICE CRAMER PRESERVATION\")\n",
        "model = Model()\n",
        "model = model.to(device)\n",
        "optimizer = torch.optim.Adam(model.parameters(), lr=args.lr)\n",
        "\n",
        "lll_object=scp(model=model, dataloader=None, L=100, device=device)\n",
        "lll_lambda=100\n",
        "scp_acc= []\n",
        "task_bar = trange(len(train_dataloaders),desc=\"Task   1\")\n",
        "prev_guards = []\n",
        "\n",
        "for train_indexes in task_bar:\n",
        "  model, _, acc_list = train(model, optimizer, train_dataloaders[train_indexes], args.epochs_per_task, lll_object, lll_lambda, evaluate=evaluate,device=device, test_dataloaders=test_dataloaders[:train_indexes+1])\n",
        "  prev_guards.append(lll_object._precision_matrices)\n",
        "  lll_object=scp(model=model, dataloader=train_dataloaders[train_indexes], L=100, device=device, prev_guards=prev_guards)\n",
        "  optimizer = torch.optim.Adam(model.parameters(), lr=args.lr)\n",
        "  scp_acc.extend(acc_list)\n",
        "  task_bar.set_description_str(f\"Task  {train_indexes+2:2}\")\n",
        "\n",
        "# average accuracy in each task per epoch!\n",
        "print(scp_acc)\n",
        "print(\"==================================================================================================\")"
      ]
    },
    {
      "attachments": {},
      "cell_type": "markdown",
      "metadata": {
        "id": "h_BaIfqZWFbg"
      },
      "source": [
        "# Plot function"
      ]
    },
    {
      "cell_type": "code",
      "execution_count": null,
      "metadata": {
        "colab": {
          "base_uri": "https://localhost:8080/",
          "height": 430
        },
        "id": "WO0fR_drWFbg",
        "outputId": "6621a868-db67-4dd6-836b-bd22eee2c217"
      },
      "outputs": [
        {
          "data": {
            "image/png": "[encoded data removed]",
            "text/plain": [
              "<Figure size 640x480 with 1 Axes>"
            ]
          },
          "metadata": {},
          "output_type": "display_data"
        }
      ],
      "source": [
        "import matplotlib.pyplot as plt\n",
        "def draw_acc(acc_list, label_list):\n",
        "  for acc, label in zip(acc_list, label_list):\n",
        "    plt.plot(acc, marker='o', ls='--', lw=2, markersize=4, label=label)\n",
        "    plt.legend()\n",
        "  plt.savefig('acc_summary.png')\n",
        "  plt.show()\n",
        "\n",
        "acc_list = [baseline_acc, ewc_acc, mas_acc, si_acc, rwalk_acc, scp_acc]\n",
        "label_list = ['baseline', 'EWC', 'MAS', 'SI', 'RWALK', 'SCP']\n",
        "draw_acc(acc_list, label_list)"
      ]
    }
  ],
  "metadata": {
    "accelerator": "GPU",
    "colab": {
      "gpuType": "T4",
      "provenance": []
    },
    "kernelspec": {
      "display_name": "Python 3",
      "name": "python3"
    },
    "language_info": {
      "codemirror_mode": {
        "name": "ipython",
        "version": 3
      },
      "file_extension": ".py",
      "mimetype": "text/x-python",
      "name": "python",
      "nbconvert_exporter": "python",
      "pygments_lexer": "ipython3",
      "version": "3.6.4"
    }
  },
  "nbformat": 4,
  "nbformat_minor": 0
}
