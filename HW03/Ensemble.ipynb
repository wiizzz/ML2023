{
  "cells": [
    {
      "cell_type": "code",
      "execution_count": null,
      "metadata": {
        "id": "iI6p8KFYwzE_"
      },
      "outputs": [],
      "source": [
        "import pandas as pd\n",
        "df1 = pd.read_csv('model1.csv', index_col = 0)\n",
        "df2 = pd.read_csv('model2.csv', index_col = 0)\n",
        "df3 = pd.read_csv('model3.csv', index_col = 0)\n",
        "df4 = pd.read_csv('model4.csv', index_col = 0)\n",
        "df5 = pd.read_csv('model5.csv', index_col = 0)\n",
        "#Ensemble model 1 to 5 \n",
        "df_combine = pd.concat([df1, df2, df3, df4, df5],axis=1, )\n",
        "df_combine = df_combine.mode(axis=1).dropna(axis=1)\n",
        "df_combine = df_combine.astype('int32')\n",
        "df_combine.columns = ['Category']\n",
        "df_combine\n",
        "df_combine.to_csv('Ensemble.csv',index=True)"
      ]
    }
  ],
  "metadata": {
    "colab": {
      "provenance": []
    },
    "kernelspec": {
      "display_name": "Python 3",
      "name": "python3"
    },
    "language_info": {
      "name": "python"
    }
  },
  "nbformat": 4,
  "nbformat_minor": 0
}
